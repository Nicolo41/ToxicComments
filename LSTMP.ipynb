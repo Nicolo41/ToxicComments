{
 "cells": [
  {
   "cell_type": "code",
   "execution_count": 1,
   "metadata": {},
   "outputs": [],
   "source": [
    "import numpy as np\n",
    "import pandas as pd\n",
    "import matplotlib.pyplot as plt\n",
    "import tensorflow as tf\n",
    "import contractions\n",
    "\n",
    "\n",
    "from time import time\n",
    "import numpy as np\n",
    "import pandas as pd\n",
    "import tensorflow as tf\n",
    "\n",
    "# Import Regex to clean up tweets\n",
    "import re\n",
    "\n",
    "import nltk, string\n",
    "from nltk.corpus import stopwords\n",
    "from nltk.tokenize import word_tokenize\n",
    "\n",
    "# Get Reviews\n",
    "import requests\n",
    "import json\n",
    "\n",
    "# Get Tweets\n",
    "import httplib2\n",
    "import requests\n",
    "import urllib3\n",
    "\n",
    "# TF IDF Imports\n",
    "\n",
    "\n",
    "from sklearn.feature_extraction.text import TfidfVectorizer\n",
    "from sklearn.model_selection import train_test_split\n",
    "from scipy.sparse import csc_matrix\n",
    "from sklearn.ensemble import RandomForestClassifier\n",
    "from sklearn.metrics import classification_report, confusion_matrix, accuracy_score\n",
    "from joblib import dump, load\n",
    "\n",
    "# RNN & LSTM Imports\n",
    "\n",
    "from tensorflow.keras.preprocessing.sequence import pad_sequences\n",
    "from tensorflow.keras.layers import Embedding, LSTM, Dense, Dropout, Bidirectional\n",
    "from tensorflow.keras.preprocessing.text import Tokenizer\n",
    "from tensorflow.keras.models import Sequential\n",
    "from tensorflow.keras.optimizers import Adam\n",
    "from tensorflow.keras import regularizers\n",
    "\n",
    "# from tensorflow.keras.preprocessing.text import Tokenizer\n",
    "# from tensorflow.keras.preprocessing.sequence import pad_sequences\n",
    "import random"
   ]
  },
  {
   "cell_type": "code",
   "execution_count": 2,
   "metadata": {},
   "outputs": [],
   "source": [
    "df = pd.read_csv('./datasets/test_filtered_data.csv')"
   ]
  },
  {
   "cell_type": "code",
   "execution_count": 3,
   "metadata": {},
   "outputs": [],
   "source": [
    "embedding_dim = 100    # Dimensions used for glove6b100\n",
    "max_length = 25      # Maximum size of a tweet\n",
    "trunc_type='post'      # Truncates the tweet if it is longer than max_length\n",
    "padding_type='post'    # Adds padding to the end of the tweet if it is shorter than max_length\n",
    "oov_tok = \"<OOV>\"      # Token \"<OOV>\" replaces words that are not part of the vocabulary (Out Of Vocabulary)\n",
    "training_size=len(df)\n",
    "test_portion=.025"
   ]
  },
  {
   "cell_type": "code",
   "execution_count": 4,
   "metadata": {},
   "outputs": [],
   "source": [
    "comments = df['comment_text']\n",
    "y = df[['toxic', 'severe_toxic', 'obscene', 'threat', 'insult', 'identity_hate']]\n",
    "# y_binary = df['isToxic']"
   ]
  },
  {
   "cell_type": "code",
   "execution_count": 5,
   "metadata": {},
   "outputs": [],
   "source": [
    "X_train, X_test, y_train, y_test = train_test_split(comments, y, test_size=test_portion)"
   ]
  },
  {
   "cell_type": "code",
   "execution_count": 6,
   "metadata": {},
   "outputs": [],
   "source": [
    "tokenizer = Tokenizer(\n",
    "    # num_words=500,\n",
    "    filters='!\"#$%&()*+,-./:;<=>?@[\\\\]^_`{|}~\\t\\n',\n",
    "    lower=True,\n",
    "    split=' ',\n",
    "    oov_token=oov_tok,\n",
    ")"
   ]
  },
  {
   "cell_type": "code",
   "execution_count": 7,
   "metadata": {},
   "outputs": [],
   "source": [
    "tokenizer.fit_on_texts(X_train)\n",
    "tokenizer.fit_on_texts(X_test)\n"
   ]
  },
  {
   "cell_type": "code",
   "execution_count": 8,
   "metadata": {},
   "outputs": [],
   "source": [
    "sequences = tokenizer.texts_to_sequences(X_train)\n",
    "test_sequences = tokenizer.texts_to_sequences(X_test)"
   ]
  },
  {
   "cell_type": "code",
   "execution_count": 9,
   "metadata": {},
   "outputs": [],
   "source": [
    "padded_sequences = pad_sequences(sequences, maxlen=max_length, padding=padding_type, truncating=trunc_type)\n",
    "test_padded_sequences = pad_sequences(test_sequences, maxlen=max_length, padding=padding_type, truncating=trunc_type)"
   ]
  },
  {
   "cell_type": "code",
   "execution_count": 10,
   "metadata": {},
   "outputs": [],
   "source": [
    "word_index = tokenizer.word_index\n",
    "vocab_size = len(word_index)"
   ]
  },
  {
   "cell_type": "code",
   "execution_count": 11,
   "metadata": {},
   "outputs": [
    {
     "name": "stderr",
     "output_type": "stream",
     "text": [
      "2024-02-26 18:46:10.794918: I metal_plugin/src/device/metal_device.cc:1154] Metal device set to: Apple M2 Pro\n",
      "2024-02-26 18:46:10.794946: I metal_plugin/src/device/metal_device.cc:296] systemMemory: 16.00 GB\n",
      "2024-02-26 18:46:10.794950: I metal_plugin/src/device/metal_device.cc:313] maxCacheSize: 5.33 GB\n",
      "2024-02-26 18:46:10.794989: I tensorflow/core/common_runtime/pluggable_device/pluggable_device_factory.cc:306] Could not identify NUMA node of platform GPU ID 0, defaulting to 0. Your kernel may not have been built with NUMA support.\n",
      "2024-02-26 18:46:10.795003: I tensorflow/core/common_runtime/pluggable_device/pluggable_device_factory.cc:272] Created TensorFlow device (/job:localhost/replica:0/task:0/device:GPU:0 with 0 MB memory) -> physical PluggableDevice (device: 0, name: METAL, pci bus id: <undefined>)\n"
     ]
    }
   ],
   "source": [
    "input_dimension = vocab_size + 1\n",
    "\n",
    "model = Sequential()\n",
    "model.add(Embedding(input_dim=input_dimension, output_dim=embedding_dim, input_length=max_length))\n",
    "model.add(LSTM(64))\n",
    "model.add(Dense(6, activation='sigmoid')) \n"
   ]
  },
  {
   "cell_type": "code",
   "execution_count": 12,
   "metadata": {},
   "outputs": [],
   "source": [
    "model.compile(loss='binary_crossentropy', optimizer='adam', metrics=['accuracy']) "
   ]
  },
  {
   "cell_type": "code",
   "execution_count": 13,
   "metadata": {},
   "outputs": [
    {
     "name": "stdout",
     "output_type": "stream",
     "text": [
      "Epoch 1/15\n"
     ]
    },
    {
     "name": "stderr",
     "output_type": "stream",
     "text": [
      "2024-02-26 18:46:11.517972: I tensorflow/core/grappler/optimizers/custom_graph_optimizer_registry.cc:117] Plugin optimizer for device_type GPU is enabled.\n"
     ]
    },
    {
     "name": "stdout",
     "output_type": "stream",
     "text": [
      "229/229 [==============================] - 7s 27ms/step - loss: 0.0039 - accuracy: 0.8735 - val_loss: 0.1493 - val_accuracy: 0.9947\n",
      "Epoch 2/15\n",
      "229/229 [==============================] - 4s 20ms/step - loss: 0.0031 - accuracy: 0.7892 - val_loss: 0.1498 - val_accuracy: 0.9947\n",
      "Epoch 3/15\n",
      "229/229 [==============================] - 4s 19ms/step - loss: 0.0031 - accuracy: 0.6706 - val_loss: 0.1336 - val_accuracy: 0.7307\n",
      "Epoch 4/15\n",
      "229/229 [==============================] - 4s 18ms/step - loss: 0.0023 - accuracy: 0.7204 - val_loss: 0.0845 - val_accuracy: 0.0720\n",
      "Epoch 5/15\n",
      "229/229 [==============================] - 4s 18ms/step - loss: 0.0016 - accuracy: 0.8401 - val_loss: 0.0802 - val_accuracy: 0.1280\n",
      "Epoch 6/15\n",
      "229/229 [==============================] - 4s 19ms/step - loss: 0.0012 - accuracy: 0.7637 - val_loss: 0.0740 - val_accuracy: 0.9733\n",
      "Epoch 7/15\n",
      "229/229 [==============================] - 4s 18ms/step - loss: 9.7729e-04 - accuracy: 0.9543 - val_loss: 0.0713 - val_accuracy: 0.9573\n",
      "Epoch 8/15\n",
      "229/229 [==============================] - 4s 18ms/step - loss: 8.7885e-04 - accuracy: 0.8855 - val_loss: 0.0769 - val_accuracy: 0.9707\n",
      "Epoch 9/15\n",
      "229/229 [==============================] - 4s 18ms/step - loss: 7.9429e-04 - accuracy: 0.9105 - val_loss: 0.0806 - val_accuracy: 0.8853\n",
      "Epoch 10/15\n",
      "229/229 [==============================] - 4s 18ms/step - loss: 7.1487e-04 - accuracy: 0.9254 - val_loss: 0.0909 - val_accuracy: 0.9547\n",
      "Epoch 11/15\n",
      "229/229 [==============================] - 4s 18ms/step - loss: 6.5943e-04 - accuracy: 0.9374 - val_loss: 0.0852 - val_accuracy: 0.9467\n",
      "Epoch 12/15\n",
      "229/229 [==============================] - 4s 18ms/step - loss: 5.7235e-04 - accuracy: 0.8979 - val_loss: 0.0929 - val_accuracy: 0.9280\n",
      "Epoch 13/15\n",
      "229/229 [==============================] - 4s 17ms/step - loss: 4.8507e-04 - accuracy: 0.9005 - val_loss: 0.0921 - val_accuracy: 0.9013\n",
      "Epoch 14/15\n",
      "229/229 [==============================] - 4s 18ms/step - loss: 3.9751e-04 - accuracy: 0.9455 - val_loss: 0.0955 - val_accuracy: 0.9387\n",
      "Epoch 15/15\n",
      "229/229 [==============================] - 4s 18ms/step - loss: 3.4017e-04 - accuracy: 0.9250 - val_loss: 0.1130 - val_accuracy: 0.9307\n",
      "Training Complete\n"
     ]
    }
   ],
   "source": [
    "from sklearn.utils.class_weight import compute_sample_weight\n",
    "\n",
    "sample_weights = compute_sample_weight(class_weight='balanced', y=y_train)\n",
    "\n",
    "\n",
    "class_weights = dict(enumerate(sample_weights))\n",
    "\n",
    "history = model.fit(\n",
    "    padded_sequences, \n",
    "    y_train, \n",
    "    epochs=15, \n",
    "    validation_data=(test_padded_sequences, y_test),\n",
    "    class_weight=class_weights,\n",
    "    batch_size=64\n",
    ")\n",
    "print(\"Training Complete\")"
   ]
  },
  {
   "cell_type": "code",
   "execution_count": 14,
   "metadata": {},
   "outputs": [
    {
     "data": {
      "image/png": "[encoded data removed]",
      "text/plain": [
       "<Figure size 640x480 with 1 Axes>"
      ]
     },
     "metadata": {},
     "output_type": "display_data"
    },
    {
     "data": {
      "text/plain": [
       "<Figure size 640x480 with 0 Axes>"
      ]
     },
     "metadata": {},
     "output_type": "display_data"
    },
    {
     "data": {
      "image/png": "[encoded data removed]",
      "text/plain": [
       "<Figure size 640x480 with 1 Axes>"
      ]
     },
     "metadata": {},
     "output_type": "display_data"
    },
    {
     "data": {
      "text/plain": [
       "<Figure size 640x480 with 0 Axes>"
      ]
     },
     "metadata": {},
     "output_type": "display_data"
    }
   ],
   "source": [
    "import matplotlib.image  as mpimg\n",
    "import matplotlib.pyplot as plt\n",
    "\n",
    "\n",
    "#-----------------------------------------------------------\n",
    "# Retrieve a list of list results on training and test data\n",
    "# sets for each training epoch\n",
    "#-----------------------------------------------------------\n",
    "acc=history.history['accuracy']\n",
    "val_acc=history.history['val_accuracy']\n",
    "loss=history.history['loss']\n",
    "val_loss=history.history['val_loss']\n",
    "\n",
    "epochs=range(len(acc)) # Get number of epochs\n",
    "\n",
    "#------------------------------------------------\n",
    "# Plot training and validation accuracy per epoch\n",
    "#------------------------------------------------\n",
    "plt.plot(epochs, acc, 'r')\n",
    "plt.plot(epochs, val_acc, 'b')\n",
    "plt.title('Training and validation accuracy')\n",
    "plt.xlabel(\"Epochs\")\n",
    "plt.ylabel(\"Accuracy\")\n",
    "plt.legend([\"Accuracy\", \"Validation Accuracy\"])\n",
    "\n",
    "plt.figure()\n",
    "plt.show()\n",
    "\n",
    "#------------------------------------------------\n",
    "# Plot training and validation loss per epoch\n",
    "#------------------------------------------------\n",
    "plt.plot(epochs, loss, 'r')\n",
    "plt.plot(epochs, val_loss, 'b')\n",
    "plt.title('Training and validation loss')\n",
    "plt.xlabel(\"Epochs\")\n",
    "plt.ylabel(\"Loss\")\n",
    "plt.legend([\"Loss\", \"Validation Loss\"])\n",
    "\n",
    "plt.figure()\n",
    "plt.show()"
   ]
  },
  {
   "cell_type": "code",
   "execution_count": 15,
   "metadata": {},
   "outputs": [],
   "source": [
    "def get_indices_above_threshold(pred, threshold=0.5):\n",
    "    indices = [index for index, value in enumerate(pred) if value > threshold]\n",
    "    return indices"
   ]
  },
  {
   "cell_type": "code",
   "execution_count": 16,
   "metadata": {},
   "outputs": [],
   "source": [
    "i = 0"
   ]
  },
  {
   "cell_type": "code",
   "execution_count": 20,
   "metadata": {},
   "outputs": [
    {
     "name": "stdout",
     "output_type": "stream",
     "text": [
      "['poop pee toot fart gas diareah zoey poop she stinks want marry baby call stop deleting this']\n",
      "[[3216, 9476, 18468, 11109, 3253, 18469, 18470, 3216, 760, 8999, 37, 8283, 2209, 360, 85, 496, 19]]\n",
      "1/1 [==============================] - 0s 14ms/step\n",
      "[[0.7043774  0.00639479 0.10227437 0.03093655 0.10850668 0.04751027]]\n",
      "Unnamed: 0                                                   60782\n",
      "id                                                a2b4567e40d34e72\n",
      "comment_text     poop pee toot fart gas diareah zoey poop she s...\n",
      "toxic                                                            1\n",
      "severe_toxic                                                     0\n",
      "obscene                                                          0\n",
      "threat                                                           0\n",
      "insult                                                           1\n",
      "identity_hate                                                    0\n",
      "isToxic                                                          1\n",
      "Name: 14, dtype: object\n"
     ]
    }
   ],
   "source": [
    "ph = df[df['isToxic'] == 1].iloc[i]\n",
    "\n",
    "phrase = [ph['comment_text']]\n",
    "print(phrase)\n",
    "\n",
    "tokenizer.fit_on_texts(phrase)\n",
    "sequences_phrase = tokenizer.texts_to_sequences(phrase)\n",
    "print(sequences_phrase)\n",
    "padded_sequences_phrase = pad_sequences(sequences_phrase, maxlen=max_length, padding=padding_type, truncating=trunc_type)\n",
    "\n",
    "print(model.predict(padded_sequences_phrase))\n",
    "i += 1\n",
    "\n",
    "print(ph)\n"
   ]
  },
  {
   "cell_type": "code",
   "execution_count": 18,
   "metadata": {},
   "outputs": [
    {
     "name": "stdout",
     "output_type": "stream",
     "text": [
      "<OOV>\n"
     ]
    }
   ],
   "source": [
    "# Inverser le dictionnaire de mots\n",
    "reverse_word_index = dict([(value, key) for (key, value) in tokenizer.word_index.items()])\n",
    "\n",
    "# Récupérer le mot pour l'ID 1\n",
    "word = reverse_word_index.get(1)\n",
    "print(word)"
   ]
  }
 ],
 "metadata": {
  "kernelspec": {
   "display_name": "AI",
   "language": "python",
   "name": "python3"
  },
  "language_info": {
   "codemirror_mode": {
    "name": "ipython",
    "version": 3
   },
   "file_extension": ".py",
   "mimetype": "text/x-python",
   "name": "python",
   "nbconvert_exporter": "python",
   "pygments_lexer": "ipython3",
   "version": "3.11.5"
  }
 },
 "nbformat": 4,
 "nbformat_minor": 2
}
