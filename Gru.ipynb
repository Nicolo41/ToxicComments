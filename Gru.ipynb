{
 "cells": [
  {
   "cell_type": "code",
   "execution_count": 1,
   "metadata": {},
   "outputs": [
    {
     "name": "stderr",
     "output_type": "stream",
     "text": [
      "2024-03-12 22:27:24.401434: I tensorflow/core/util/port.cc:113] oneDNN custom operations are on. You may see slightly different numerical results due to floating-point round-off errors from different computation orders. To turn them off, set the environment variable `TF_ENABLE_ONEDNN_OPTS=0`.\n",
      "2024-03-12 22:27:24.429663: E external/local_xla/xla/stream_executor/cuda/cuda_dnn.cc:9261] Unable to register cuDNN factory: Attempting to register factory for plugin cuDNN when one has already been registered\n",
      "2024-03-12 22:27:24.429697: E external/local_xla/xla/stream_executor/cuda/cuda_fft.cc:607] Unable to register cuFFT factory: Attempting to register factory for plugin cuFFT when one has already been registered\n",
      "2024-03-12 22:27:24.430603: E external/local_xla/xla/stream_executor/cuda/cuda_blas.cc:1515] Unable to register cuBLAS factory: Attempting to register factory for plugin cuBLAS when one has already been registered\n",
      "2024-03-12 22:27:24.435948: I tensorflow/core/platform/cpu_feature_guard.cc:182] This TensorFlow binary is optimized to use available CPU instructions in performance-critical operations.\n",
      "To enable the following instructions: AVX2 AVX_VNNI FMA, in other operations, rebuild TensorFlow with the appropriate compiler flags.\n",
      "2024-03-12 22:27:25.118816: W tensorflow/compiler/tf2tensorrt/utils/py_utils.cc:38] TF-TRT Warning: Could not find TensorRT\n"
     ]
    }
   ],
   "source": [
    "import numpy as np\n",
    "import pandas as pd\n",
    "import matplotlib.pyplot as plt\n",
    "import tensorflow as tf\n",
    "import contractions\n",
    "\n",
    "\n",
    "from time import time\n",
    "import numpy as np\n",
    "import pandas as pd\n",
    "import tensorflow as tf\n",
    "\n",
    "# Import Regex to clean up tweets\n",
    "import re\n",
    "\n",
    "import nltk, string\n",
    "from nltk.corpus import stopwords\n",
    "from nltk.tokenize import word_tokenize\n",
    "\n",
    "# Get Reviews\n",
    "import requests\n",
    "import json\n",
    "\n",
    "# Get Tweets\n",
    "import httplib2\n",
    "import requests\n",
    "import urllib3\n",
    "\n",
    "# TF IDF Imports\n",
    "\n",
    "\n",
    "from sklearn.feature_extraction.text import TfidfVectorizer\n",
    "from sklearn.model_selection import train_test_split\n",
    "from scipy.sparse import csc_matrix\n",
    "from sklearn.ensemble import RandomForestClassifier\n",
    "from sklearn.metrics import classification_report, confusion_matrix, accuracy_score\n",
    "from joblib import dump, load\n",
    "\n",
    "# RNN & LSTM Imports\n",
    "\n",
    "from tensorflow.keras.preprocessing.sequence import pad_sequences\n",
    "from tensorflow.keras.layers import Embedding, LSTM, Dense, Dropout, Bidirectional, BatchNormalization\n",
    "from tensorflow.keras.preprocessing.text import Tokenizer\n",
    "from tensorflow.keras.models import Sequential\n",
    "from tensorflow.keras.optimizers import Adam\n",
    "from tensorflow.keras import regularizers\n",
    "\n",
    "# from tensorflow.keras.preprocessing.text import Tokenizer\n",
    "# from tensorflow.keras.preprocessing.sequence import pad_sequences\n",
    "import random"
   ]
  },
  {
   "cell_type": "code",
   "execution_count": 63,
   "metadata": {},
   "outputs": [],
   "source": [
    "df = pd.read_csv('./datasets/test_filtered_data.csv')"
   ]
  },
  {
   "cell_type": "code",
   "execution_count": 64,
   "metadata": {},
   "outputs": [],
   "source": [
    "embedding_dim = 300    # Dimensions used for glove6b100\n",
    "max_length = 100   # Maximum size of a tweet\n",
    "trunc_type='post'      # Truncates the tweet if it is longer than max_length\n",
    "padding_type='post'    # Adds padding to the end of the tweet if it is shorter than max_length\n",
    "oov_tok = \"<OOV>\"      # Token \"<OOV>\" replaces words that are not part of the vocabulary (Out Of Vocabulary)\n",
    "training_size=len(df)\n",
    "test_portion=.2"
   ]
  },
  {
   "cell_type": "code",
   "execution_count": 65,
   "metadata": {},
   "outputs": [],
   "source": [
    "comments = df['comment_text']\n",
    "# y = df[['toxic', 'severe_toxic', 'obscene', 'threat', 'insult', 'identity_hate', 'isToxic']]\n",
    "y = df['isToxic']"
   ]
  },
  {
   "cell_type": "code",
   "execution_count": 66,
   "metadata": {},
   "outputs": [],
   "source": [
    "X_train, X_test, y_train, y_test = train_test_split(comments, y, test_size=test_portion)"
   ]
  },
  {
   "cell_type": "code",
   "execution_count": 67,
   "metadata": {},
   "outputs": [],
   "source": [
    "# y_train_isToxic = y_train['isToxic']\n",
    "# y_train = y_train.drop(columns=['isToxic'])\n",
    "\n",
    "# y_test_isToxic = y_test['isToxic']\n",
    "# y_test = y_test.drop(columns=['isToxic'])"
   ]
  },
  {
   "cell_type": "code",
   "execution_count": 68,
   "metadata": {},
   "outputs": [],
   "source": [
    "tokenizer = Tokenizer(\n",
    "    filters='!\"#$%&()*+,-./:;<=>?@[\\\\]^_`{|}~\\t\\n',\n",
    "    lower=True,\n",
    "    split=' ',\n",
    "    oov_token=oov_tok,\n",
    ")"
   ]
  },
  {
   "cell_type": "code",
   "execution_count": 69,
   "metadata": {},
   "outputs": [],
   "source": [
    "tokenizer.fit_on_texts(X_train)\n",
    "tokenizer.fit_on_texts(X_test)\n"
   ]
  },
  {
   "cell_type": "code",
   "execution_count": 70,
   "metadata": {},
   "outputs": [],
   "source": [
    "sequences = tokenizer.texts_to_sequences(X_train)\n",
    "test_sequences = tokenizer.texts_to_sequences(X_test)"
   ]
  },
  {
   "cell_type": "code",
   "execution_count": 71,
   "metadata": {},
   "outputs": [],
   "source": [
    "padded_sequences = pad_sequences(sequences, maxlen=max_length, padding=padding_type, truncating=trunc_type)\n",
    "test_padded_sequences = pad_sequences(test_sequences, maxlen=max_length, padding=padding_type, truncating=trunc_type)"
   ]
  },
  {
   "cell_type": "code",
   "execution_count": null,
   "metadata": {},
   "outputs": [],
   "source": []
  },
  {
   "cell_type": "code",
   "execution_count": 72,
   "metadata": {},
   "outputs": [],
   "source": [
    "word_index = tokenizer.word_index\n",
    "vocab_size = len(word_index)"
   ]
  },
  {
   "cell_type": "code",
   "execution_count": 73,
   "metadata": {},
   "outputs": [
    {
     "name": "stdout",
     "output_type": "stream",
     "text": [
      "Found 2196016 word vectors.\n"
     ]
    }
   ],
   "source": [
    "\n",
    "embeddings_index = {}\n",
    "f = open('./Glove/glove.840B.300d.txt','r',encoding='utf-8')\n",
    "for line in f:\n",
    "    values = line.split(' ')\n",
    "    word = values[0]\n",
    "    coefs = np.asarray([float(val) for val in values[1:]])\n",
    "    embeddings_index[word] = coefs\n",
    "f.close()\n",
    "\n",
    "print('Found %s word vectors.' % len(embeddings_index))"
   ]
  },
  {
   "cell_type": "code",
   "execution_count": 74,
   "metadata": {},
   "outputs": [],
   "source": [
    "# create an embedding matrix for the words we have in the dataset\n",
    "embedding_matrix = np.zeros((len(word_index) + 1, 300))\n",
    "for word, i in word_index.items():\n",
    "    embedding_vector = embeddings_index.get(word)\n",
    "    if embedding_vector is not None:\n",
    "        embedding_matrix[i] = embedding_vector"
   ]
  },
  {
   "cell_type": "code",
   "execution_count": 100,
   "metadata": {},
   "outputs": [],
   "source": [
    "from tensorflow.keras.layers import SpatialDropout1D, GRU\n",
    "input_dimension = vocab_size + 1\n",
    "\n",
    "model = Sequential()\n",
    "model.add(Embedding(input_dimension, 300, weights=[embedding_matrix], input_length=max_length, trainable=False))\n",
    "model.add(SpatialDropout1D(0.3))\n",
    "model.add(GRU(300))\n",
    "model.add(Dropout(0.3))\n",
    "model.add(BatchNormalization())\n",
    "model.add(Dense(6, activation='relu'))\n",
    "model.add(Dropout(0.3))\n",
    "model.add(BatchNormalization())\n",
    "model.add(Dense(1, activation='sigmoid'))"
   ]
  },
  {
   "cell_type": "code",
   "execution_count": 101,
   "metadata": {},
   "outputs": [],
   "source": [
    "model.compile(loss='binary_crossentropy', optimizer='adam', metrics=['accuracy']) "
   ]
  },
  {
   "cell_type": "code",
   "execution_count": 102,
   "metadata": {},
   "outputs": [],
   "source": [
    "from sklearn.utils import compute_sample_weight\n",
    "\n",
    "sample_weights = compute_sample_weight(class_weight='balanced', y=y_train)\n",
    "# sample_weights[y_train_isToxic == 1] *= 1.5"
   ]
  },
  {
   "cell_type": "code",
   "execution_count": 103,
   "metadata": {},
   "outputs": [
    {
     "name": "stdout",
     "output_type": "stream",
     "text": [
      "Epoch 1/10\n",
      "94/94 [==============================] - 27s 275ms/step - loss: 0.7784 - accuracy: 0.4353 - val_loss: 0.5440 - val_accuracy: 0.8856\n",
      "Epoch 2/10\n",
      "94/94 [==============================] - 27s 284ms/step - loss: 0.6451 - accuracy: 0.6282 - val_loss: 1.1119 - val_accuracy: 0.7949\n",
      "Epoch 3/10\n",
      "94/94 [==============================] - 28s 294ms/step - loss: 0.5415 - accuracy: 0.7412 - val_loss: 0.4474 - val_accuracy: 0.8620\n",
      "Epoch 4/10\n",
      "94/94 [==============================] - 28s 301ms/step - loss: 0.5129 - accuracy: 0.8037 - val_loss: 0.4070 - val_accuracy: 0.8623\n",
      "Epoch 5/10\n",
      "94/94 [==============================] - 27s 287ms/step - loss: 0.5034 - accuracy: 0.9253 - val_loss: 0.3377 - val_accuracy: 0.9420\n",
      "Epoch 6/10\n",
      "94/94 [==============================] - 29s 306ms/step - loss: 0.4736 - accuracy: 0.9298 - val_loss: 0.3126 - val_accuracy: 0.9476\n",
      "Epoch 7/10\n",
      "94/94 [==============================] - 27s 286ms/step - loss: 0.4478 - accuracy: 0.9347 - val_loss: 0.2650 - val_accuracy: 0.9450\n",
      "Epoch 8/10\n",
      "94/94 [==============================] - 28s 299ms/step - loss: 0.4039 - accuracy: 0.9276 - val_loss: 0.3753 - val_accuracy: 0.9503\n",
      "Epoch 9/10\n",
      "94/94 [==============================] - 27s 287ms/step - loss: 0.4240 - accuracy: 0.9302 - val_loss: 0.1594 - val_accuracy: 0.9530\n",
      "Epoch 10/10\n",
      "94/94 [==============================] - 26s 279ms/step - loss: 0.3700 - accuracy: 0.9075 - val_loss: 0.4741 - val_accuracy: 0.9296\n",
      "Training Complete\n"
     ]
    }
   ],
   "source": [
    "history = model.fit(\n",
    "    padded_sequences, \n",
    "    y_train, \n",
    "    epochs=10, \n",
    "    validation_data=(test_padded_sequences, y_test),\n",
    "    sample_weight=sample_weights,\n",
    "    batch_size=128\n",
    ")\n",
    "print(\"Training Complete\")"
   ]
  },
  {
   "cell_type": "code",
   "execution_count": 104,
   "metadata": {},
   "outputs": [
    {
     "data": {
      "image/png": "[encoded data removed]",
      "text/plain": [
       "<Figure size 640x480 with 1 Axes>"
      ]
     },
     "metadata": {},
     "output_type": "display_data"
    },
    {
     "data": {
      "text/plain": [
       "<Figure size 640x480 with 0 Axes>"
      ]
     },
     "metadata": {},
     "output_type": "display_data"
    },
    {
     "data": {
      "image/png": "[encoded data removed]",
      "text/plain": [
       "<Figure size 640x480 with 1 Axes>"
      ]
     },
     "metadata": {},
     "output_type": "display_data"
    },
    {
     "data": {
      "text/plain": [
       "<Figure size 640x480 with 0 Axes>"
      ]
     },
     "metadata": {},
     "output_type": "display_data"
    }
   ],
   "source": [
    "import matplotlib.image  as mpimg\n",
    "import matplotlib.pyplot as plt\n",
    "\n",
    "\n",
    "#-----------------------------------------------------------\n",
    "# Retrieve a list of list results on training and test data\n",
    "# sets for each training epoch\n",
    "#-----------------------------------------------------------\n",
    "acc=history.history['accuracy']\n",
    "val_acc=history.history['val_accuracy']\n",
    "loss=history.history['loss']\n",
    "val_loss=history.history['val_loss']\n",
    "\n",
    "epochs=range(len(acc)) # Get number of epochs\n",
    "\n",
    "#------------------------------------------------\n",
    "# Plot training and validation accuracy per epoch\n",
    "#------------------------------------------------\n",
    "plt.plot(epochs, acc, 'r')\n",
    "plt.plot(epochs, val_acc, 'b')\n",
    "plt.title('Training and validation accuracy')\n",
    "plt.xlabel(\"Epochs\")\n",
    "plt.ylabel(\"Accuracy\")\n",
    "plt.legend([\"Accuracy\", \"Validation Accuracy\"])\n",
    "\n",
    "plt.figure()\n",
    "plt.show()\n",
    "\n",
    "#------------------------------------------------\n",
    "# Plot training and validation loss per epoch\n",
    "#------------------------------------------------\n",
    "plt.plot(epochs, loss, 'r')\n",
    "plt.plot(epochs, val_loss, 'b')\n",
    "plt.title('Training and validation loss')\n",
    "plt.xlabel(\"Epochs\")\n",
    "plt.ylabel(\"Loss\")\n",
    "plt.legend([\"Loss\", \"Validation Loss\"])\n",
    "\n",
    "plt.figure()\n",
    "plt.show()"
   ]
  },
  {
   "cell_type": "code",
   "execution_count": 105,
   "metadata": {},
   "outputs": [],
   "source": [
    "def get_indices_above_threshold(pred, threshold=0.5):\n",
    "    indices = [index for index, value in enumerate(pred) if value > threshold]\n",
    "    return indices"
   ]
  },
  {
   "cell_type": "code",
   "execution_count": 106,
   "metadata": {},
   "outputs": [],
   "source": [
    "i = 0"
   ]
  },
  {
   "cell_type": "code",
   "execution_count": 192,
   "metadata": {},
   "outputs": [
    {
     "name": "stdout",
     "output_type": "stream",
     "text": [
      "['just wanted make sure saw answer notoriass joke because really want annoy useless little turd and iwe intend much careful wish bitch']\n",
      "[[263, 400, 29, 105, 565, 387, 16167, 1267, 557, 60, 38, 6099, 1724, 154, 10336, 24, 9840, 2135, 56, 1404, 441, 807]]\n",
      "1/1 [==============================] - 0s 18ms/step\n",
      "[[0.26206014]]\n",
      "Unnamed: 0                                                  120294\n",
      "id                                                835b0797f9a201a0\n",
      "comment_text     just wanted make sure saw answer notoriass jok...\n",
      "toxic                                                            1\n",
      "severe_toxic                                                     0\n",
      "obscene                                                          1\n",
      "threat                                                           0\n",
      "insult                                                           1\n",
      "identity_hate                                                    0\n",
      "isToxic                                                          1\n",
      "Name: 846, dtype: object\n"
     ]
    }
   ],
   "source": [
    "ph = df[df['isToxic'] == 1].iloc[i]\n",
    "\n",
    "phrase = [ph['comment_text']]\n",
    "print(phrase)\n",
    "\n",
    "tokenizer.fit_on_texts(phrase)\n",
    "sequences_phrase = tokenizer.texts_to_sequences(phrase)\n",
    "print(sequences_phrase)\n",
    "padded_sequences_phrase = pad_sequences(sequences_phrase, maxlen=max_length, padding=padding_type, truncating=trunc_type)\n",
    "\n",
    "pred = model.predict(padded_sequences_phrase)\n",
    "print(pred)\n",
    "# print(\"------\")\n",
    "# if (pred[0][0] > 0.5):\n",
    "#     print(\"Toxic\")\n",
    "# if (pred[0][1] > 0.5):\n",
    "#     print(\"Severe Toxic\")\n",
    "# if (pred[0][2] > 0.5):\n",
    "#     print(\"Obscene\")\n",
    "# if (pred[0][3] > 0.5):\n",
    "#     print(\"Threat\")\n",
    "# if (pred[0][4] > 0.5):\n",
    "#     print(\"Insult\")\n",
    "# if (pred[0][5] > 0.5):\n",
    "#     print(\"Identity Hate\")\n",
    "# print(\"------\")\n",
    "\n",
    "\n",
    "i += 1\n",
    "\n",
    "print(ph)\n"
   ]
  },
  {
   "cell_type": "code",
   "execution_count": 83,
   "metadata": {},
   "outputs": [
    {
     "name": "stdout",
     "output_type": "stream",
     "text": [
      "<OOV>\n"
     ]
    }
   ],
   "source": [
    "# Inverser le dictionnaire de mots\n",
    "reverse_word_index = dict([(value, key) for (key, value) in tokenizer.word_index.items()])\n",
    "\n",
    "# Récupérer le mot pour l'ID 1\n",
    "word = reverse_word_index.get(1)\n",
    "print(word)"
   ]
  }
 ],
 "metadata": {
  "kernelspec": {
   "display_name": "AI",
   "language": "python",
   "name": "python3"
  },
  "language_info": {
   "codemirror_mode": {
    "name": "ipython",
    "version": 3
   },
   "file_extension": ".py",
   "mimetype": "text/x-python",
   "name": "python",
   "nbconvert_exporter": "python",
   "pygments_lexer": "ipython3",
   "version": "3.11.5"
  }
 },
 "nbformat": 4,
 "nbformat_minor": 2
}
