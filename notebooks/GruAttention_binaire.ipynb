{
 "cells": [
  {
   "cell_type": "code",
   "execution_count": 2,
   "metadata": {},
   "outputs": [],
   "source": [
    "import numpy as np\n",
    "import pandas as pd\n",
    "\n",
    "from sklearn.model_selection import train_test_split\n",
    "from sklearn.metrics import classification_report, confusion_matrix, accuracy_score, roc_curve, auc\n",
    "from joblib import dump, load\n",
    "\n",
    "# RNN & LSTM Imports\n",
    "\n",
    "from tensorflow.keras.preprocessing.sequence import pad_sequences\n",
    "from tensorflow.keras.layers import Embedding, LSTM, Dense, Dropout, Bidirectional, BatchNormalization\n",
    "from tensorflow.keras.preprocessing.text import Tokenizer\n",
    "from tensorflow.keras.models import Sequential\n"
   ]
  },
  {
   "cell_type": "code",
   "execution_count": 3,
   "metadata": {},
   "outputs": [],
   "source": [
    "def roc_auc(predictions,target):\n",
    "    '''\n",
    "    This methods returns the AUC Score when given the Predictions\n",
    "    and Labels\n",
    "    '''\n",
    "    \n",
    "    fpr, tpr, thresholds = roc_curve(target, predictions)\n",
    "    roc_auc = auc(fpr, tpr)\n",
    "    return roc_auc"
   ]
  },
  {
   "cell_type": "code",
   "execution_count": 4,
   "metadata": {},
   "outputs": [],
   "source": [
    "df = pd.read_csv('./datasets/test_filtered_data.csv')"
   ]
  },
  {
   "cell_type": "code",
   "execution_count": 5,
   "metadata": {},
   "outputs": [],
   "source": [
    "embedding_dim = 300    # Dimensions used for glove6b100\n",
    "max_length = 100   # Maximum size of a tweet\n",
    "trunc_type='post'      # Truncates the tweet if it is longer than max_length\n",
    "padding_type='post'    # Adds padding to the end of the tweet if it is shorter than max_length\n",
    "oov_tok = \"<OOV>\"      # Token \"<OOV>\" replaces words that are not part of the vocabulary (Out Of Vocabulary)\n",
    "training_size=len(df)\n",
    "test_portion=.2"
   ]
  },
  {
   "cell_type": "code",
   "execution_count": 6,
   "metadata": {},
   "outputs": [],
   "source": [
    "comments = df['comment_text']\n",
    "# y = df[['toxic', 'severe_toxic', 'obscene', 'threat', 'insult', 'identity_hate', 'isToxic']]\n",
    "y = df['toxic']"
   ]
  },
  {
   "cell_type": "code",
   "execution_count": 7,
   "metadata": {},
   "outputs": [],
   "source": [
    "X_train, X_test, y_train, y_test = train_test_split(comments, y, test_size=test_portion)"
   ]
  },
  {
   "cell_type": "code",
   "execution_count": 8,
   "metadata": {},
   "outputs": [],
   "source": [
    "# y_train_isToxic = y_train['isToxic']\n",
    "# y_train = y_train.drop(columns=['isToxic'])\n",
    "\n",
    "# y_test_isToxic = y_test['isToxic']\n",
    "# y_test = y_test.drop(columns=['isToxic'])"
   ]
  },
  {
   "cell_type": "code",
   "execution_count": 9,
   "metadata": {},
   "outputs": [],
   "source": [
    "tokenizer = Tokenizer(\n",
    "    filters='!\"#$%&()*+,-./:;<=>?@[\\\\]^_`{|}~\\t\\n',\n",
    "    lower=True,\n",
    "    split=' ',\n",
    "    oov_token=oov_tok,\n",
    ")"
   ]
  },
  {
   "cell_type": "code",
   "execution_count": 10,
   "metadata": {},
   "outputs": [],
   "source": [
    "tokenizer.fit_on_texts(X_train)\n",
    "tokenizer.fit_on_texts(X_test)\n"
   ]
  },
  {
   "cell_type": "code",
   "execution_count": 11,
   "metadata": {},
   "outputs": [],
   "source": [
    "sequences = tokenizer.texts_to_sequences(X_train)\n",
    "test_sequences = tokenizer.texts_to_sequences(X_test)"
   ]
  },
  {
   "cell_type": "code",
   "execution_count": 12,
   "metadata": {},
   "outputs": [],
   "source": [
    "padded_sequences = pad_sequences(sequences, maxlen=max_length, padding=padding_type, truncating=trunc_type)\n",
    "test_padded_sequences = pad_sequences(test_sequences, maxlen=max_length, padding=padding_type, truncating=trunc_type)"
   ]
  },
  {
   "cell_type": "code",
   "execution_count": null,
   "metadata": {},
   "outputs": [],
   "source": []
  },
  {
   "cell_type": "code",
   "execution_count": 13,
   "metadata": {},
   "outputs": [
    {
     "name": "stdout",
     "output_type": "stream",
     "text": [
      "48207\n"
     ]
    }
   ],
   "source": [
    "word_index = tokenizer.word_index\n",
    "vocab_size = len(word_index)\n",
    "\n",
    "print(vocab_size)"
   ]
  },
  {
   "cell_type": "code",
   "execution_count": 27,
   "metadata": {},
   "outputs": [],
   "source": [
    "from sklearn.utils import compute_sample_weight\n",
    "\n",
    "sample_weights = compute_sample_weight(class_weight='balanced', y=y_train)\n",
    "sample_weights[y_train == 1] *= 1.5"
   ]
  },
  {
   "cell_type": "code",
   "execution_count": 15,
   "metadata": {},
   "outputs": [
    {
     "name": "stdout",
     "output_type": "stream",
     "text": [
      "Found 2196016 word vectors.\n"
     ]
    }
   ],
   "source": [
    "\n",
    "embeddings_index = {}\n",
    "f = open('./Glove/glove.840B.300d.txt','r',encoding='utf-8')\n",
    "for line in f:\n",
    "    values = line.split(' ')\n",
    "    word = values[0]\n",
    "    coefs = np.asarray([float(val) for val in values[1:]])\n",
    "    embeddings_index[word] = coefs\n",
    "f.close()\n",
    "\n",
    "print('Found %s word vectors.' % len(embeddings_index))"
   ]
  },
  {
   "cell_type": "code",
   "execution_count": 16,
   "metadata": {},
   "outputs": [],
   "source": [
    "# create an embedding matrix for the words we have in the dataset\n",
    "embedding_matrix = np.zeros((len(word_index) + 1, 300))\n",
    "for word, i in word_index.items():\n",
    "    embedding_vector = embeddings_index.get(word)\n",
    "    if embedding_vector is not None:\n",
    "        embedding_matrix[i] = embedding_vector"
   ]
  },
  {
   "cell_type": "code",
   "execution_count": 28,
   "metadata": {},
   "outputs": [],
   "source": [
    "from tensorflow.keras.layers import SpatialDropout1D, GRU, Dropout, BatchNormalization, Dense, Embedding\n",
    "from tensorflow.keras.layers import Attention, Flatten\n",
    "from tensorflow.keras.models import Model\n",
    "from tensorflow.keras import Input\n",
    "from keras import backend as K\n",
    "import tensorflow as tf\n",
    "\n",
    "\n",
    "input_dimension = input_dimension\n",
    "\n",
    "# Input Layer\n",
    "input_layer = Input(shape=(max_length,))\n",
    "\n",
    "# Embedding Layer\n",
    "embedding_layer = Embedding(input_dimension, 300, weights=[embedding_matrix], input_length=max_length, trainable=False)(input_layer)\n",
    "spatial_dropout = SpatialDropout1D(0.3)(embedding_layer)\n",
    "\n",
    "# GRU Layer\n",
    "gru_layer = Bidirectional(GRU(300, return_sequences=True))(spatial_dropout)\n",
    "dropout_layer_2 = Dropout(0.5)(gru_layer)\n",
    "batch_norm_layer_2 = BatchNormalization()(dropout_layer_2)\n",
    "\n",
    "# Attention Layer\n",
    "attention_layer = Attention()([batch_norm_layer_2, batch_norm_layer_2])\n",
    "dropout_layer_3 = Dropout(0.5)(attention_layer)\n",
    "batch_norm_layer_3 = BatchNormalization()(dropout_layer_3)\n",
    "\n",
    "# Flatten Layer\n",
    "flatten_layer = Flatten()(batch_norm_layer_3)\n",
    "\n",
    "# Dense Layers\n",
    "dense_layer_1 = Dense(32, activation='relu')(flatten_layer)\n",
    "dropout_layer_1 = Dropout(0.5)(dense_layer_1)\n",
    "batch_norm_layer_1 = BatchNormalization()(dropout_layer_1)\n",
    "\n",
    "dense_layer_2 = Dense(16, activation='relu')(batch_norm_layer_1)\n",
    "dropout_layer_4 = Dropout(0.5)(dense_layer_2)\n",
    "batch_norm_layer_4 = BatchNormalization()(dropout_layer_4)\n",
    "\n",
    "output_layer = Dense(1, activation='sigmoid')(batch_norm_layer_4)\n",
    "\n",
    "# Compile model\n",
    "model = Model(inputs=input_layer, outputs=output_layer)\n",
    "\n",
    "\n",
    "model.compile(loss=\"binary_crossentropy\", optimizer='adam', metrics=['accuracy'])"
   ]
  },
  {
   "cell_type": "code",
   "execution_count": 29,
   "metadata": {},
   "outputs": [
    {
     "name": "stdout",
     "output_type": "stream",
     "text": [
      "Epoch 1/10\n"
     ]
    },
    {
     "name": "stderr",
     "output_type": "stream",
     "text": [
      "W0000 00:00:1710461566.734336       1 op_level_cost_estimator.cc:699] Error in PredictCost() for the op: op: \"Softmax\" attr { key: \"T\" value { type: DT_FLOAT } } inputs { dtype: DT_FLOAT shape { unknown_rank: true } } device { type: \"GPU\" } outputs { dtype: DT_FLOAT shape { unknown_rank: true } }\n"
     ]
    },
    {
     "name": "stdout",
     "output_type": "stream",
     "text": [
      "375/375 [==============================] - ETA: 0s - loss: 0.6035 - accuracy: 0.6690"
     ]
    },
    {
     "name": "stderr",
     "output_type": "stream",
     "text": [
      "W0000 00:00:1710461584.278948       1 op_level_cost_estimator.cc:699] Error in PredictCost() for the op: op: \"Softmax\" attr { key: \"T\" value { type: DT_FLOAT } } inputs { dtype: DT_FLOAT shape { unknown_rank: true } } device { type: \"GPU\" } outputs { dtype: DT_FLOAT shape { unknown_rank: true } }\n"
     ]
    },
    {
     "name": "stdout",
     "output_type": "stream",
     "text": [
      "375/375 [==============================] - 21s 50ms/step - loss: 0.6035 - accuracy: 0.6690 - val_loss: 0.6373 - val_accuracy: 0.7733\n",
      "Epoch 2/10\n"
     ]
    },
    {
     "name": "stderr",
     "output_type": "stream",
     "text": [
      "/Users/antoine/miniconda3/envs/AI/lib/python3.11/site-packages/keras/src/engine/training.py:3103: UserWarning: You are saving your model as an HDF5 file via `model.save()`. This file format is considered legacy. We recommend using instead the native Keras format, e.g. `model.save('my_model.keras')`.\n",
      "  saving_api.save_model(\n"
     ]
    },
    {
     "name": "stdout",
     "output_type": "stream",
     "text": [
      "375/375 [==============================] - 18s 47ms/step - loss: 0.4253 - accuracy: 0.8261 - val_loss: 0.4683 - val_accuracy: 0.8686\n",
      "Epoch 3/10\n",
      "375/375 [==============================] - 17s 45ms/step - loss: 0.3457 - accuracy: 0.8536 - val_loss: 0.7763 - val_accuracy: 0.5375\n",
      "Epoch 4/10\n",
      "375/375 [==============================] - 17s 45ms/step - loss: 0.3134 - accuracy: 0.8879 - val_loss: 0.2038 - val_accuracy: 0.9637\n",
      "Epoch 5/10\n",
      "375/375 [==============================] - 17s 45ms/step - loss: 0.2940 - accuracy: 0.8942 - val_loss: 0.2465 - val_accuracy: 0.9530\n",
      "Epoch 6/10\n",
      "375/375 [==============================] - 17s 45ms/step - loss: 0.2729 - accuracy: 0.9017 - val_loss: 0.2031 - val_accuracy: 0.9507\n",
      "Epoch 7/10\n",
      "375/375 [==============================] - 17s 45ms/step - loss: 0.2708 - accuracy: 0.8976 - val_loss: 0.1661 - val_accuracy: 0.9623\n",
      "Epoch 8/10\n",
      "375/375 [==============================] - 17s 45ms/step - loss: 0.2391 - accuracy: 0.9083 - val_loss: 0.1719 - val_accuracy: 0.9533\n",
      "Epoch 9/10\n",
      "375/375 [==============================] - 17s 44ms/step - loss: 0.2085 - accuracy: 0.9258 - val_loss: 0.2799 - val_accuracy: 0.9150\n",
      "Epoch 10/10\n",
      "375/375 [==============================] - 17s 45ms/step - loss: 0.2177 - accuracy: 0.9201 - val_loss: 0.1627 - val_accuracy: 0.9570\n",
      "Training Complete\n"
     ]
    }
   ],
   "source": [
    "from tensorflow.keras.callbacks import ModelCheckpoint\n",
    "\n",
    "# Créez une instance de ModelCheckpoint\n",
    "checkpoint = ModelCheckpoint('gru.h5',  # chemin du fichier où sauvegarder le modèle\n",
    "                             monitor='val_loss',  # quelle métrique à surveiller\n",
    "                             verbose=0, \n",
    "                             save_best_only=True,  # ne sauvegarder que le meilleur modèle\n",
    "                             mode='auto')  # 'auto' signifie que la direction est déterminée automatiquement à partir du nom de la métrique surveillée\n",
    "\n",
    "# sample_weights = sample_weights.astype('float32')\n",
    "\n",
    "history = model.fit(\n",
    "        padded_sequences, \n",
    "        y_train, \n",
    "        epochs=10, \n",
    "        validation_data=(test_padded_sequences, y_test),\n",
    "        sample_weight=sample_weights,\n",
    "        batch_size=32,\n",
    "        callbacks=[checkpoint]\n",
    "    )\n",
    "\n",
    "print(\"Training Complete\")\n",
    "\n",
    "# poids fichier de checkpoint\n",
    "model.load_weights('gru.h5')\n",
    "\n",
    "\n"
   ]
  },
  {
   "cell_type": "code",
   "execution_count": 19,
   "metadata": {},
   "outputs": [],
   "source": [
    "# # Batch Sizes Annealing\n",
    "\n",
    "\n",
    "# # Définir les tailles de batch initiale et finale\n",
    "# initial_batch_size = 0\n",
    "# final_batch_size = 5\n",
    "# batch_sizes = [ 8, 16 , 32, 64, 128, 256]\n",
    "\n",
    "# # Définir le nombre total d'époques\n",
    "# total_epochs = 10\n",
    "\n",
    "# # Boucle sur les époques\n",
    "# for epoch in range(total_epochs):\n",
    "#     # Calculer la taille du batch pour cette époque\n",
    "#     index = initial_batch_size + epoch * (final_batch_size - initial_batch_size) / total_epochs\n",
    "\n",
    "#     # Convertir la taille du batch en un entier, car elle doit être un nombre entier\n",
    "#     batch_size = batch_sizes[int(index)]\n",
    "\n",
    "#     # Entraîner le modèle pour une époque avec la taille de batch actuelle\n",
    "#     history = model.fit(\n",
    "#         padded_sequences, \n",
    "#         y_train, \n",
    "#         epochs=1, \n",
    "#         validation_data=(test_padded_sequences, y_test),\n",
    "#         sample_weight=sample_weights,\n",
    "#         batch_size=batch_size,\n",
    "#         callbacks=[checkpoint]\n",
    "#     )\n",
    "\n",
    "# print(\"Training Complete\")"
   ]
  },
  {
   "cell_type": "code",
   "execution_count": 30,
   "metadata": {},
   "outputs": [
    {
     "data": {
      "image/png": "[encoded data removed]",
      "text/plain": [
       "<Figure size 640x480 with 1 Axes>"
      ]
     },
     "metadata": {},
     "output_type": "display_data"
    },
    {
     "data": {
      "text/plain": [
       "<Figure size 640x480 with 0 Axes>"
      ]
     },
     "metadata": {},
     "output_type": "display_data"
    },
    {
     "data": {
      "image/png": "[encoded data removed]",
      "text/plain": [
       "<Figure size 640x480 with 1 Axes>"
      ]
     },
     "metadata": {},
     "output_type": "display_data"
    },
    {
     "data": {
      "text/plain": [
       "<Figure size 640x480 with 0 Axes>"
      ]
     },
     "metadata": {},
     "output_type": "display_data"
    }
   ],
   "source": [
    "import matplotlib.image  as mpimg\n",
    "import matplotlib.pyplot as plt\n",
    "\n",
    "\n",
    "#-----------------------------------------------------------\n",
    "# Retrieve a list of list results on training and test data\n",
    "# sets for each training epoch\n",
    "#-----------------------------------------------------------\n",
    "acc=history.history['accuracy']\n",
    "val_acc=history.history['val_accuracy']\n",
    "loss=history.history['loss']\n",
    "val_loss=history.history['val_loss']\n",
    "\n",
    "epochs=range(len(acc)) # Get number of epochs\n",
    "\n",
    "#------------------------------------------------\n",
    "# Plot training and validation accuracy per epoch\n",
    "#------------------------------------------------\n",
    "plt.plot(epochs, acc, 'r')\n",
    "plt.plot(epochs, val_acc, 'b')\n",
    "plt.title('Training and validation accuracy')\n",
    "plt.xlabel(\"Epochs\")\n",
    "plt.ylabel(\"Accuracy\")\n",
    "plt.legend([\"Accuracy\", \"Validation Accuracy\"])\n",
    "\n",
    "plt.figure()\n",
    "plt.show()\n",
    "\n",
    "#------------------------------------------------\n",
    "# Plot training and validation loss per epoch\n",
    "#------------------------------------------------\n",
    "plt.plot(epochs, loss, 'r')\n",
    "plt.plot(epochs, val_loss, 'b')\n",
    "plt.title('Training and validation loss')\n",
    "plt.xlabel(\"Epochs\")\n",
    "plt.ylabel(\"Loss\")\n",
    "plt.legend([\"Loss\", \"Validation Loss\"])\n",
    "\n",
    "plt.figure()\n",
    "plt.show()"
   ]
  },
  {
   "cell_type": "code",
   "execution_count": 31,
   "metadata": {},
   "outputs": [
    {
     "name": "stderr",
     "output_type": "stream",
     "text": [
      "W0000 00:00:1710461760.849709       1 op_level_cost_estimator.cc:699] Error in PredictCost() for the op: op: \"Softmax\" attr { key: \"T\" value { type: DT_FLOAT } } inputs { dtype: DT_FLOAT shape { unknown_rank: true } } device { type: \"GPU\" } outputs { dtype: DT_FLOAT shape { unknown_rank: true } }\n"
     ]
    },
    {
     "name": "stdout",
     "output_type": "stream",
     "text": [
      "94/94 [==============================] - 2s 16ms/step\n",
      "Auc: 0.9729050113081775 \n",
      "Matrice de confusion : [[2671   57]\n",
      " [  72  199]]\n",
      "Précision : 0.77734375\n",
      "Rappel : 0.7343173431734318\n",
      "Score F1 : 0.7552182163187856\n"
     ]
    }
   ],
   "source": [
    "from sklearn.metrics import precision_score, recall_score, f1_score\n",
    "\n",
    "\n",
    "# Vos prédictions et vraies valeurs\n",
    "y_pred = model.predict(test_padded_sequences)\n",
    "y_true = y_test\n",
    "\n",
    "print(f\"Auc: {roc_auc(y_pred, y_true)} \")\n",
    "\n",
    "# Arrondir les prédictions\n",
    "y_pred = y_pred.round()\n",
    "\n",
    "\n",
    "# Calcul de la précision\n",
    "precision = precision_score(y_true, y_pred)\n",
    "\n",
    "# Calcul du rappel\n",
    "recall = recall_score(y_true, y_pred)\n",
    "\n",
    "# Calcul du score F1\n",
    "f1 = f1_score(y_true, y_pred)\n",
    "\n",
    "print(f\"Matrice de confusion : {confusion_matrix(y_test, y_pred)}\")\n",
    "print(f\"Précision : {precision}\")\n",
    "print(f\"Rappel : {recall}\")\n",
    "print(f\"Score F1 : {f1}\")\n"
   ]
  },
  {
   "cell_type": "code",
   "execution_count": 22,
   "metadata": {},
   "outputs": [],
   "source": [
    "# from sklearn.metrics import precision_score, recall_score, f1_score\n",
    "# from sklearn.metrics import multilabel_confusion_matrix\n",
    "\n",
    "\n",
    "# # Vos prédictions et vraies valeurs\n",
    "# y_pred = model.predict(test_padded_sequences)\n",
    "# y_true = y_test\n",
    "\n",
    "# # Arrondir les prédictions\n",
    "# y_pred = y_pred.round()\n",
    "\n",
    "# # Calcul de la précision\n",
    "# precision = precision_score(y_true, y_pred, average='weighted') # ou 'macro' ou 'weighted'\n",
    "\n",
    "# # Calcul du rappel\n",
    "# recall = recall_score(y_true, y_pred, average='weighted') # ou 'macro' ou 'weighted'\n",
    "\n",
    "# # Calcul du score F1\n",
    "# f1 = f1_score(y_true, y_pred, average='weighted') # ou 'macro' ou 'weighted'\n",
    "\n",
    "# # Calcul de la matrice de confusion multilabel\n",
    "# multilabel_cm = multilabel_confusion_matrix(y_true, y_pred)\n",
    "\n",
    "# # Affichage de la matrice de confusion pour chaque label\n",
    "# for i, matrix in enumerate(multilabel_cm):\n",
    "#     print(f\"Matrice de confusion pour le label {i} :\")\n",
    "#     print(matrix)\n",
    "# print(f\"Précision : {precision}\")\n",
    "# print(f\"Rappel : {recall}\")\n",
    "# print(f\"Score F1 : {f1}\")"
   ]
  }
 ],
 "metadata": {
  "kernelspec": {
   "display_name": "AI",
   "language": "python",
   "name": "python3"
  },
  "language_info": {
   "codemirror_mode": {
    "name": "ipython",
    "version": 3
   },
   "file_extension": ".py",
   "mimetype": "text/x-python",
   "name": "python",
   "nbconvert_exporter": "python",
   "pygments_lexer": "ipython3",
   "version": "3.11.5"
  }
 },
 "nbformat": 4,
 "nbformat_minor": 2
}
