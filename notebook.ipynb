{
 "cells": [
  {
   "cell_type": "code",
   "execution_count": 212,
   "metadata": {},
   "outputs": [
    {
     "name": "stderr",
     "output_type": "stream",
     "text": [
      "[nltk_data] Downloading package stopwords to\n",
      "[nltk_data]     /Users/antoine/nltk_data...\n",
      "[nltk_data]   Package stopwords is already up-to-date!\n",
      "[nltk_data] Downloading package punkt to /Users/antoine/nltk_data...\n",
      "[nltk_data]   Package punkt is already up-to-date!\n"
     ]
    }
   ],
   "source": [
    "import numpy as np\n",
    "import pandas as pd\n",
    "import matplotlib.pyplot as plt\n",
    "import tensorflow as tf\n",
    "import contractions\n",
    "from sklearn.model_selection import StratifiedShuffleSplit\n",
    "from time import time\n",
    "\n",
    "from sklearn.metrics import classification_report, confusion_matrix, accuracy_score, roc_curve, auc\n",
    "from sklearn.utils import compute_sample_weight\n",
    "\n",
    "\n",
    "\n",
    "# Import Regex to clean up comments\n",
    "import re\n",
    "\n",
    "import nltk, string\n",
    "from nltk.corpus import stopwords\n",
    "from nltk.tokenize import word_tokenize\n",
    "\n",
    "nltk.download('stopwords')\n",
    "nltk.download('punkt')\n",
    "\n",
    "from sklearn.metrics import precision_score, recall_score, f1_score\n",
    "\n",
    "\n",
    "from tensorflow.keras.layers import SpatialDropout1D, BatchNormalization, Flatten\n",
    "from tensorflow.keras.callbacks import ModelCheckpoint\n",
    "\n",
    "\n",
    "\n",
    "\n",
    "\n",
    "from sklearn.feature_extraction.text import TfidfVectorizer\n",
    "from sklearn.model_selection import train_test_split\n",
    "from scipy.sparse import csc_matrix\n",
    "from sklearn.ensemble import RandomForestClassifier\n",
    "from sklearn.metrics import classification_report, confusion_matrix, accuracy_score\n",
    "from joblib import dump, load\n",
    "\n",
    "# RNN & LSTM Imports\n",
    "\n",
    "from tensorflow.keras.preprocessing.sequence import pad_sequences\n",
    "from tensorflow.keras.layers import Embedding, LSTM, Dense, Dropout, Bidirectional, SimpleRNN, GRU\n",
    "from tensorflow.keras.preprocessing import sequence\n",
    "from tensorflow.keras.preprocessing.text import Tokenizer\n",
    "from tensorflow.keras.models import Sequential\n",
    "from tensorflow.keras.optimizers import Adam\n",
    "from tensorflow.keras import regularizers\n",
    "\n",
    "# from tensorflow.keras.preprocessing.text import Tokenizer\n",
    "# from tensorflow.keras.preprocessing.sequence import pad_sequences\n",
    "import random\n"
   ]
  },
  {
   "cell_type": "markdown",
   "metadata": {},
   "source": [
    "# Préparation des données "
   ]
  },
  {
   "cell_type": "markdown",
   "metadata": {},
   "source": [
    "## Importer le dataset"
   ]
  },
  {
   "cell_type": "code",
   "execution_count": 213,
   "metadata": {},
   "outputs": [
    {
     "data": {
      "text/html": [
       "<div>\n",
       "<style scoped>\n",
       "    .dataframe tbody tr th:only-of-type {\n",
       "        vertical-align: middle;\n",
       "    }\n",
       "\n",
       "    .dataframe tbody tr th {\n",
       "        vertical-align: top;\n",
       "    }\n",
       "\n",
       "    .dataframe thead th {\n",
       "        text-align: right;\n",
       "    }\n",
       "</style>\n",
       "<table border=\"1\" class=\"dataframe\">\n",
       "  <thead>\n",
       "    <tr style=\"text-align: right;\">\n",
       "      <th></th>\n",
       "      <th>id</th>\n",
       "      <th>comment_text</th>\n",
       "      <th>toxic</th>\n",
       "      <th>severe_toxic</th>\n",
       "      <th>obscene</th>\n",
       "      <th>threat</th>\n",
       "      <th>insult</th>\n",
       "      <th>identity_hate</th>\n",
       "    </tr>\n",
       "  </thead>\n",
       "  <tbody>\n",
       "    <tr>\n",
       "      <th>0</th>\n",
       "      <td>0000997932d777bf</td>\n",
       "      <td>Explanation\\nWhy the edits made under my usern...</td>\n",
       "      <td>0</td>\n",
       "      <td>0</td>\n",
       "      <td>0</td>\n",
       "      <td>0</td>\n",
       "      <td>0</td>\n",
       "      <td>0</td>\n",
       "    </tr>\n",
       "    <tr>\n",
       "      <th>1</th>\n",
       "      <td>000103f0d9cfb60f</td>\n",
       "      <td>D'aww! He matches this background colour I'm s...</td>\n",
       "      <td>0</td>\n",
       "      <td>0</td>\n",
       "      <td>0</td>\n",
       "      <td>0</td>\n",
       "      <td>0</td>\n",
       "      <td>0</td>\n",
       "    </tr>\n",
       "    <tr>\n",
       "      <th>2</th>\n",
       "      <td>000113f07ec002fd</td>\n",
       "      <td>Hey man, I'm really not trying to edit war. It...</td>\n",
       "      <td>0</td>\n",
       "      <td>0</td>\n",
       "      <td>0</td>\n",
       "      <td>0</td>\n",
       "      <td>0</td>\n",
       "      <td>0</td>\n",
       "    </tr>\n",
       "    <tr>\n",
       "      <th>3</th>\n",
       "      <td>0001b41b1c6bb37e</td>\n",
       "      <td>\"\\nMore\\nI can't make any real suggestions on ...</td>\n",
       "      <td>0</td>\n",
       "      <td>0</td>\n",
       "      <td>0</td>\n",
       "      <td>0</td>\n",
       "      <td>0</td>\n",
       "      <td>0</td>\n",
       "    </tr>\n",
       "    <tr>\n",
       "      <th>4</th>\n",
       "      <td>0001d958c54c6e35</td>\n",
       "      <td>You, sir, are my hero. Any chance you remember...</td>\n",
       "      <td>0</td>\n",
       "      <td>0</td>\n",
       "      <td>0</td>\n",
       "      <td>0</td>\n",
       "      <td>0</td>\n",
       "      <td>0</td>\n",
       "    </tr>\n",
       "  </tbody>\n",
       "</table>\n",
       "</div>"
      ],
      "text/plain": [
       "                 id                                       comment_text  toxic  \\\n",
       "0  0000997932d777bf  Explanation\\nWhy the edits made under my usern...      0   \n",
       "1  000103f0d9cfb60f  D'aww! He matches this background colour I'm s...      0   \n",
       "2  000113f07ec002fd  Hey man, I'm really not trying to edit war. It...      0   \n",
       "3  0001b41b1c6bb37e  \"\\nMore\\nI can't make any real suggestions on ...      0   \n",
       "4  0001d958c54c6e35  You, sir, are my hero. Any chance you remember...      0   \n",
       "\n",
       "   severe_toxic  obscene  threat  insult  identity_hate  \n",
       "0             0        0       0       0              0  \n",
       "1             0        0       0       0              0  \n",
       "2             0        0       0       0              0  \n",
       "3             0        0       0       0              0  \n",
       "4             0        0       0       0              0  "
      ]
     },
     "execution_count": 213,
     "metadata": {},
     "output_type": "execute_result"
    }
   ],
   "source": [
    "data = pd.read_csv('./datasets/train.csv')\n",
    "data.head()\n"
   ]
  },
  {
   "cell_type": "markdown",
   "metadata": {},
   "source": [
    "## Split des données\n",
    "\n",
    "#### On souhaite crée un nouveau dataset plus petit pour pouvoir entrainer et tester nos modèles plus rapidement"
   ]
  },
  {
   "cell_type": "markdown",
   "metadata": {},
   "source": [
    "Pour se faire, on va utiliser l'outil StratifiedShuffleSplit\n",
    "\n",
    "Celui-ci permet de créer un sous dataset ayant les mêmes proportions pour chaque label tout en prenant des données en mode aléatoire.\n",
    "\n",
    "Cet outil marche pour les classification binaire et catégoriques mais nous allons l'adapter pour l'utiliser sur de la classification multilabel"
   ]
  },
  {
   "cell_type": "code",
   "execution_count": 214,
   "metadata": {},
   "outputs": [
    {
     "name": "stdout",
     "output_type": "stream",
     "text": [
      "combined\n",
      "000000    143346\n",
      "010000      5666\n",
      "010011      3800\n",
      "010001      1758\n",
      "010010      1215\n",
      "011011       989\n",
      "110011       618\n",
      "000001       317\n",
      "000010       301\n",
      "111011       265\n",
      "000011       181\n",
      "011001       158\n",
      "110000       136\n",
      "110010       134\n",
      "010111       131\n",
      "010100       113\n",
      "011111        64\n",
      "110111        56\n",
      "100000        54\n",
      "011000        41\n",
      "110001        35\n",
      "111111        31\n",
      "100010        28\n",
      "000100        22\n",
      "100011        18\n",
      "010110        16\n",
      "011010        14\n",
      "010101        11\n",
      "011100        11\n",
      "110100         7\n",
      "111010         7\n",
      "111001         6\n",
      "011101         4\n",
      "000110         3\n",
      "110110         3\n",
      "111000         3\n",
      "100001         3\n",
      "000101         2\n",
      "000111         2\n",
      "011110         1\n",
      "111100         1\n",
      "Name: count, dtype: int64\n"
     ]
    }
   ],
   "source": [
    "# Toutes les catégories de commentaires\n",
    "categories = ['identity_hate', 'toxic', 'severe_toxic', 'threat', 'insult', 'obscene']\n",
    "\n",
    "# Créer une colonne qui concatene toutes les catégories de commentaires\n",
    "data['combined'] = data[categories].apply(lambda row: ''.join(row.values.astype(str)), axis=1)\n",
    "\n",
    "# Affiche toutes les combinaisons existantes et leur nombre d'apparition\n",
    "print(data['combined'].value_counts())"
   ]
  },
  {
   "cell_type": "code",
   "execution_count": 215,
   "metadata": {},
   "outputs": [],
   "source": [
    "# Ne pas prendre en compte les combinaisons qui n'apparaissent qu'une seule fois dans le dataset\n",
    "data = data[data['combined'] != '011110']\n",
    "data = data[data['combined'] != '111100']"
   ]
  },
  {
   "cell_type": "code",
   "execution_count": 216,
   "metadata": {},
   "outputs": [
    {
     "name": "stdout",
     "output_type": "stream",
     "text": [
      "Test -- identity_hate: 0.89%\n",
      "Train - identity_hate: 0.88%\n",
      "Test -- toxic: 9.59%\n",
      "Train - toxic: 9.58%\n",
      "Test -- severe_toxic: 1.00%\n",
      "Train - severe_toxic: 1.00%\n",
      "Test -- threat: 0.29%\n",
      "Train - threat: 0.30%\n",
      "Test -- insult: 4.93%\n",
      "Train - insult: 4.94%\n",
      "Test -- obscene: 5.29%\n",
      "Train - obscene: 5.30%\n"
     ]
    }
   ],
   "source": [
    "# Définir la taille du sous-ensemble\n",
    "n_samples = 15000\n",
    "\n",
    "# Créer un stratifieur pour le sous-ensemble\n",
    "stratifier = StratifiedShuffleSplit(n_splits=1, test_size=n_samples/len(data), random_state=0)\n",
    "\n",
    "# Définir les indices des sous-ensembles et les prélever\n",
    "for train_index, test_index in stratifier.split(data, data['combined']):\n",
    "    df_test = data.iloc[test_index]\n",
    "    df_train = data.iloc[train_index]\n",
    "\n",
    "# Supprimer la colonne combinée\n",
    "df_test = df_test.drop(\"combined\", axis=1)\n",
    "df_train = df_train.drop(\"combined\", axis=1)\n",
    "\n",
    "# Afficher les proportions dans le sous-ensemble pour verifier\n",
    "for cat in categories:\n",
    "    print(f\"Test -- {cat}: {df_test[cat].value_counts()[1] / n_samples:.2%}\")\n",
    "    print(f\"Train - {cat}: {df_train[cat].value_counts()[1] / len(df_train):.2%}\")"
   ]
  },
  {
   "cell_type": "markdown",
   "metadata": {},
   "source": [
    "## Création d'une nouvelle colonne IsToxic \n",
    "\n",
    "Cette colonne servira à faire de la classification binaire au lieu d'une classification multiclasse.\n",
    "\n",
    "En effet, dans un premier temps, nous allons simplifier le problème en demandant à notre IA de savoir faire la distinction entre un commentaire toxique et un commentaire correct"
   ]
  },
  {
   "cell_type": "code",
   "execution_count": 217,
   "metadata": {},
   "outputs": [],
   "source": [
    "df_test['isToxic'] = df_test.iloc[:, -6:].apply(lambda row: 1 if row.any() else 0, axis=1)"
   ]
  },
  {
   "cell_type": "markdown",
   "metadata": {},
   "source": [
    "## Filtrer et nettoyer les données \n",
    "\n",
    "Après avoir préparer notre nouveau jeu de données, nous allons maintenant le nettoyer et le filtrer pour pouvoir simplifier l'apprentissage et pouvoir par la suite Tokenizer chaque mot en index. \n",
    "\n",
    "En effet, les mots \"tbh\" et \"to be honest\" ont la même signification donc on souhaitera qu'il apparaissent de la même manière.\n",
    "\n",
    "De même les mots \"of\", \"the\" ou encore \"to\" sont des mots qui ne portent pas d'information sur les sentiments de la phrase. On les appele des stopwords et nous souhaitons nous en debarasser.\n",
    "\n",
    "Pour se faire nous allons nous servir des libs NLTK et contractions ainsi que des fonctions trouvées sur Kaggle dont nous nous sommes servis pour analyser les sentiments de tweets"
   ]
  },
  {
   "cell_type": "markdown",
   "metadata": {},
   "source": [
    "Setup NLTK pour tokenizer et enlever les stopwords"
   ]
  },
  {
   "cell_type": "code",
   "execution_count": 218,
   "metadata": {},
   "outputs": [],
   "source": [
    "stop_words = nltk.corpus.stopwords.words('english')\n",
    "corpus = []"
   ]
  },
  {
   "cell_type": "code",
   "execution_count": 219,
   "metadata": {},
   "outputs": [],
   "source": [
    "def clean(comment):\n",
    "\n",
    "    # Lib contractions which automatically fix a lot of contractions\n",
    "    contractions.fix(comment)\n",
    "    \n",
    "    comment = re.sub(r\"some1\", \"someone\", comment)\n",
    "    comment = re.sub(r\"yrs\", \"years\", comment)\n",
    "    comment = re.sub(r\"hrs\", \"hours\", comment)\n",
    "    comment = re.sub(r\"2morow|2moro\", \"tomorrow\", comment)\n",
    "    comment = re.sub(r\"2day\", \"today\", comment)\n",
    "    comment = re.sub(r\"4got|4gotten\", \"forget\", comment)\n",
    "    comment = re.sub(r\"b-day|bday\", \"b-day\", comment)\n",
    "    comment = re.sub(r\"mother's\", \"mother\", comment)\n",
    "    comment = re.sub(r\"mom's\", \"mom\", comment)\n",
    "    comment = re.sub(r\"dad's\", \"dad\", comment)\n",
    "    comment = re.sub(r\"hahah|hahaha|hahahaha\", \"haha\", comment)\n",
    "    comment = re.sub(r\"lmao|lolz|rofl\", \"lol\", comment)\n",
    "    comment = re.sub(r\"thanx|thnx\", \"thanks\", comment)\n",
    "    comment = re.sub(r\"goood\", \"good\", comment)\n",
    "    comment = re.sub(r\"some1\", \"someone\", comment)\n",
    "    comment = re.sub(r\"some1\", \"someone\", comment)\n",
    "\n",
    "    # Character entity references\n",
    "    comment = re.sub(r\"&gt;\", \">\", comment)\n",
    "    comment = re.sub(r\"&lt;\", \"<\", comment)\n",
    "    comment = re.sub(r\"&amp;\", \"&\", comment)\n",
    "\n",
    "    # Typos, slang and informal abbreviations\n",
    "    comment = re.sub(r\"w/e\", \"whatever\", comment)\n",
    "    comment = re.sub(r\"w/\", \"with\", comment)\n",
    "    comment = re.sub(r\"<3\", \"love\", comment)\n",
    "\n",
    "    # Urls\n",
    "    comment = re.sub(r\"http\\S+\", \"\", comment)\n",
    "\n",
    "    # Numbers\n",
    "    comment = re.sub(r'[0-9]', '', comment)\n",
    "\n",
    "    # Eliminating the mentions\n",
    "    comment = re.sub(\"(@[A-Za-z0-9_]+)\",\"\", comment)\n",
    "\n",
    "    # Remove punctuation and special chars (keep '!')\n",
    "    for p in string.punctuation.replace('!', ''):\n",
    "        comment = comment.replace(p, '')\n",
    "\n",
    "    # ... and ..\n",
    "    comment = comment.replace('...', ' ... ')\n",
    "    if '...' not in comment:\n",
    "        comment = comment.replace('..', ' ... ')\n",
    "\n",
    "\n",
    "    return comment"
   ]
  },
  {
   "cell_type": "code",
   "execution_count": 220,
   "metadata": {},
   "outputs": [],
   "source": [
    "def remove_stopwords(comment):\n",
    "    # Tokenize\n",
    "    comment_words = word_tokenize(comment)\n",
    "\n",
    "    # Eliminating the word if its length is less than 3\n",
    "    comment = [w for w in comment_words if len(w)>2]\n",
    "\n",
    "    # remove stopwords\n",
    "    comment = [w.lower() for w in comment if not w in stop_words]\n",
    "    corpus.append(comment)\n",
    "    \n",
    "    # join back\n",
    "    comment = ' '.join(comment)\n",
    "\n",
    "    return comment"
   ]
  },
  {
   "cell_type": "code",
   "execution_count": 221,
   "metadata": {},
   "outputs": [],
   "source": [
    "variable_name = \"\"\n",
    "abbreviations = {\n",
    "    \"$\" : \" dollar \",\n",
    "    \"€\" : \" euro \",\n",
    "    \"4ao\" : \"for adults only\",\n",
    "    \"a.m\" : \"before midday\",\n",
    "    \"a3\" : \"anytime anywhere anyplace\",\n",
    "    \"aamof\" : \"as a matter of fact\",\n",
    "    \"acct\" : \"account\",\n",
    "    \"adih\" : \"another day in hell\",\n",
    "    \"afaic\" : \"as far as i am concerned\",\n",
    "    \"afaict\" : \"as far as i can tell\",\n",
    "    \"afaik\" : \"as far as i know\",\n",
    "    \"afair\" : \"as far as i remember\",\n",
    "    \"afk\" : \"away from keyboard\",\n",
    "    \"app\" : \"application\",\n",
    "    \"approx\" : \"approximately\",\n",
    "    \"apps\" : \"applications\",\n",
    "    \"asap\" : \"as soon as possible\",\n",
    "    \"asl\" : \"age, sex, location\",\n",
    "    \"atk\" : \"at the keyboard\",\n",
    "    \"ave.\" : \"avenue\",\n",
    "    \"aymm\" : \"are you my mother\",\n",
    "    \"ayor\" : \"at your own risk\",\n",
    "    \"b&b\" : \"bed and breakfast\",\n",
    "    \"b+b\" : \"bed and breakfast\",\n",
    "    \"b.c\" : \"before christ\",\n",
    "    \"b2b\" : \"business to business\",\n",
    "    \"b2c\" : \"business to customer\",\n",
    "    \"b4\" : \"before\",\n",
    "    \"b4n\" : \"bye for now\",\n",
    "    \"b@u\" : \"back at you\",\n",
    "    \"bae\" : \"before anyone else\",\n",
    "    \"bak\" : \"back at keyboard\",\n",
    "    \"bbbg\" : \"bye bye be good\",\n",
    "    \"bbc\" : \"british broadcasting corporation\",\n",
    "    \"bbias\" : \"be back in a second\",\n",
    "    \"bbl\" : \"be back later\",\n",
    "    \"bbs\" : \"be back soon\",\n",
    "    \"be4\" : \"before\",\n",
    "    \"bfn\" : \"bye for now\",\n",
    "    \"blvd\" : \"boulevard\",\n",
    "    \"bout\" : \"about\",\n",
    "    \"brb\" : \"be right back\",\n",
    "    \"bros\" : \"brothers\",\n",
    "    \"brt\" : \"be right there\",\n",
    "    \"bsaaw\" : \"big smile and a wink\",\n",
    "    \"btw\" : \"by the way\",\n",
    "    \"bwl\" : \"bursting with laughter\",\n",
    "    \"c/o\" : \"care of\",\n",
    "    \"cet\" : \"central european time\",\n",
    "    \"cf\" : \"compare\",\n",
    "    \"cia\" : \"central intelligence agency\",\n",
    "    \"csl\" : \"can not stop laughing\",\n",
    "    \"cu\" : \"see you\",\n",
    "    \"cul8r\" : \"see you later\",\n",
    "    \"cv\" : \"curriculum vitae\",\n",
    "    \"cwot\" : \"complete waste of time\",\n",
    "    \"cya\" : \"see you\",\n",
    "    \"cyt\" : \"see you tomorrow\",\n",
    "    \"dae\" : \"does anyone else\",\n",
    "    \"dbmib\" : \"do not bother me i am busy\",\n",
    "    \"diy\" : \"do it yourself\",\n",
    "    \"dm\" : \"direct message\",\n",
    "    \"dwh\" : \"during work hours\",\n",
    "    \"e123\" : \"easy as one two three\",\n",
    "    \"eet\" : \"eastern european time\",\n",
    "    \"eg\" : \"example\",\n",
    "    \"embm\" : \"early morning business meeting\",\n",
    "    \"encl\" : \"enclosed\",\n",
    "    \"encl.\" : \"enclosed\",\n",
    "    \"etc\" : \"and so on\",\n",
    "    \"faq\" : \"frequently asked questions\",\n",
    "    \"fawc\" : \"for anyone who cares\",\n",
    "    \"fb\" : \"facebook\",\n",
    "    \"fc\" : \"fingers crossed\",\n",
    "    \"fig\" : \"figure\",\n",
    "    \"fimh\" : \"forever in my heart\",\n",
    "    \"ft.\" : \"feet\",\n",
    "    \"ft\" : \"featuring\",\n",
    "    \"ftl\" : \"for the loss\",\n",
    "    \"ftw\" : \"for the win\",\n",
    "    \"fwiw\" : \"for what it is worth\",\n",
    "    \"fyi\" : \"for your information\",\n",
    "    \"g9\" : \"genius\",\n",
    "    \"gahoy\" : \"get a hold of yourself\",\n",
    "    \"gal\" : \"get a life\",\n",
    "    \"gcse\" : \"general certificate of secondary education\",\n",
    "    \"gfn\" : \"gone for now\",\n",
    "    \"gg\" : \"good game\",\n",
    "    \"gl\" : \"good luck\",\n",
    "    \"glhf\" : \"good luck have fun\",\n",
    "    \"gmt\" : \"greenwich mean time\",\n",
    "    \"gmta\" : \"great minds think alike\",\n",
    "    \"gn\" : \"good night\",\n",
    "    \"g.o.a.t\" : \"greatest of all time\",\n",
    "    \"goat\" : \"greatest of all time\",\n",
    "    \"goi\" : \"get over it\",\n",
    "    \"gps\" : \"global positioning system\",\n",
    "    \"gr8\" : \"great\",\n",
    "    \"gratz\" : \"congratulations\",\n",
    "    \"gyal\" : \"girl\",\n",
    "    \"h&c\" : \"hot and cold\",\n",
    "    \"hp\" : \"horsepower\",\n",
    "    \"hr\" : \"hour\",\n",
    "    \"hrh\" : \"his royal highness\",\n",
    "    \"ht\" : \"height\",\n",
    "    \"ibrb\" : \"i will be right back\",\n",
    "    \"ic\" : \"i see\",\n",
    "    \"icq\" : \"i seek you\",\n",
    "    \"icymi\" : \"in case you missed it\",\n",
    "    \"idc\" : \"i do not care\",\n",
    "    \"idgadf\" : \"i do not give a damn fuck\",\n",
    "    \"idgaf\" : \"i do not give a fuck\",\n",
    "    \"idk\" : \"i do not know\",\n",
    "    \"ie\" : \"that is\",\n",
    "    \"i.e\" : \"that is\",\n",
    "    \"ifyp\" : \"i feel your pain\",\n",
    "    \"IG\" : \"instagram\",\n",
    "    \"iirc\" : \"if i remember correctly\",\n",
    "    \"ilu\" : \"i love you\",\n",
    "    \"ily\" : \"i love you\",\n",
    "    \"imho\" : \"in my humble opinion\",\n",
    "    \"imo\" : \"in my opinion\",\n",
    "    \"imu\" : \"i miss you\",\n",
    "    \"iow\" : \"in other words\",\n",
    "    \"irl\" : \"in real life\",\n",
    "    \"j4f\" : \"just for fun\",\n",
    "    \"jic\" : \"just in case\",\n",
    "    \"jk\" : \"just kidding\",\n",
    "    \"jsyk\" : \"just so you know\",\n",
    "    \"l8r\" : \"later\",\n",
    "    \"lb\" : \"pound\",\n",
    "    \"lbs\" : \"pounds\",\n",
    "    \"ldr\" : \"long distance relationship\",\n",
    "    \"lmao\" : \"laugh my ass off\",\n",
    "    \"lmfao\" : \"laugh my fucking ass off\",\n",
    "    \"lol\" : \"laughing out loud\",\n",
    "    \"ltd\" : \"limited\",\n",
    "    \"ltns\" : \"long time no see\",\n",
    "    \"m8\" : \"mate\",\n",
    "    \"mf\" : \"motherfucker\",\n",
    "    \"mfs\" : \"motherfuckers\",\n",
    "    \"mfw\" : \"my face when\",\n",
    "    \"mofo\" : \"motherfucker\",\n",
    "    \"mph\" : \"miles per hour\",\n",
    "    \"mr\" : \"mister\",\n",
    "    \"mrw\" : \"my reaction when\",\n",
    "    \"ms\" : \"miss\",\n",
    "    \"mte\" : \"my thoughts exactly\",\n",
    "    \"nagi\" : \"not a good idea\",\n",
    "    \"nbc\" : \"national broadcasting company\",\n",
    "    \"nbd\" : \"not big deal\",\n",
    "    \"nfs\" : \"not for sale\",\n",
    "    \"ngl\" : \"not going to lie\",\n",
    "    \"nhs\" : \"national health service\",\n",
    "    \"nrn\" : \"no reply necessary\",\n",
    "    \"nsfl\" : \"not safe for life\",\n",
    "    \"nsfw\" : \"not safe for work\",\n",
    "    \"nth\" : \"nice to have\",\n",
    "    \"nvr\" : \"never\",\n",
    "    \"nyc\" : \"new york city\",\n",
    "    \"oc\" : \"original content\",\n",
    "    \"og\" : \"original\",\n",
    "    \"ohp\" : \"overhead projector\",\n",
    "    \"oic\" : \"oh i see\",\n",
    "    \"omdb\" : \"over my dead body\",\n",
    "    \"omg\" : \"oh my god\",\n",
    "    \"omw\" : \"on my way\",\n",
    "    \"p.a\" : \"per annum\",\n",
    "    \"p.m\" : \"after midday\",\n",
    "    \"pm\" : \"prime minister\",\n",
    "    \"poc\" : \"people of color\",\n",
    "    \"pov\" : \"point of view\",\n",
    "    \"pp\" : \"pages\",\n",
    "    \"ppl\" : \"people\",\n",
    "    \"prw\" : \"parents are watching\",\n",
    "    \"ps\" : \"postscript\",\n",
    "    \"pt\" : \"point\",\n",
    "    \"ptb\" : \"please text back\",\n",
    "    \"pto\" : \"please turn over\",\n",
    "    \"qpsa\" : \"what happens\",\n",
    "    \"ratchet\" : \"rude\",\n",
    "    \"rbtl\" : \"read between the lines\",\n",
    "    \"rlrt\" : \"real life recomment\",\n",
    "    \"rofl\" : \"rolling on the floor laughing\",\n",
    "    \"roflol\" : \"rolling on the floor laughing out loud\",\n",
    "    \"rotflmao\" : \"rolling on the floor laughing my ass off\",\n",
    "    \"rt\" : \"recomment\",\n",
    "    \"ruok\" : \"are you ok\",\n",
    "    \"sfw\" : \"safe for work\",\n",
    "     \"sk8\" : \"skate\",\n",
    "    \"smh\" : \"shake my head\",\n",
    "    \"sq\" : \"square\",\n",
    "    \"srsly\" : \"seriously\",\n",
    "    \"ssdd\" : \"same stuff different day\",\n",
    "    \"tbh\" : \"to be honest\",\n",
    "    \"tbs\" : \"tablespooful\",\n",
    "    \"tbsp\" : \"tablespooful\",\n",
    "    \"tfw\" : \"that feeling when\",\n",
    "    \"thks\" : \"thank you\",\n",
    "    \"tho\" : \"though\",\n",
    "    \"thx\" : \"thank you\",\n",
    "    \"tia\" : \"thanks in advance\",\n",
    "    \"til\" : \"today i learned\",\n",
    "    \"tl;dr\" : \"too long i did not read\",\n",
    "    \"tldr\" : \"too long i did not read\",\n",
    "    \"tmb\" : \"comment me back\",\n",
    "    \"tntl\" : \"trying not to laugh\",\n",
    "    \"ttyl\" : \"talk to you later\",\n",
    "    \"u\" : \"you\",\n",
    "    \"u2\" : \"you too\",\n",
    "    \"u4e\" : \"yours for ever\",\n",
    "    \"utc\" : \"coordinated universal time\",\n",
    "    \"w/\" : \"with\",\n",
    "    \"w/o\" : \"without\",\n",
    "    \"w8\" : \"wait\",\n",
    "    \"wassup\" : \"what is up\",\n",
    "    \"wb\" : \"welcome back\",\n",
    "    \"wtf\" : \"what the fuck\",\n",
    "    \"wtg\" : \"way to go\",\n",
    "    \"wtpa\" : \"where the party at\",\n",
    "    \"wuf\" : \"where are you from\",\n",
    "    \"wuzup\" : \"what is up\",\n",
    "    \"wywh\" : \"wish you were here\",\n",
    "    \"yd\" : \"yard\",\n",
    "    \"ygtr\" : \"you got that right\",\n",
    "    \"ynk\" : \"you never know\",\n",
    "    \"zzz\" : \"sleeping bored and tired\"\n",
    "}\n",
    "\n",
    "def convert_abbrev_in_text(comment):\n",
    "    t=[]\n",
    "    words=comment.split()\n",
    "    t = [abbreviations[w.lower()] if w.lower() in abbreviations.keys() else w for w in words]\n",
    "    return ' '.join(t)"
   ]
  },
  {
   "cell_type": "code",
   "execution_count": 222,
   "metadata": {},
   "outputs": [],
   "source": [
    "def prepare_string(comment):\n",
    "  comment = convert_abbrev_in_text(comment)\n",
    "  comment = clean(comment)\n",
    "  comment = remove_stopwords(comment)\n",
    "  return comment"
   ]
  },
  {
   "cell_type": "code",
   "execution_count": 223,
   "metadata": {},
   "outputs": [],
   "source": [
    "df_test['comment_text'] = df_test['comment_text'].replace('\\n', ' ', regex=True) # Remove new lines\n",
    "df_test['comment_text'] = df_test['comment_text'].replace(':', '', regex=True) # Remove colons\n",
    "df_test['comment_text'] = df_test['comment_text'].str.lower() # Lowercase\n",
    "df_test['comment_text'] = df_test['comment_text'].str.replace('[^\\w\\s]', '', regex=True) # Remove punctuation\n",
    "df_test['comment_text'] = df_test['comment_text'].str.replace('\\d+', '', regex=True) # Remove numbers\n",
    "df_test['comment_text'] = df_test['comment_text'].str.replace(' +', ' ', regex=True) # Remove extra spaces\n",
    "df_test['comment_text'] = df_test['comment_text'].str.strip() # Remove leading/trailing spaces\n",
    "\n",
    "# Apply prepare_string to all rows in 'tweets' column\n",
    "df_test['comment_text'] = df_test['comment_text'].apply(lambda s : prepare_string(s))\n",
    "\n",
    "# Drop empty values from dataframe\n",
    "df_test['comment_text'].replace('', np.nan, inplace=True)\n",
    "df_test.dropna(subset=['comment_text'], inplace=True)"
   ]
  },
  {
   "cell_type": "code",
   "execution_count": 224,
   "metadata": {},
   "outputs": [],
   "source": [
    "# add isToxic column\n",
    "df_test['isToxic'] = df_test.iloc[:, -6:].apply(lambda row: 1 if row.any() else 0, axis=1)"
   ]
  },
  {
   "cell_type": "markdown",
   "metadata": {},
   "source": [
    "## Exportation des données"
   ]
  },
  {
   "cell_type": "code",
   "execution_count": 225,
   "metadata": {},
   "outputs": [],
   "source": [
    "df_test.to_csv('./datasets/test_filtered_data.csv')"
   ]
  },
  {
   "cell_type": "markdown",
   "metadata": {},
   "source": [
    "# TFIDF & RandomForestClassifier"
   ]
  },
  {
   "cell_type": "markdown",
   "metadata": {},
   "source": [
    "## Lecture du dataset cleaned"
   ]
  },
  {
   "cell_type": "code",
   "execution_count": 226,
   "metadata": {},
   "outputs": [
    {
     "data": {
      "text/html": [
       "<div>\n",
       "<style scoped>\n",
       "    .dataframe tbody tr th:only-of-type {\n",
       "        vertical-align: middle;\n",
       "    }\n",
       "\n",
       "    .dataframe tbody tr th {\n",
       "        vertical-align: top;\n",
       "    }\n",
       "\n",
       "    .dataframe thead th {\n",
       "        text-align: right;\n",
       "    }\n",
       "</style>\n",
       "<table border=\"1\" class=\"dataframe\">\n",
       "  <thead>\n",
       "    <tr style=\"text-align: right;\">\n",
       "      <th></th>\n",
       "      <th>Unnamed: 0</th>\n",
       "      <th>id</th>\n",
       "      <th>comment_text</th>\n",
       "      <th>toxic</th>\n",
       "      <th>severe_toxic</th>\n",
       "      <th>obscene</th>\n",
       "      <th>threat</th>\n",
       "      <th>insult</th>\n",
       "      <th>identity_hate</th>\n",
       "      <th>isToxic</th>\n",
       "    </tr>\n",
       "  </thead>\n",
       "  <tbody>\n",
       "    <tr>\n",
       "      <th>0</th>\n",
       "      <td>21796</td>\n",
       "      <td>3971ac8df63c1b67</td>\n",
       "      <td>assistance request hello spare time wondering ...</td>\n",
       "      <td>0</td>\n",
       "      <td>0</td>\n",
       "      <td>0</td>\n",
       "      <td>0</td>\n",
       "      <td>0</td>\n",
       "      <td>0</td>\n",
       "      <td>0</td>\n",
       "    </tr>\n",
       "    <tr>\n",
       "      <th>1</th>\n",
       "      <td>115490</td>\n",
       "      <td>69a4e6fed52303d5</td>\n",
       "      <td>nicholas chiha born south afica japan love mid...</td>\n",
       "      <td>0</td>\n",
       "      <td>0</td>\n",
       "      <td>0</td>\n",
       "      <td>0</td>\n",
       "      <td>0</td>\n",
       "      <td>0</td>\n",
       "      <td>0</td>\n",
       "    </tr>\n",
       "    <tr>\n",
       "      <th>2</th>\n",
       "      <td>154633</td>\n",
       "      <td>b0d7b6c498c7af46</td>\n",
       "      <td>question garnering donations america europe so...</td>\n",
       "      <td>0</td>\n",
       "      <td>0</td>\n",
       "      <td>0</td>\n",
       "      <td>0</td>\n",
       "      <td>0</td>\n",
       "      <td>0</td>\n",
       "      <td>0</td>\n",
       "    </tr>\n",
       "    <tr>\n",
       "      <th>3</th>\n",
       "      <td>82818</td>\n",
       "      <td>dd941b8dd87b85b8</td>\n",
       "      <td>done alot research page started working minute...</td>\n",
       "      <td>0</td>\n",
       "      <td>0</td>\n",
       "      <td>0</td>\n",
       "      <td>0</td>\n",
       "      <td>0</td>\n",
       "      <td>0</td>\n",
       "      <td>0</td>\n",
       "    </tr>\n",
       "    <tr>\n",
       "      <th>4</th>\n",
       "      <td>106347</td>\n",
       "      <td>390861cc8aa889af</td>\n",
       "      <td>huh actually according wpporn issue image dele...</td>\n",
       "      <td>1</td>\n",
       "      <td>0</td>\n",
       "      <td>0</td>\n",
       "      <td>0</td>\n",
       "      <td>0</td>\n",
       "      <td>0</td>\n",
       "      <td>1</td>\n",
       "    </tr>\n",
       "  </tbody>\n",
       "</table>\n",
       "</div>"
      ],
      "text/plain": [
       "   Unnamed: 0                id  \\\n",
       "0       21796  3971ac8df63c1b67   \n",
       "1      115490  69a4e6fed52303d5   \n",
       "2      154633  b0d7b6c498c7af46   \n",
       "3       82818  dd941b8dd87b85b8   \n",
       "4      106347  390861cc8aa889af   \n",
       "\n",
       "                                        comment_text  toxic  severe_toxic  \\\n",
       "0  assistance request hello spare time wondering ...      0             0   \n",
       "1  nicholas chiha born south afica japan love mid...      0             0   \n",
       "2  question garnering donations america europe so...      0             0   \n",
       "3  done alot research page started working minute...      0             0   \n",
       "4  huh actually according wpporn issue image dele...      1             0   \n",
       "\n",
       "   obscene  threat  insult  identity_hate  isToxic  \n",
       "0        0       0       0              0        0  \n",
       "1        0       0       0              0        0  \n",
       "2        0       0       0              0        0  \n",
       "3        0       0       0              0        0  \n",
       "4        0       0       0              0        1  "
      ]
     },
     "execution_count": 226,
     "metadata": {},
     "output_type": "execute_result"
    }
   ],
   "source": [
    "df = pd.read_csv('./datasets/test_filtered_data.csv')\n",
    "df.head()"
   ]
  },
  {
   "cell_type": "code",
   "execution_count": 227,
   "metadata": {},
   "outputs": [],
   "source": [
    "# Commentaires que l'on va vectoriser\n",
    "comments = df['comment_text']\n",
    "\n",
    "# labels multi-classes et binaire\n",
    "y = df[['toxic', 'severe_toxic', 'obscene', 'threat', 'insult', 'identity_hate']]\n",
    "y_binary = df['isToxic']"
   ]
  },
  {
   "cell_type": "markdown",
   "metadata": {},
   "source": [
    "## Setup TFIDFVectorizer"
   ]
  },
  {
   "cell_type": "markdown",
   "metadata": {},
   "source": [
    "TFIDF compare l'importance de chaque mot dans le dataset. Les mots qui apparaissent très souvent sont plus important que les autres.\n",
    "\n",
    "TFIDF ne differencie pas les mots en fonction de leur ordre dans la phrase et ne comprends pas le contexte."
   ]
  },
  {
   "cell_type": "code",
   "execution_count": 228,
   "metadata": {},
   "outputs": [],
   "source": [
    "tfIdfVectorizer = TfidfVectorizer()\n",
    "X = tfIdfVectorizer.fit_transform(comments).toarray()"
   ]
  },
  {
   "cell_type": "markdown",
   "metadata": {},
   "source": [
    "## Split des données d'entrainement et de validation"
   ]
  },
  {
   "cell_type": "code",
   "execution_count": 229,
   "metadata": {},
   "outputs": [],
   "source": [
    "test_portion=.15\n",
    "\n",
    "X_train, X_test, y_train, y_test = train_test_split(X, y, test_size=test_portion, random_state=0)\n",
    "X_train_binary, X_test_binary, y_train_binary, y_test_binary = train_test_split(X, y_binary, test_size=test_portion, random_state=0)"
   ]
  },
  {
   "cell_type": "markdown",
   "metadata": {},
   "source": [
    "## RandomForestClassifier \n",
    "\n",
    "#### On crée 2 modeles : \n",
    "- l'un essaye de savoir si un commentaires et toxiques ou non\n",
    "- l'autre essaye de trouver si un commentaires et toxiques et, si oui, de quel type \n",
    "\n",
    "\n",
    "\n",
    "#### RandomForestClassifier possède un argument qui nous est très utile : \"class_weight='balanced'\".\n",
    "\n",
    "Celui-ci permet de donner autant d'importance a tous les labels en reequilibrant avec un coefficient toutes les données. \n",
    "\n",
    "En effet, dans notre dataset, nous n'avons que très peu de données toxique ce qui entraine des problèmes lors de l'entrainement puisque le modèle a tendance a donner trop peu d'importance a certaines categories.\n",
    "\n"
   ]
  },
  {
   "cell_type": "code",
   "execution_count": 230,
   "metadata": {},
   "outputs": [],
   "source": [
    "text_classifier = RandomForestClassifier(n_estimators=15, random_state=0, class_weight='balanced')\n",
    "history = text_classifier.fit(X_train, y_train )\n",
    "\n",
    "text_classifier_binary = RandomForestClassifier(n_estimators=15, random_state=0, class_weight='balanced')\n",
    "history_binary = text_classifier_binary.fit(X_train_binary, y_train_binary)"
   ]
  },
  {
   "cell_type": "markdown",
   "metadata": {},
   "source": [
    "## Prédictions"
   ]
  },
  {
   "cell_type": "code",
   "execution_count": 231,
   "metadata": {},
   "outputs": [],
   "source": [
    "predictions = text_classifier.predict(X_test)\n",
    "predictions_binary = text_classifier_binary.predict(X_test_binary)"
   ]
  },
  {
   "cell_type": "markdown",
   "metadata": {},
   "source": [
    "## Métriques"
   ]
  },
  {
   "cell_type": "markdown",
   "metadata": {},
   "source": [
    "On crée un dataframe qui servira a contenir les métriques de tous les modèles pour comparer les performances"
   ]
  },
  {
   "cell_type": "code",
   "execution_count": 232,
   "metadata": {},
   "outputs": [],
   "source": [
    "metrics_score = pd.DataFrame(columns=['model', 'roc_auc', 'confusion_matrix', 'precision_score', 'recall_score', 'f1_score'])"
   ]
  },
  {
   "cell_type": "markdown",
   "metadata": {},
   "source": [
    "\n",
    "#### AUC_ROC\n",
    "On va regarder la Area Under the Receiver Operating Characteristic Curve\n",
    "\n",
    "Cette métrique permet de mesurer la capacité d'un modèle a dinstinguer 2 classes.\n",
    "\n",
    "L'avantage de cette métrique est qu'elle ne prends pas en compte le seuil de classification comme la prècison et le rappel..."
   ]
  },
  {
   "cell_type": "code",
   "execution_count": 233,
   "metadata": {},
   "outputs": [],
   "source": [
    "def roc_auc(predictions,target):\n",
    "    '''\n",
    "    This methods returns the AUC Score when given the Predictions\n",
    "    and Labels\n",
    "    '''\n",
    "    \n",
    "    fpr, tpr, thresholds = roc_curve(target, predictions)\n",
    "    roc_auc = auc(fpr, tpr)\n",
    "    return roc_auc"
   ]
  },
  {
   "cell_type": "markdown",
   "metadata": {},
   "source": [
    "#### Précision, Rappel et F1\n",
    "\n",
    "l'AUC_ROC ne prends pas en compte le cout different les faux positifs et faux negatifs \n",
    "\n",
    "Par ailleurs, dans notre cas, comme nous avons que très peu d'exemple toxiques, le modèle a tendance à donner moins d'importance aux données toxiques. Ceci entraine donc une augementation des faux négatifs.\n",
    "\n",
    "On sait alors que l'on aura un score de rappel et de prècision assez bas et que l'on veut l'ameliorer.\n",
    "\n",
    "Si on donne trop d'importance aux données toxiques, on se retrouvera avec beaucoup trop de faux positifs car le modele sera devenu trop sensible.\n",
    "\n",
    "C'est pour cela que le score F1 est aussi interessant, car il prend en compte les 2 metriques precèdentes."
   ]
  },
  {
   "cell_type": "code",
   "execution_count": 234,
   "metadata": {},
   "outputs": [],
   "source": [
    "\n",
    "def display_binary_metrics(model, X_test, y_test, name):\n",
    "    # prédictions et vraies valeurs\n",
    "    y_pred = model.predict(X_test)\n",
    "    y_true = y_test\n",
    "\n",
    "    # Affichage de l'aire sous la courbe ROC\n",
    "    roc = roc_auc(y_pred, y_true)\n",
    "    print(f\"Auc: {roc} \")\n",
    "\n",
    "    # Arrondir les prédictions\n",
    "    y_pred = y_pred.round()\n",
    "\n",
    "    # Affichage de la matrice de confusion\n",
    "    conf = confusion_matrix(y_true, y_pred)\n",
    "    print(f\"Matrice de confusion : {conf}\")\n",
    "\n",
    "    # Affichage de la précision\n",
    "    precision = precision_score(y_true, y_pred)\n",
    "    print(f\"Précision : {precision}\")\n",
    "\n",
    "    # Affichage du rappel\n",
    "    recall = recall_score(y_true, y_pred)\n",
    "    print(f\"Rappel : {recall}\")\n",
    "\n",
    "    # Affichage du score F1\n",
    "    f1 = f1_score(y_true, y_pred)\n",
    "    print(f\"Score F1 : {f1}\")\n",
    "\n",
    "    return {\n",
    "        'model': name,\n",
    "        # 'accuracy_score': accuracy,\n",
    "        # 'loss_score': loss,\n",
    "        'roc_auc': roc,\n",
    "        'confusion_matrix': conf,\n",
    "        'precision_score': precision,\n",
    "        'recall_score': recall,\n",
    "        'f1_score': f1\n",
    "    }\n",
    "\n",
    "\n"
   ]
  },
  {
   "cell_type": "code",
   "execution_count": 235,
   "metadata": {},
   "outputs": [
    {
     "name": "stdout",
     "output_type": "stream",
     "text": [
      "Auc: 0.6824885640675113 \n",
      "Matrice de confusion : [[1987   15]\n",
      " [ 155   92]]\n",
      "Précision : 0.8598130841121495\n",
      "Rappel : 0.3724696356275304\n",
      "Score F1 : 0.519774011299435\n"
     ]
    },
    {
     "name": "stderr",
     "output_type": "stream",
     "text": [
      "/var/folders/4h/0hgx3df95ll34vbrssxhzfvm0000gn/T/ipykernel_1135/3138119679.py:5: FutureWarning: The behavior of DataFrame concatenation with empty or all-NA entries is deprecated. In a future version, this will no longer exclude empty or all-NA columns when determining the result dtypes. To retain the old behavior, exclude the relevant entries before the concat operation.\n",
      "  metrics_score = pd.concat([metrics_score, pd.DataFrame.from_dict([metrics])], ignore_index=True)\n"
     ]
    }
   ],
   "source": [
    "# Affichage des métriques\n",
    "metrics = display_binary_metrics(text_classifier_binary, X_test_binary, y_test_binary, 'RandomForestClassifier')\n",
    "\n",
    "# Enregistrement des metrics dans le dataframe\n",
    "metrics_score = pd.concat([metrics_score, pd.DataFrame.from_dict([metrics])], ignore_index=True)"
   ]
  },
  {
   "cell_type": "markdown",
   "metadata": {},
   "source": [
    "## Exportation du modèle"
   ]
  },
  {
   "cell_type": "code",
   "execution_count": 236,
   "metadata": {},
   "outputs": [
    {
     "data": {
      "text/plain": [
       "['tfIdfVectorizer.joblib']"
      ]
     },
     "execution_count": 236,
     "metadata": {},
     "output_type": "execute_result"
    }
   ],
   "source": [
    "from joblib import dump\n",
    "\n",
    "# Sauvegarder le modèle\n",
    "dump(text_classifier, 'text_classifier.joblib')\n",
    "dump(tfIdfVectorizer, 'tfIdfVectorizer.joblib')"
   ]
  },
  {
   "cell_type": "markdown",
   "metadata": {},
   "source": [
    "# Importation du Dataset"
   ]
  },
  {
   "cell_type": "code",
   "execution_count": 237,
   "metadata": {},
   "outputs": [],
   "source": [
    "df = pd.read_csv('./datasets/test_filtered_data.csv')"
   ]
  },
  {
   "cell_type": "code",
   "execution_count": 238,
   "metadata": {},
   "outputs": [],
   "source": [
    "comments = df['comment_text']\n",
    "y = df['isToxic']"
   ]
  },
  {
   "cell_type": "markdown",
   "metadata": {},
   "source": [
    "# Tokenizer\n",
    "\n",
    "On convertit tous les commentaires en liste de mots.\n",
    "\n",
    "Chaque mot est, par la suite, transformé en integer, representant l'index du mot dans un dictionnaire.\n",
    "\n",
    "Dans notre cas, on s'assure d'enlever tous les caractères speciaux, de mettres tous les mots en minuscule et on dit au modele que s'il ne reconnait pas un mot parce que pas dans son vocabulaire, on mettra la balise \"OOV\" "
   ]
  },
  {
   "cell_type": "code",
   "execution_count": 239,
   "metadata": {},
   "outputs": [],
   "source": [
    "oov_tok = \"<OOV>\"      # Token \"<OOV>\" replaces words that are not part of the vocabulary (Out Of Vocabulary)\n",
    "\n",
    "# Setup the tokenizer\n",
    "tokenizer = Tokenizer(\n",
    "    filters='!\"#$%&()*+,-./:;<=>?@[\\\\]^_`{|}~\\t\\n',\n",
    "    lower=True,\n",
    "    split=' ',\n",
    "    oov_token=oov_tok,\n",
    ")"
   ]
  },
  {
   "cell_type": "code",
   "execution_count": 240,
   "metadata": {},
   "outputs": [],
   "source": [
    "# Entrainement du tokenizer sur les commentaires\n",
    "tokenizer.fit_on_texts(comments)\n",
    "\n",
    "# Convertir les commentaires en séquences après entrainement du tokenizer sur les commentaires\n",
    "sequences = tokenizer.texts_to_sequences(comments)"
   ]
  },
  {
   "cell_type": "code",
   "execution_count": 241,
   "metadata": {},
   "outputs": [],
   "source": [
    "# Dictionnaire des index des mots\n",
    "word_index = tokenizer.word_index\n",
    "\n",
    "# Taille du vocabulaire\n",
    "vocab_size = len(word_index)\n",
    "\n",
    "# Dimension de l'input de l'embedding\n",
    "input_dimension = vocab_size + 1\n"
   ]
  },
  {
   "cell_type": "markdown",
   "metadata": {},
   "source": [
    "## Padding\n",
    "\n",
    "Notre modèle à une input shape qui ne peux pas etre modifié. Ainsi, on determine une taille d'entrée de chaque commentaire. \n",
    "\n",
    "Dans notre cas, ce sera 50 caracteres.\n",
    "\n",
    "Si le commentaire est trop court, on remplira le commentaire avec l'index de vocabulaire 0 et si il est trop grand, on le coupe en conservant le debut de la sequence."
   ]
  },
  {
   "cell_type": "code",
   "execution_count": 242,
   "metadata": {},
   "outputs": [],
   "source": [
    "trunc_type='post'      # Truncates the tweet if it is longer than max_length\n",
    "padding_type='post'    # Adds padding to the end of the tweet if it is shorter than max_length\n",
    "max_length = 50   # Maximum size of a tweet\n",
    "\n",
    "# Padding & Truncature des sequences\n",
    "padded_sequences = pad_sequences(sequences, maxlen=max_length, padding=padding_type, truncating=trunc_type)"
   ]
  },
  {
   "cell_type": "markdown",
   "metadata": {},
   "source": [
    "# Recurrent Neural Network en Binary Classification"
   ]
  },
  {
   "cell_type": "markdown",
   "metadata": {},
   "source": [
    "On definit le nombre d'epochs et la batch_size de tous les modèles par la suite"
   ]
  },
  {
   "cell_type": "code",
   "execution_count": 243,
   "metadata": {},
   "outputs": [],
   "source": [
    "epochs = 5\n",
    "batch_size = 128"
   ]
  },
  {
   "cell_type": "markdown",
   "metadata": {},
   "source": [
    "# Split les sequences \n",
    "on divise le jeu de donnée en données d'entrainement et de validation"
   ]
  },
  {
   "cell_type": "code",
   "execution_count": 244,
   "metadata": {},
   "outputs": [],
   "source": [
    "test_portion=.15\n",
    "\n",
    "X_train, X_test, y_train, y_test = train_test_split(padded_sequences, y, test_size=test_portion)"
   ]
  },
  {
   "cell_type": "markdown",
   "metadata": {},
   "source": [
    "# Sample Weight"
   ]
  },
  {
   "cell_type": "markdown",
   "metadata": {},
   "source": [
    "sample_weight permet de donner autant d'importance a tous les labels en reequilibrant avec un coefficient toutes les données. \n",
    "\n",
    "En effet, dans notre dataset, nous n'avons que très peu de données toxique ce qui entraine des problèmes lors de l'entrainement puisque le modèle a tendance a donner trop peu d'importance a certaines categories.\n",
    "\n",
    "les modèles hors RandomForestClassifier, ne prennent pas en compte de manière native l'utilisation de sample_weight en mode balanced. \n",
    "\n",
    "Toutefois, on peut retrouver un outil permettant de le faire avec sklearn : compute_sample_weight\n",
    "\n",
    "Pour se faire il faut lui donner une listes de tous les labels associé aux données d'entrainement.\n",
    "\n",
    "\n",
    "\n",
    "\n"
   ]
  },
  {
   "cell_type": "code",
   "execution_count": 245,
   "metadata": {},
   "outputs": [],
   "source": [
    "from sklearn.utils import compute_sample_weight\n",
    "\n",
    "# recuperer les poids des classes de manière équilibrée en fonction des classes presentes dans y_train\n",
    "sample_weights = compute_sample_weight(class_weight='balanced', y=y_train)\n",
    "\n",
    "# augmentation des poids des commentaires toxiques\n",
    "# sample_weights[y_train == 1] *= 1.5"
   ]
  },
  {
   "cell_type": "markdown",
   "metadata": {},
   "source": [
    "# Embedding & GloVe"
   ]
  },
  {
   "cell_type": "markdown",
   "metadata": {},
   "source": [
    "L'embedding permet de capturer les relatition entre les mots et de réaliser des opération mathematiques sur ces representations, grace à leur representation vectoriel dans un espace a n dimensions.\n",
    "\n",
    "Un embedding performant est donc obligatoire si l'on veut avoir un modele performant.\n",
    "\n",
    "Pour se faire, nous avons choisi GloVe. \n",
    "\n",
    "C'est une couche d'embedding préentrainé par Stanford, donc bien plus performante que n'importe quel embedding que nous entrainerons nous même."
   ]
  },
  {
   "cell_type": "code",
   "execution_count": 246,
   "metadata": {},
   "outputs": [
    {
     "name": "stdout",
     "output_type": "stream",
     "text": [
      "Found 2196016 word vectors.\n"
     ]
    }
   ],
   "source": [
    "embedding_dim = 300    # Dimensions used\n",
    "embeddings_index = {}\n",
    "\n",
    "# Ouverture du fichier glove\n",
    "f = open('./Glove/glove.840B.300d.txt','r', encoding='utf-8')\n",
    "\n",
    "# Lecture de chaque ligne du fichier\n",
    "for line in f:\n",
    "    values = line.split(' ')\n",
    "\n",
    "    # Recuperation du mot au debut de la ligne\n",
    "    word = values[0]\n",
    "\n",
    "    # Recuperation des valeurs de vecteurs\n",
    "    coefs = np.asarray([float(val) for val in values[1:]])\n",
    "\n",
    "    # Ajout du mot et de son vecteur dans le dictionnaire\n",
    "    embeddings_index[word] = coefs\n",
    "\n",
    "# Fermeture du fichier\n",
    "f.close()\n",
    "\n",
    "print('Found %s word vectors.' % len(embeddings_index))\n"
   ]
  },
  {
   "cell_type": "code",
   "execution_count": 247,
   "metadata": {},
   "outputs": [],
   "source": [
    "# Créer une matrice de dimension (input_dimension, embedding_dim)\n",
    "embedding_matrix = np.zeros((input_dimension, embedding_dim))\n",
    "\n",
    "# Remplir la matrice de mots avec les vecteurs de mots\n",
    "for word, i in word_index.items():\n",
    "    embedding_vector = embeddings_index.get(word)\n",
    "    if embedding_vector is not None:\n",
    "        embedding_matrix[i] = embedding_vector"
   ]
  },
  {
   "cell_type": "markdown",
   "metadata": {},
   "source": [
    "# SimpleRNN (sans GloVe)"
   ]
  },
  {
   "cell_type": "markdown",
   "metadata": {},
   "source": [
    "- Dropout permet de desactiver une certaine proportion des neurones. Il est très utile pour empecher le modele d'overfit\n",
    "\n",
    "- SpatialDropout1D est une variante de Dropout, plus performante sur les données spatiales. Cela est plus performant sur de l'embedding car il desactive aléatoirement des canaux entiers au lieu de simplement desactiver des neurones.\n",
    "\n",
    "- BatchNormalization sert avant tout à donner de la stabilité à notre modèle et d'accelerer l'apprentissage en rendant les poids plus faciles à optimiser vu qu'il normalise"
   ]
  },
  {
   "cell_type": "markdown",
   "metadata": {},
   "source": [
    "Étant donné que l'on fait une classification binaire, on choit une fonction d'activation \"sigmoid\" dans la couche de sortie avec un neurone.\n",
    "\n",
    "En effet, sigmoid est interessante dans notre cas car elle peut donner un resultat interpretable comme la probabilité que la sortie du neurone soit 1."
   ]
  },
  {
   "cell_type": "code",
   "execution_count": 248,
   "metadata": {},
   "outputs": [
    {
     "name": "stdout",
     "output_type": "stream",
     "text": [
      "Model: \"sequential_8\"\n",
      "_________________________________________________________________\n",
      " Layer (type)                Output Shape              Param #   \n",
      "=================================================================\n",
      " embedding_11 (Embedding)    (None, 50, 300)           14379900  \n",
      "                                                                 \n",
      " spatial_dropout1d_11 (Spat  (None, 50, 300)           0         \n",
      " ialDropout1D)                                                   \n",
      "                                                                 \n",
      " simple_rnn_2 (SimpleRNN)    (None, 300)               180300    \n",
      "                                                                 \n",
      " dropout_18 (Dropout)        (None, 300)               0         \n",
      "                                                                 \n",
      " batch_normalization_18 (Ba  (None, 300)               1200      \n",
      " tchNormalization)                                               \n",
      "                                                                 \n",
      " dense_15 (Dense)            (None, 1)                 301       \n",
      "                                                                 \n",
      "=================================================================\n",
      "Total params: 14561701 (55.55 MB)\n",
      "Trainable params: 14561101 (55.55 MB)\n",
      "Non-trainable params: 600 (2.34 KB)\n",
      "_________________________________________________________________\n"
     ]
    }
   ],
   "source": [
    "\n",
    "model = Sequential()\n",
    "model.add(Embedding(input_dim=input_dimension, output_dim=300, input_length=max_length))\n",
    "model.add(SpatialDropout1D(0.3))\n",
    "model.add(SimpleRNN(300))\n",
    "model.add(Dropout(0.3))\n",
    "model.add(BatchNormalization())\n",
    "model.add(Dense(1, activation='sigmoid')) \n",
    "\n",
    "model.summary()\n"
   ]
  },
  {
   "cell_type": "markdown",
   "metadata": {},
   "source": [
    "Étant donné que l'on fait une classification binaire, on choit binary_crossentropy pour la loss function, ce qui est le choix par defaut quand notre modele donne des probabilité de sortie comme fait sigmoid."
   ]
  },
  {
   "cell_type": "code",
   "execution_count": 249,
   "metadata": {},
   "outputs": [],
   "source": [
    "model.compile(loss='binary_crossentropy', optimizer='adam', metrics=['accuracy']) "
   ]
  },
  {
   "cell_type": "code",
   "execution_count": 250,
   "metadata": {},
   "outputs": [
    {
     "name": "stdout",
     "output_type": "stream",
     "text": [
      "Epoch 1/5\n"
     ]
    },
    {
     "name": "stdout",
     "output_type": "stream",
     "text": [
      "100/100 [==============================] - 9s 87ms/step - loss: 0.7870 - accuracy: 0.5292 - val_loss: 0.8093 - val_accuracy: 0.1094\n",
      "Epoch 2/5\n",
      "100/100 [==============================] - 9s 86ms/step - loss: 0.7630 - accuracy: 0.5322 - val_loss: 0.6418 - val_accuracy: 0.9022\n",
      "Epoch 3/5\n",
      "100/100 [==============================] - 9s 88ms/step - loss: 0.7852 - accuracy: 0.5168 - val_loss: 0.7304 - val_accuracy: 0.2392\n",
      "Epoch 4/5\n",
      "100/100 [==============================] - 9s 87ms/step - loss: 0.7323 - accuracy: 0.5293 - val_loss: 0.3661 - val_accuracy: 0.9017\n",
      "Epoch 5/5\n",
      "100/100 [==============================] - 9s 87ms/step - loss: 0.6995 - accuracy: 0.5163 - val_loss: 0.5909 - val_accuracy: 0.9008\n",
      "Training Complete\n"
     ]
    }
   ],
   "source": [
    "history = model.fit(\n",
    "    X_train, \n",
    "    y_train, \n",
    "    epochs=epochs, \n",
    "    validation_data=(X_test, y_test),\n",
    "    sample_weight=sample_weights,\n",
    "    batch_size=batch_size\n",
    ")\n",
    "print(\"Training Complete\")"
   ]
  },
  {
   "cell_type": "markdown",
   "metadata": {},
   "source": [
    "## Courbes de Training et Validation"
   ]
  },
  {
   "cell_type": "code",
   "execution_count": 251,
   "metadata": {},
   "outputs": [
    {
     "data": {
      "image/png": "[encoded data removed]",
      "text/plain": [
       "<Figure size 640x480 with 1 Axes>"
      ]
     },
     "metadata": {},
     "output_type": "display_data"
    },
    {
     "data": {
      "text/plain": [
       "<Figure size 640x480 with 0 Axes>"
      ]
     },
     "metadata": {},
     "output_type": "display_data"
    },
    {
     "data": {
      "image/png": "[encoded data removed]",
      "text/plain": [
       "<Figure size 640x480 with 1 Axes>"
      ]
     },
     "metadata": {},
     "output_type": "display_data"
    },
    {
     "data": {
      "text/plain": [
       "<Figure size 640x480 with 0 Axes>"
      ]
     },
     "metadata": {},
     "output_type": "display_data"
    }
   ],
   "source": [
    "def display_training_curves(history):\n",
    "    #-----------------------------------------------------------\n",
    "    # Retrieve a list of list results on training and test data\n",
    "    # sets for each training epoch\n",
    "    #-----------------------------------------------------------\n",
    "    acc=history.history['accuracy']\n",
    "    val_acc=history.history['val_accuracy']\n",
    "    loss=history.history['loss']\n",
    "    val_loss=history.history['val_loss']\n",
    "\n",
    "    epochs=range(len(acc)) # Get number of epochs\n",
    "\n",
    "    #------------------------------------------------\n",
    "    # Plot training and validation accuracy per epoch\n",
    "    #------------------------------------------------\n",
    "    plt.plot(epochs, acc, 'r')\n",
    "    plt.plot(epochs, val_acc, 'b')\n",
    "    plt.title('Training and validation accuracy')\n",
    "    plt.xlabel(\"Epochs\")\n",
    "    plt.ylabel(\"Accuracy\")\n",
    "    plt.legend([\"Accuracy\", \"Validation Accuracy\"])\n",
    "\n",
    "    plt.figure()\n",
    "    plt.show()\n",
    "\n",
    "    #------------------------------------------------\n",
    "    # Plot training and validation loss per epoch\n",
    "    #------------------------------------------------\n",
    "    plt.plot(epochs, loss, 'r')\n",
    "    plt.plot(epochs, val_loss, 'b')\n",
    "    plt.title('Training and validation loss')\n",
    "    plt.xlabel(\"Epochs\")\n",
    "    plt.ylabel(\"Loss\")\n",
    "    plt.legend([\"Loss\", \"Validation Loss\"])\n",
    "\n",
    "    plt.figure()\n",
    "    plt.show()\n",
    "\n",
    "display_training_curves(history)"
   ]
  },
  {
   "cell_type": "markdown",
   "metadata": {},
   "source": [
    "## Métriques"
   ]
  },
  {
   "cell_type": "code",
   "execution_count": 252,
   "metadata": {},
   "outputs": [
    {
     "name": "stdout",
     "output_type": "stream",
     "text": [
      "71/71 [==============================] - 1s 9ms/step\n",
      "Auc: 0.6419788072942336 \n",
      "Matrice de confusion : [[2024    5]\n",
      " [ 218    2]]\n",
      "Précision : 0.2857142857142857\n",
      "Rappel : 0.00909090909090909\n",
      "Score F1 : 0.017621145374449337\n"
     ]
    }
   ],
   "source": [
    "# Affichage des métriques\n",
    "metrics = display_binary_metrics(model, X_test, y_test, 'RNN (No GloVe)')\n",
    "\n",
    "# Enregistrement des metrics dans le dataframe\n",
    "metrics_score = pd.concat([metrics_score, pd.DataFrame.from_dict([metrics])], ignore_index=True)"
   ]
  },
  {
   "cell_type": "markdown",
   "metadata": {},
   "source": [
    "# SimpleRNN + GloVe"
   ]
  },
  {
   "cell_type": "markdown",
   "metadata": {},
   "source": [
    "- On ajoute Ajoute gloVe à notre modèle et on ne l'entraine pas car il est deja entrainé\n"
   ]
  },
  {
   "cell_type": "code",
   "execution_count": 253,
   "metadata": {},
   "outputs": [
    {
     "name": "stdout",
     "output_type": "stream",
     "text": [
      "Model: \"sequential_9\"\n",
      "_________________________________________________________________\n",
      " Layer (type)                Output Shape              Param #   \n",
      "=================================================================\n",
      " embedding_12 (Embedding)    (None, 50, 300)           14379900  \n",
      "                                                                 \n",
      " spatial_dropout1d_12 (Spat  (None, 50, 300)           0         \n",
      " ialDropout1D)                                                   \n",
      "                                                                 \n",
      " simple_rnn_3 (SimpleRNN)    (None, 300)               180300    \n",
      "                                                                 \n",
      " dropout_19 (Dropout)        (None, 300)               0         \n",
      "                                                                 \n",
      " batch_normalization_19 (Ba  (None, 300)               1200      \n",
      " tchNormalization)                                               \n",
      "                                                                 \n",
      " dense_16 (Dense)            (None, 1)                 301       \n",
      "                                                                 \n",
      "=================================================================\n",
      "Total params: 14561701 (55.55 MB)\n",
      "Trainable params: 181201 (707.82 KB)\n",
      "Non-trainable params: 14380500 (54.86 MB)\n",
      "_________________________________________________________________\n"
     ]
    }
   ],
   "source": [
    "model = Sequential()\n",
    "model.add(Embedding(input_dimension, embedding_dim, weights=[embedding_matrix], input_length=max_length, trainable=False))\n",
    "model.add(SpatialDropout1D(0.3))\n",
    "model.add(SimpleRNN(300))\n",
    "model.add(Dropout(0.3))\n",
    "model.add(BatchNormalization())\n",
    "model.add(Dense(1, activation='sigmoid')) \n",
    "\n",
    "model.summary()"
   ]
  },
  {
   "cell_type": "code",
   "execution_count": 254,
   "metadata": {},
   "outputs": [],
   "source": [
    "model.compile(loss='binary_crossentropy', optimizer='adam', metrics=['accuracy']) "
   ]
  },
  {
   "cell_type": "code",
   "execution_count": 255,
   "metadata": {},
   "outputs": [
    {
     "name": "stdout",
     "output_type": "stream",
     "text": [
      "Epoch 1/5\n"
     ]
    },
    {
     "name": "stdout",
     "output_type": "stream",
     "text": [
      "100/100 [==============================] - 6s 53ms/step - loss: 0.7593 - accuracy: 0.5463 - val_loss: 0.6551 - val_accuracy: 0.6323\n",
      "Epoch 2/5\n",
      "100/100 [==============================] - 5s 55ms/step - loss: 0.6973 - accuracy: 0.6271 - val_loss: 0.6175 - val_accuracy: 0.7056\n",
      "Epoch 3/5\n",
      "100/100 [==============================] - 6s 55ms/step - loss: 0.7397 - accuracy: 0.5831 - val_loss: 0.6427 - val_accuracy: 0.6060\n",
      "Epoch 4/5\n",
      "100/100 [==============================] - 5s 54ms/step - loss: 0.6327 - accuracy: 0.6822 - val_loss: 0.5206 - val_accuracy: 0.7715\n",
      "Epoch 5/5\n",
      "100/100 [==============================] - 6s 60ms/step - loss: 0.6053 - accuracy: 0.7045 - val_loss: 0.7373 - val_accuracy: 0.5322\n",
      "Training Complete\n"
     ]
    }
   ],
   "source": [
    "history = model.fit(\n",
    "    X_train, \n",
    "    y_train, \n",
    "    epochs=epochs, \n",
    "    validation_data=(X_test, y_test),\n",
    "    sample_weight=sample_weights,\n",
    "    batch_size=batch_size\n",
    ")\n",
    "print(\"Training Complete\")"
   ]
  },
  {
   "cell_type": "markdown",
   "metadata": {},
   "source": [
    "## Courbes de Training et Validation"
   ]
  },
  {
   "cell_type": "code",
   "execution_count": 256,
   "metadata": {},
   "outputs": [
    {
     "data": {
      "image/png": "[encoded data removed]",
      "text/plain": [
       "<Figure size 640x480 with 1 Axes>"
      ]
     },
     "metadata": {},
     "output_type": "display_data"
    },
    {
     "data": {
      "text/plain": [
       "<Figure size 640x480 with 0 Axes>"
      ]
     },
     "metadata": {},
     "output_type": "display_data"
    },
    {
     "data": {
      "image/png": "[encoded data removed]",
      "text/plain": [
       "<Figure size 640x480 with 1 Axes>"
      ]
     },
     "metadata": {},
     "output_type": "display_data"
    },
    {
     "data": {
      "text/plain": [
       "<Figure size 640x480 with 0 Axes>"
      ]
     },
     "metadata": {},
     "output_type": "display_data"
    }
   ],
   "source": [
    "display_training_curves(history)"
   ]
  },
  {
   "cell_type": "markdown",
   "metadata": {},
   "source": [
    "## Métriques"
   ]
  },
  {
   "cell_type": "code",
   "execution_count": 257,
   "metadata": {},
   "outputs": [
    {
     "name": "stdout",
     "output_type": "stream",
     "text": [
      "71/71 [==============================] - 1s 9ms/step\n",
      "Auc: 0.7724606837223891 \n",
      "Matrice de confusion : [[1009 1020]\n",
      " [  32  188]]\n",
      "Précision : 0.15562913907284767\n",
      "Rappel : 0.8545454545454545\n",
      "Score F1 : 0.26330532212885155\n"
     ]
    }
   ],
   "source": [
    "# Affichage des métriques\n",
    "metrics = display_binary_metrics(model, X_test, y_test, 'RNN')\n",
    "\n",
    "# Enregistrement des metrics dans le dataframe\n",
    "metrics_score = pd.concat([metrics_score, pd.DataFrame.from_dict([metrics])], ignore_index=True)"
   ]
  },
  {
   "cell_type": "markdown",
   "metadata": {},
   "source": [
    "# LSTM"
   ]
  },
  {
   "cell_type": "code",
   "execution_count": 258,
   "metadata": {},
   "outputs": [
    {
     "name": "stdout",
     "output_type": "stream",
     "text": [
      "Model: \"sequential_10\"\n",
      "_________________________________________________________________\n",
      " Layer (type)                Output Shape              Param #   \n",
      "=================================================================\n",
      " embedding_13 (Embedding)    (None, 50, 300)           14379900  \n",
      "                                                                 \n",
      " spatial_dropout1d_13 (Spat  (None, 50, 300)           0         \n",
      " ialDropout1D)                                                   \n",
      "                                                                 \n",
      " lstm_4 (LSTM)               (None, 300)               721200    \n",
      "                                                                 \n",
      " dropout_20 (Dropout)        (None, 300)               0         \n",
      "                                                                 \n",
      " batch_normalization_20 (Ba  (None, 300)               1200      \n",
      " tchNormalization)                                               \n",
      "                                                                 \n",
      " dense_17 (Dense)            (None, 1)                 301       \n",
      "                                                                 \n",
      "=================================================================\n",
      "Total params: 15102601 (57.61 MB)\n",
      "Trainable params: 722101 (2.75 MB)\n",
      "Non-trainable params: 14380500 (54.86 MB)\n",
      "_________________________________________________________________\n"
     ]
    }
   ],
   "source": [
    "model = Sequential()\n",
    "model.add(Embedding(input_dimension, embedding_dim, weights=[embedding_matrix], input_length=max_length, trainable=False))\n",
    "model.add(SpatialDropout1D(0.3))\n",
    "model.add(LSTM(300))\n",
    "model.add(Dropout(0.3))\n",
    "model.add(BatchNormalization())\n",
    "model.add(Dense(1, activation='sigmoid')) \n",
    "\n",
    "model.summary()"
   ]
  },
  {
   "cell_type": "code",
   "execution_count": 259,
   "metadata": {},
   "outputs": [],
   "source": [
    "model.compile(loss='binary_crossentropy', optimizer='adam', metrics=['accuracy']) "
   ]
  },
  {
   "cell_type": "code",
   "execution_count": 260,
   "metadata": {},
   "outputs": [
    {
     "name": "stdout",
     "output_type": "stream",
     "text": [
      "Epoch 1/5\n"
     ]
    },
    {
     "name": "stdout",
     "output_type": "stream",
     "text": [
      "100/100 [==============================] - 14s 133ms/step - loss: 0.4834 - accuracy: 0.7329 - val_loss: 0.2509 - val_accuracy: 0.9386\n",
      "Epoch 2/5\n",
      "100/100 [==============================] - 14s 141ms/step - loss: 0.3461 - accuracy: 0.8767 - val_loss: 0.2885 - val_accuracy: 0.8270\n",
      "Epoch 3/5\n",
      "100/100 [==============================] - 14s 137ms/step - loss: 0.3433 - accuracy: 0.8680 - val_loss: 0.1934 - val_accuracy: 0.9008\n",
      "Epoch 4/5\n",
      "100/100 [==============================] - 14s 137ms/step - loss: 0.2751 - accuracy: 0.8993 - val_loss: 0.2535 - val_accuracy: 0.9564\n",
      "Epoch 5/5\n",
      "100/100 [==============================] - 14s 138ms/step - loss: 0.2517 - accuracy: 0.9017 - val_loss: 0.1909 - val_accuracy: 0.9529\n",
      "Training Complete\n"
     ]
    }
   ],
   "source": [
    "history = model.fit(\n",
    "    X_train, \n",
    "    y_train, \n",
    "    epochs=epochs, \n",
    "    validation_data=(X_test, y_test),\n",
    "    sample_weight=sample_weights,\n",
    "    batch_size=batch_size\n",
    ")\n",
    "print(\"Training Complete\")"
   ]
  },
  {
   "cell_type": "markdown",
   "metadata": {},
   "source": [
    "## Courbes de Training et Validation"
   ]
  },
  {
   "cell_type": "code",
   "execution_count": 261,
   "metadata": {},
   "outputs": [
    {
     "data": {
      "image/png": "[encoded data removed]",
      "text/plain": [
       "<Figure size 640x480 with 1 Axes>"
      ]
     },
     "metadata": {},
     "output_type": "display_data"
    },
    {
     "data": {
      "text/plain": [
       "<Figure size 640x480 with 0 Axes>"
      ]
     },
     "metadata": {},
     "output_type": "display_data"
    },
    {
     "data": {
      "image/png": "[encoded data removed]",
      "text/plain": [
       "<Figure size 640x480 with 1 Axes>"
      ]
     },
     "metadata": {},
     "output_type": "display_data"
    },
    {
     "data": {
      "text/plain": [
       "<Figure size 640x480 with 0 Axes>"
      ]
     },
     "metadata": {},
     "output_type": "display_data"
    }
   ],
   "source": [
    "display_training_curves(history)"
   ]
  },
  {
   "cell_type": "markdown",
   "metadata": {},
   "source": [
    "## Métriques"
   ]
  },
  {
   "cell_type": "code",
   "execution_count": 262,
   "metadata": {},
   "outputs": [
    {
     "name": "stdout",
     "output_type": "stream",
     "text": [
      "71/71 [==============================] - 4s 50ms/step\n",
      "Auc: 0.966660692683364 \n",
      "Matrice de confusion : [[1959   70]\n",
      " [  36  184]]\n",
      "Précision : 0.7244094488188977\n",
      "Rappel : 0.8363636363636363\n",
      "Score F1 : 0.7763713080168776\n"
     ]
    }
   ],
   "source": [
    "# Affichage des métriques\n",
    "metrics = display_binary_metrics(model, X_test, y_test, 'LSTM')\n",
    "\n",
    "# Enregistrement des metrics dans le dataframe\n",
    "metrics_score = pd.concat([metrics_score, pd.DataFrame.from_dict([metrics])], ignore_index=True)"
   ]
  },
  {
   "cell_type": "markdown",
   "metadata": {},
   "source": [
    "# Bi-LSTM"
   ]
  },
  {
   "cell_type": "code",
   "execution_count": 263,
   "metadata": {},
   "outputs": [
    {
     "name": "stdout",
     "output_type": "stream",
     "text": [
      "Model: \"sequential_11\"\n",
      "_________________________________________________________________\n",
      " Layer (type)                Output Shape              Param #   \n",
      "=================================================================\n",
      " embedding_14 (Embedding)    (None, 50, 300)           14379900  \n",
      "                                                                 \n",
      " spatial_dropout1d_14 (Spat  (None, 50, 300)           0         \n",
      " ialDropout1D)                                                   \n",
      "                                                                 \n",
      " bidirectional_3 (Bidirecti  (None, 600)               1442400   \n",
      " onal)                                                           \n",
      "                                                                 \n",
      " dropout_21 (Dropout)        (None, 600)               0         \n",
      "                                                                 \n",
      " batch_normalization_21 (Ba  (None, 600)               2400      \n",
      " tchNormalization)                                               \n",
      "                                                                 \n",
      " dense_18 (Dense)            (None, 1)                 601       \n",
      "                                                                 \n",
      "=================================================================\n",
      "Total params: 15825301 (60.37 MB)\n",
      "Trainable params: 1444201 (5.51 MB)\n",
      "Non-trainable params: 14381100 (54.86 MB)\n",
      "_________________________________________________________________\n"
     ]
    }
   ],
   "source": [
    "model = Sequential()\n",
    "model.add(Embedding(input_dimension, embedding_dim, weights=[embedding_matrix], input_length=max_length, trainable=False))\n",
    "model.add(SpatialDropout1D(0.3))\n",
    "\n",
    "model.add(Bidirectional(LSTM(300)))\n",
    "model.add(Dropout(0.3))\n",
    "model.add(BatchNormalization())\n",
    "\n",
    "model.add(Dense(1, activation='sigmoid')) \n",
    "\n",
    "model.summary()"
   ]
  },
  {
   "cell_type": "code",
   "execution_count": 264,
   "metadata": {},
   "outputs": [],
   "source": [
    "model.compile(loss='binary_crossentropy', optimizer='adam', metrics=['accuracy']) "
   ]
  },
  {
   "cell_type": "code",
   "execution_count": 265,
   "metadata": {},
   "outputs": [
    {
     "name": "stdout",
     "output_type": "stream",
     "text": [
      "Epoch 1/5\n"
     ]
    },
    {
     "name": "stdout",
     "output_type": "stream",
     "text": [
      "100/100 [==============================] - 17s 161ms/step - loss: 0.4285 - accuracy: 0.7888 - val_loss: 0.3044 - val_accuracy: 0.9302\n",
      "Epoch 2/5\n",
      "100/100 [==============================] - 16s 160ms/step - loss: 0.2871 - accuracy: 0.8852 - val_loss: 0.2051 - val_accuracy: 0.9520\n",
      "Epoch 3/5\n",
      "100/100 [==============================] - 16s 161ms/step - loss: 0.2545 - accuracy: 0.9018 - val_loss: 0.1759 - val_accuracy: 0.9395\n",
      "Epoch 4/5\n",
      "100/100 [==============================] - 16s 157ms/step - loss: 0.2058 - accuracy: 0.9188 - val_loss: 0.1667 - val_accuracy: 0.9426\n",
      "Epoch 5/5\n",
      "100/100 [==============================] - 16s 157ms/step - loss: 0.1891 - accuracy: 0.9262 - val_loss: 0.1246 - val_accuracy: 0.9578\n",
      "Training Complete\n"
     ]
    }
   ],
   "source": [
    "history = model.fit(\n",
    "    X_train, \n",
    "    y_train, \n",
    "    epochs=epochs, \n",
    "    validation_data=(X_test, y_test),\n",
    "    sample_weight=sample_weights,\n",
    "    batch_size=batch_size\n",
    ")\n",
    "print(\"Training Complete\")"
   ]
  },
  {
   "cell_type": "markdown",
   "metadata": {},
   "source": [
    "## Courbes de Training et Validation"
   ]
  },
  {
   "cell_type": "code",
   "execution_count": 266,
   "metadata": {},
   "outputs": [
    {
     "data": {
      "image/png": "[encoded data removed]",
      "text/plain": [
       "<Figure size 640x480 with 1 Axes>"
      ]
     },
     "metadata": {},
     "output_type": "display_data"
    },
    {
     "data": {
      "text/plain": [
       "<Figure size 640x480 with 0 Axes>"
      ]
     },
     "metadata": {},
     "output_type": "display_data"
    },
    {
     "data": {
      "image/png": "[encoded data removed]",
      "text/plain": [
       "<Figure size 640x480 with 1 Axes>"
      ]
     },
     "metadata": {},
     "output_type": "display_data"
    },
    {
     "data": {
      "text/plain": [
       "<Figure size 640x480 with 0 Axes>"
      ]
     },
     "metadata": {},
     "output_type": "display_data"
    }
   ],
   "source": [
    "display_training_curves(history)"
   ]
  },
  {
   "cell_type": "markdown",
   "metadata": {},
   "source": [
    "## Métriques"
   ]
  },
  {
   "cell_type": "code",
   "execution_count": 267,
   "metadata": {},
   "outputs": [
    {
     "name": "stdout",
     "output_type": "stream",
     "text": [
      "71/71 [==============================] - 3s 34ms/step\n",
      "Auc: 0.9722501008109682 \n",
      "Matrice de confusion : [[1977   52]\n",
      " [  43  177]]\n",
      "Précision : 0.7729257641921398\n",
      "Rappel : 0.8045454545454546\n",
      "Score F1 : 0.7884187082405345\n"
     ]
    }
   ],
   "source": [
    "# Affichage des métriques\n",
    "metrics = display_binary_metrics(model, X_test, y_test, 'Bi-LSTM')\n",
    "\n",
    "# Enregistrement des metrics dans le dataframe\n",
    "metrics_score = pd.concat([metrics_score, pd.DataFrame.from_dict([metrics])], ignore_index=True)"
   ]
  },
  {
   "cell_type": "markdown",
   "metadata": {},
   "source": [
    "# GRU"
   ]
  },
  {
   "cell_type": "code",
   "execution_count": 268,
   "metadata": {},
   "outputs": [
    {
     "name": "stdout",
     "output_type": "stream",
     "text": [
      "Model: \"sequential_12\"\n",
      "_________________________________________________________________\n",
      " Layer (type)                Output Shape              Param #   \n",
      "=================================================================\n",
      " embedding_15 (Embedding)    (None, 50, 300)           14379900  \n",
      "                                                                 \n",
      " spatial_dropout1d_15 (Spat  (None, 50, 300)           0         \n",
      " ialDropout1D)                                                   \n",
      "                                                                 \n",
      " gru_5 (GRU)                 (None, 300)               541800    \n",
      "                                                                 \n",
      " dropout_22 (Dropout)        (None, 300)               0         \n",
      "                                                                 \n",
      " batch_normalization_22 (Ba  (None, 300)               1200      \n",
      " tchNormalization)                                               \n",
      "                                                                 \n",
      " dense_19 (Dense)            (None, 1)                 301       \n",
      "                                                                 \n",
      "=================================================================\n",
      "Total params: 14923201 (56.93 MB)\n",
      "Trainable params: 542701 (2.07 MB)\n",
      "Non-trainable params: 14380500 (54.86 MB)\n",
      "_________________________________________________________________\n"
     ]
    }
   ],
   "source": [
    "model = Sequential()\n",
    "model.add(Embedding(input_dimension, embedding_dim, weights=[embedding_matrix], input_length=max_length, trainable=False))\n",
    "model.add(SpatialDropout1D(0.3))\n",
    "\n",
    "model.add(GRU(300))\n",
    "model.add(Dropout(0.3))\n",
    "model.add(BatchNormalization())\n",
    "\n",
    "# model.add(Dense(32, activation='relu'))\n",
    "# model.add(Dropout(0.3))\n",
    "# model.add(BatchNormalization())\n",
    "\n",
    "model.add(Dense(1, activation='sigmoid'))\n",
    "\n",
    "model.summary()\n",
    "model.compile(loss='binary_crossentropy', optimizer='adam', metrics=['accuracy']) "
   ]
  },
  {
   "cell_type": "code",
   "execution_count": 269,
   "metadata": {},
   "outputs": [
    {
     "name": "stdout",
     "output_type": "stream",
     "text": [
      "Epoch 1/5\n"
     ]
    },
    {
     "name": "stdout",
     "output_type": "stream",
     "text": [
      "100/100 [==============================] - 11s 99ms/step - loss: 0.7178 - accuracy: 0.4429 - val_loss: 0.6791 - val_accuracy: 0.6505\n",
      "Epoch 2/5\n",
      "  1/100 [..............................] - ETA: 12s - loss: 0.4707 - accuracy: 0.7344"
     ]
    },
    {
     "name": "stderr",
     "output_type": "stream",
     "text": [
      "/Users/antoine/miniconda3/envs/AI_CPU/lib/python3.11/site-packages/keras/src/engine/training.py:3103: UserWarning: You are saving your model as an HDF5 file via `model.save()`. This file format is considered legacy. We recommend using instead the native Keras format, e.g. `model.save('my_model.keras')`.\n",
      "  saving_api.save_model(\n"
     ]
    },
    {
     "name": "stdout",
     "output_type": "stream",
     "text": [
      "100/100 [==============================] - 11s 105ms/step - loss: 0.3649 - accuracy: 0.8611 - val_loss: 0.1793 - val_accuracy: 0.9511\n",
      "Epoch 3/5\n",
      "100/100 [==============================] - 10s 105ms/step - loss: 0.2637 - accuracy: 0.8989 - val_loss: 0.1349 - val_accuracy: 0.9600\n",
      "Epoch 4/5\n",
      "100/100 [==============================] - 10s 100ms/step - loss: 0.2401 - accuracy: 0.9123 - val_loss: 0.1614 - val_accuracy: 0.9480\n",
      "Epoch 5/5\n",
      "100/100 [==============================] - 10s 101ms/step - loss: 0.2228 - accuracy: 0.9163 - val_loss: 0.2247 - val_accuracy: 0.9080\n",
      "Training Complete\n"
     ]
    }
   ],
   "source": [
    "filename = 'gru.h5'\n",
    "\n",
    "# Créez une instance de ModelCheckpoint\n",
    "checkpoint = ModelCheckpoint(filename,  # chemin du fichier où sauvegarder le modèle\n",
    "                             monitor='val_loss',  # quelle métrique à surveiller\n",
    "                             verbose=0, \n",
    "                             save_best_only=True,  # ne sauvegarder que le meilleur modèle\n",
    "                             mode='auto')  # 'auto' signifie que la direction est déterminée automatiquement à partir du nom de la métrique surveillée\n",
    "\n",
    "history = model.fit(\n",
    "    X_train, \n",
    "    y_train, \n",
    "    epochs=epochs, \n",
    "    validation_data=(X_test, y_test),\n",
    "    sample_weight=sample_weights,\n",
    "    batch_size=batch_size,\n",
    "    callbacks=[checkpoint]\n",
    ")\n",
    "\n",
    "print(\"Training Complete\")\n",
    "\n",
    "# poids fichier de checkpoint\n",
    "model.load_weights(filename)"
   ]
  },
  {
   "cell_type": "markdown",
   "metadata": {},
   "source": [
    "## Courbes de Training et Validation"
   ]
  },
  {
   "cell_type": "code",
   "execution_count": 270,
   "metadata": {},
   "outputs": [
    {
     "data": {
      "image/png": "[encoded data removed]",
      "text/plain": [
       "<Figure size 640x480 with 1 Axes>"
      ]
     },
     "metadata": {},
     "output_type": "display_data"
    },
    {
     "data": {
      "text/plain": [
       "<Figure size 640x480 with 0 Axes>"
      ]
     },
     "metadata": {},
     "output_type": "display_data"
    },
    {
     "data": {
      "image/png": "[encoded data removed]",
      "text/plain": [
       "<Figure size 640x480 with 1 Axes>"
      ]
     },
     "metadata": {},
     "output_type": "display_data"
    },
    {
     "data": {
      "text/plain": [
       "<Figure size 640x480 with 0 Axes>"
      ]
     },
     "metadata": {},
     "output_type": "display_data"
    }
   ],
   "source": [
    "display_training_curves(history)"
   ]
  },
  {
   "cell_type": "markdown",
   "metadata": {},
   "source": [
    "## Métriques"
   ]
  },
  {
   "cell_type": "code",
   "execution_count": 271,
   "metadata": {},
   "outputs": [
    {
     "name": "stdout",
     "output_type": "stream",
     "text": [
      "71/71 [==============================] - 1s 18ms/step\n",
      "Auc: 0.9730028227071106 \n",
      "Matrice de confusion : [[1985   44]\n",
      " [  46  174]]\n",
      "Précision : 0.7981651376146789\n",
      "Rappel : 0.7909090909090909\n",
      "Score F1 : 0.7945205479452055\n"
     ]
    }
   ],
   "source": [
    "# Affichage des métriques\n",
    "metrics = display_binary_metrics(model, X_test, y_test, 'GRU')\n",
    "\n",
    "# Enregistrement des metrics dans le dataframe\n",
    "metrics_score = pd.concat([metrics_score, pd.DataFrame.from_dict([metrics])], ignore_index=True)"
   ]
  },
  {
   "cell_type": "markdown",
   "metadata": {},
   "source": [
    "# GRU + Attention"
   ]
  },
  {
   "cell_type": "code",
   "execution_count": 272,
   "metadata": {},
   "outputs": [
    {
     "name": "stdout",
     "output_type": "stream",
     "text": [
      "Model: \"model_3\"\n",
      "__________________________________________________________________________________________________\n",
      " Layer (type)                Output Shape                 Param #   Connected to                  \n",
      "==================================================================================================\n",
      " input_4 (InputLayer)        [(None, 50)]                 0         []                            \n",
      "                                                                                                  \n",
      " embedding_16 (Embedding)    (None, 50, 300)              1437990   ['input_4[0][0]']             \n",
      "                                                          0                                       \n",
      "                                                                                                  \n",
      " spatial_dropout1d_16 (Spat  (None, 50, 300)              0         ['embedding_16[0][0]']        \n",
      " ialDropout1D)                                                                                    \n",
      "                                                                                                  \n",
      " gru_6 (GRU)                 (None, 50, 300)              541800    ['spatial_dropout1d_16[0][0]']\n",
      "                                                                                                  \n",
      " dropout_23 (Dropout)        (None, 50, 300)              0         ['gru_6[0][0]']               \n",
      "                                                                                                  \n",
      " batch_normalization_23 (Ba  (None, 50, 300)              1200      ['dropout_23[0][0]']          \n",
      " tchNormalization)                                                                                \n",
      "                                                                                                  \n",
      " attention_3 (Attention)     (None, 50, 300)              0         ['batch_normalization_23[0][0]\n",
      "                                                                    ',                            \n",
      "                                                                     'batch_normalization_23[0][0]\n",
      "                                                                    ']                            \n",
      "                                                                                                  \n",
      " flatten_3 (Flatten)         (None, 15000)                0         ['attention_3[0][0]']         \n",
      "                                                                                                  \n",
      " dense_20 (Dense)            (None, 32)                   480032    ['flatten_3[0][0]']           \n",
      "                                                                                                  \n",
      " dropout_25 (Dropout)        (None, 32)                   0         ['dense_20[0][0]']            \n",
      "                                                                                                  \n",
      " batch_normalization_25 (Ba  (None, 32)                   128       ['dropout_25[0][0]']          \n",
      " tchNormalization)                                                                                \n",
      "                                                                                                  \n",
      " dense_21 (Dense)            (None, 16)                   528       ['batch_normalization_25[0][0]\n",
      "                                                                    ']                            \n",
      "                                                                                                  \n",
      " dropout_26 (Dropout)        (None, 16)                   0         ['dense_21[0][0]']            \n",
      "                                                                                                  \n",
      " batch_normalization_26 (Ba  (None, 16)                   64        ['dropout_26[0][0]']          \n",
      " tchNormalization)                                                                                \n",
      "                                                                                                  \n",
      " dense_22 (Dense)            (None, 1)                    17        ['batch_normalization_26[0][0]\n",
      "                                                                    ']                            \n",
      "                                                                                                  \n",
      "==================================================================================================\n",
      "Total params: 15403669 (58.76 MB)\n",
      "Trainable params: 1023073 (3.90 MB)\n",
      "Non-trainable params: 14380596 (54.86 MB)\n",
      "__________________________________________________________________________________________________\n"
     ]
    }
   ],
   "source": [
    "from tensorflow.keras.layers import SpatialDropout1D, GRU, Dropout, BatchNormalization, Dense, Embedding\n",
    "from tensorflow.keras.layers import Attention, Flatten\n",
    "from tensorflow.keras.models import Model\n",
    "from tensorflow.keras import Input\n",
    "from keras import backend as K\n",
    "import tensorflow as tf\n",
    "\n",
    "\n",
    "\n",
    "# Input Layer\n",
    "input_layer = Input(shape=(max_length,))\n",
    "\n",
    "# Embedding Layer\n",
    "embedding_layer = Embedding(input_dimension, embedding_dim, weights=[embedding_matrix], input_length=max_length, trainable=False)(input_layer)\n",
    "spatial_dropout = SpatialDropout1D(0.3)(embedding_layer)\n",
    "\n",
    "# GRU Layer\n",
    "gru_layer = GRU(300, return_sequences=True)(spatial_dropout)\n",
    "dropout_layer_2 = Dropout(0.5)(gru_layer)\n",
    "batch_norm_layer_2 = BatchNormalization()(dropout_layer_2)\n",
    "\n",
    "# Attention Layer\n",
    "attention_layer = Attention()([batch_norm_layer_2, batch_norm_layer_2])\n",
    "dropout_layer_3 = Dropout(0.5)(attention_layer)\n",
    "batch_norm_layer_3 = BatchNormalization()(dropout_layer_3)\n",
    "\n",
    "# Flatten Layer\n",
    "flatten_layer = Flatten()(attention_layer)\n",
    "\n",
    "# Dense Layers\n",
    "dense_layer_1 = Dense(32, activation='relu')(flatten_layer)\n",
    "dropout_layer_1 = Dropout(0.5)(dense_layer_1)\n",
    "batch_norm_layer_1 = BatchNormalization()(dropout_layer_1)\n",
    "\n",
    "dense_layer_2 = Dense(16, activation='relu')(batch_norm_layer_1)\n",
    "dropout_layer_4 = Dropout(0.5)(dense_layer_2)\n",
    "batch_norm_layer_4 = BatchNormalization()(dropout_layer_4)\n",
    "\n",
    "output_layer = Dense(1, activation='sigmoid')(batch_norm_layer_4)\n",
    "\n",
    "# Compile model\n",
    "model = Model(inputs=input_layer, outputs=output_layer)\n",
    "\n",
    "model.summary()\n",
    "model.compile(loss=\"binary_crossentropy\", optimizer='adam', metrics=['accuracy'])"
   ]
  },
  {
   "cell_type": "code",
   "execution_count": 273,
   "metadata": {},
   "outputs": [
    {
     "name": "stdout",
     "output_type": "stream",
     "text": [
      "Epoch 1/5\n"
     ]
    },
    {
     "name": "stderr",
     "output_type": "stream",
     "text": [
      "W0000 00:00:1710514536.934769       1 op_level_cost_estimator.cc:699] Error in PredictCost() for the op: op: \"Softmax\" attr { key: \"T\" value { type: DT_FLOAT } } inputs { dtype: DT_FLOAT shape { unknown_rank: true } } device { type: \"CPU\" model: \"0\" frequency: 2400 num_cores: 12 environment { key: \"cpu_instruction_set\" value: \"ARM NEON\" } environment { key: \"eigen\" value: \"3.4.90\" } l1_cache_size: 16384 l2_cache_size: 524288 l3_cache_size: 524288 memory_size: 268435456 } outputs { dtype: DT_FLOAT shape { unknown_rank: true } }\n"
     ]
    },
    {
     "name": "stdout",
     "output_type": "stream",
     "text": [
      "100/100 [==============================] - ETA: 0s - loss: 0.5821 - accuracy: 0.6699"
     ]
    },
    {
     "name": "stderr",
     "output_type": "stream",
     "text": [
      "W0000 00:00:1710514548.664011       1 op_level_cost_estimator.cc:699] Error in PredictCost() for the op: op: \"Softmax\" attr { key: \"T\" value { type: DT_FLOAT } } inputs { dtype: DT_FLOAT shape { unknown_rank: true } } device { type: \"CPU\" model: \"0\" frequency: 2400 num_cores: 12 environment { key: \"cpu_instruction_set\" value: \"ARM NEON\" } environment { key: \"eigen\" value: \"3.4.90\" } l1_cache_size: 16384 l2_cache_size: 524288 l3_cache_size: 524288 memory_size: 268435456 } outputs { dtype: DT_FLOAT shape { unknown_rank: true } }\n"
     ]
    },
    {
     "name": "stdout",
     "output_type": "stream",
     "text": [
      "100/100 [==============================] - 13s 125ms/step - loss: 0.5821 - accuracy: 0.6699 - val_loss: 0.4115 - val_accuracy: 0.9320\n",
      "Epoch 2/5\n"
     ]
    },
    {
     "name": "stderr",
     "output_type": "stream",
     "text": [
      "/Users/antoine/miniconda3/envs/AI_CPU/lib/python3.11/site-packages/keras/src/engine/training.py:3103: UserWarning: You are saving your model as an HDF5 file via `model.save()`. This file format is considered legacy. We recommend using instead the native Keras format, e.g. `model.save('my_model.keras')`.\n",
      "  saving_api.save_model(\n"
     ]
    },
    {
     "name": "stdout",
     "output_type": "stream",
     "text": [
      "100/100 [==============================] - 14s 141ms/step - loss: 0.3934 - accuracy: 0.8560 - val_loss: 0.3170 - val_accuracy: 0.9346\n",
      "Epoch 3/5\n",
      "100/100 [==============================] - 13s 131ms/step - loss: 0.3206 - accuracy: 0.8984 - val_loss: 0.2936 - val_accuracy: 0.9213\n",
      "Epoch 4/5\n",
      "100/100 [==============================] - 15s 149ms/step - loss: 0.2942 - accuracy: 0.9170 - val_loss: 0.1387 - val_accuracy: 0.9604\n",
      "Epoch 5/5\n",
      "100/100 [==============================] - 14s 137ms/step - loss: 0.2803 - accuracy: 0.9218 - val_loss: 0.1470 - val_accuracy: 0.9582\n",
      "Training Complete\n"
     ]
    }
   ],
   "source": [
    "\n",
    "filename = 'attention.h5'\n",
    "\n",
    "# Créez une instance de ModelCheckpoint\n",
    "checkpoint = ModelCheckpoint(filename,  # chemin du fichier où sauvegarder le modèle\n",
    "                             monitor='val_loss',  # quelle métrique à surveiller\n",
    "                             verbose=0, \n",
    "                             save_best_only=True,  # ne sauvegarder que le meilleur modèle\n",
    "                             mode='auto')  # 'auto' signifie que la direction est déterminée automatiquement à partir du nom de la métrique surveillée\n",
    "\n",
    "history = model.fit(\n",
    "    X_train, \n",
    "    y_train, \n",
    "    epochs=epochs, \n",
    "    validation_data=(X_test, y_test),\n",
    "    sample_weight=sample_weights,\n",
    "    batch_size=batch_size,\n",
    "    callbacks=[checkpoint]\n",
    ")\n",
    "\n",
    "\n",
    "print(\"Training Complete\")\n",
    "\n",
    "# poids fichier de checkpoint\n",
    "model.load_weights(filename)"
   ]
  },
  {
   "cell_type": "markdown",
   "metadata": {},
   "source": [
    "## Courbes de Training et Validation"
   ]
  },
  {
   "cell_type": "code",
   "execution_count": 274,
   "metadata": {},
   "outputs": [
    {
     "data": {
      "image/png": "[encoded data removed]",
      "text/plain": [
       "<Figure size 640x480 with 1 Axes>"
      ]
     },
     "metadata": {},
     "output_type": "display_data"
    },
    {
     "data": {
      "text/plain": [
       "<Figure size 640x480 with 0 Axes>"
      ]
     },
     "metadata": {},
     "output_type": "display_data"
    },
    {
     "data": {
      "image/png": "[encoded data removed]",
      "text/plain": [
       "<Figure size 640x480 with 1 Axes>"
      ]
     },
     "metadata": {},
     "output_type": "display_data"
    },
    {
     "data": {
      "text/plain": [
       "<Figure size 640x480 with 0 Axes>"
      ]
     },
     "metadata": {},
     "output_type": "display_data"
    }
   ],
   "source": [
    "display_training_curves(history)"
   ]
  },
  {
   "cell_type": "markdown",
   "metadata": {},
   "source": [
    "## Métriques"
   ]
  },
  {
   "cell_type": "code",
   "execution_count": 275,
   "metadata": {},
   "outputs": [
    {
     "name": "stdout",
     "output_type": "stream",
     "text": [
      " 5/71 [=>............................] - ETA: 1s"
     ]
    },
    {
     "name": "stderr",
     "output_type": "stream",
     "text": [
      "W0000 00:00:1710514605.907862       1 op_level_cost_estimator.cc:699] Error in PredictCost() for the op: op: \"Softmax\" attr { key: \"T\" value { type: DT_FLOAT } } inputs { dtype: DT_FLOAT shape { unknown_rank: true } } device { type: \"CPU\" model: \"0\" frequency: 2400 num_cores: 12 environment { key: \"cpu_instruction_set\" value: \"ARM NEON\" } environment { key: \"eigen\" value: \"3.4.90\" } l1_cache_size: 16384 l2_cache_size: 524288 l3_cache_size: 524288 memory_size: 268435456 } outputs { dtype: DT_FLOAT shape { unknown_rank: true } }\n"
     ]
    },
    {
     "name": "stdout",
     "output_type": "stream",
     "text": [
      "71/71 [==============================] - 2s 27ms/step\n",
      "Auc: 0.9701801155965769 \n",
      "Matrice de confusion : [[1978   51]\n",
      " [  38  182]]\n",
      "Précision : 0.7811158798283262\n",
      "Rappel : 0.8272727272727273\n",
      "Score F1 : 0.8035320088300221\n"
     ]
    }
   ],
   "source": [
    "# Affichage des métriques\n",
    "metrics = display_binary_metrics(model, X_test, y_test, 'Attention')\n",
    "\n",
    "# Enregistrement des metrics dans le dataframe\n",
    "metrics_score = pd.concat([metrics_score, pd.DataFrame.from_dict([metrics])], ignore_index=True)"
   ]
  },
  {
   "cell_type": "markdown",
   "metadata": {},
   "source": [
    "## Comparaison des modèles \n",
    "\n",
    "Nous observons la moyenne entre 2 métriques : la ROC_AUC et le F1_score.\n",
    "\n",
    "Chacun des deux ont des points forts et des points faibles donc on choisit de prendre en compte la moyenne entre les deux.\n"
   ]
  },
  {
   "cell_type": "code",
   "execution_count": 276,
   "metadata": {},
   "outputs": [],
   "source": [
    "# mean between roc_auc and f1_score\n",
    "metrics_score['mean'] = metrics_score[['roc_auc', 'f1_score']].mean(axis=1)\n",
    "\n"
   ]
  },
  {
   "cell_type": "markdown",
   "metadata": {},
   "source": [
    "On remarque que le GRU et le Bi-LSTM sont performants.\n",
    "\n",
    "Bizarrement, le GRU ameilioré avec un Attention ne semble pas être aussi efficaces que prévu."
   ]
  },
  {
   "cell_type": "code",
   "execution_count": 277,
   "metadata": {},
   "outputs": [
    {
     "data": {
      "text/html": [
       "<div>\n",
       "<style scoped>\n",
       "    .dataframe tbody tr th:only-of-type {\n",
       "        vertical-align: middle;\n",
       "    }\n",
       "\n",
       "    .dataframe tbody tr th {\n",
       "        vertical-align: top;\n",
       "    }\n",
       "\n",
       "    .dataframe thead th {\n",
       "        text-align: right;\n",
       "    }\n",
       "</style>\n",
       "<table border=\"1\" class=\"dataframe\">\n",
       "  <thead>\n",
       "    <tr style=\"text-align: right;\">\n",
       "      <th></th>\n",
       "      <th>model</th>\n",
       "      <th>roc_auc</th>\n",
       "      <th>confusion_matrix</th>\n",
       "      <th>precision_score</th>\n",
       "      <th>recall_score</th>\n",
       "      <th>f1_score</th>\n",
       "      <th>mean</th>\n",
       "    </tr>\n",
       "  </thead>\n",
       "  <tbody>\n",
       "    <tr>\n",
       "      <th>6</th>\n",
       "      <td>Attention</td>\n",
       "      <td>0.970180</td>\n",
       "      <td>[[1978, 51], [38, 182]]</td>\n",
       "      <td>0.781116</td>\n",
       "      <td>0.827273</td>\n",
       "      <td>0.803532</td>\n",
       "      <td>0.886856</td>\n",
       "    </tr>\n",
       "    <tr>\n",
       "      <th>5</th>\n",
       "      <td>GRU</td>\n",
       "      <td>0.973003</td>\n",
       "      <td>[[1985, 44], [46, 174]]</td>\n",
       "      <td>0.798165</td>\n",
       "      <td>0.790909</td>\n",
       "      <td>0.794521</td>\n",
       "      <td>0.883762</td>\n",
       "    </tr>\n",
       "    <tr>\n",
       "      <th>4</th>\n",
       "      <td>Bi-LSTM</td>\n",
       "      <td>0.972250</td>\n",
       "      <td>[[1977, 52], [43, 177]]</td>\n",
       "      <td>0.772926</td>\n",
       "      <td>0.804545</td>\n",
       "      <td>0.788419</td>\n",
       "      <td>0.880334</td>\n",
       "    </tr>\n",
       "    <tr>\n",
       "      <th>3</th>\n",
       "      <td>LSTM</td>\n",
       "      <td>0.966661</td>\n",
       "      <td>[[1959, 70], [36, 184]]</td>\n",
       "      <td>0.724409</td>\n",
       "      <td>0.836364</td>\n",
       "      <td>0.776371</td>\n",
       "      <td>0.871516</td>\n",
       "    </tr>\n",
       "    <tr>\n",
       "      <th>0</th>\n",
       "      <td>RandomForestClassifier</td>\n",
       "      <td>0.682489</td>\n",
       "      <td>[[1987, 15], [155, 92]]</td>\n",
       "      <td>0.859813</td>\n",
       "      <td>0.372470</td>\n",
       "      <td>0.519774</td>\n",
       "      <td>0.601131</td>\n",
       "    </tr>\n",
       "    <tr>\n",
       "      <th>2</th>\n",
       "      <td>RNN</td>\n",
       "      <td>0.772461</td>\n",
       "      <td>[[1009, 1020], [32, 188]]</td>\n",
       "      <td>0.155629</td>\n",
       "      <td>0.854545</td>\n",
       "      <td>0.263305</td>\n",
       "      <td>0.517883</td>\n",
       "    </tr>\n",
       "    <tr>\n",
       "      <th>1</th>\n",
       "      <td>RNN (No GloVe)</td>\n",
       "      <td>0.641979</td>\n",
       "      <td>[[2024, 5], [218, 2]]</td>\n",
       "      <td>0.285714</td>\n",
       "      <td>0.009091</td>\n",
       "      <td>0.017621</td>\n",
       "      <td>0.329800</td>\n",
       "    </tr>\n",
       "  </tbody>\n",
       "</table>\n",
       "</div>"
      ],
      "text/plain": [
       "                    model   roc_auc           confusion_matrix  \\\n",
       "6               Attention  0.970180    [[1978, 51], [38, 182]]   \n",
       "5                     GRU  0.973003    [[1985, 44], [46, 174]]   \n",
       "4                 Bi-LSTM  0.972250    [[1977, 52], [43, 177]]   \n",
       "3                    LSTM  0.966661    [[1959, 70], [36, 184]]   \n",
       "0  RandomForestClassifier  0.682489    [[1987, 15], [155, 92]]   \n",
       "2                     RNN  0.772461  [[1009, 1020], [32, 188]]   \n",
       "1          RNN (No GloVe)  0.641979      [[2024, 5], [218, 2]]   \n",
       "\n",
       "   precision_score  recall_score  f1_score      mean  \n",
       "6         0.781116      0.827273  0.803532  0.886856  \n",
       "5         0.798165      0.790909  0.794521  0.883762  \n",
       "4         0.772926      0.804545  0.788419  0.880334  \n",
       "3         0.724409      0.836364  0.776371  0.871516  \n",
       "0         0.859813      0.372470  0.519774  0.601131  \n",
       "2         0.155629      0.854545  0.263305  0.517883  \n",
       "1         0.285714      0.009091  0.017621  0.329800  "
      ]
     },
     "execution_count": 277,
     "metadata": {},
     "output_type": "execute_result"
    }
   ],
   "source": [
    "# display metrics in order from best to worst by mean\n",
    "metrics_score.sort_values(by=['mean'], ascending=False)"
   ]
  },
  {
   "cell_type": "markdown",
   "metadata": {},
   "source": [
    "# Recurrent Neural Network en Multilabel Classification"
   ]
  },
  {
   "cell_type": "code",
   "execution_count": 278,
   "metadata": {},
   "outputs": [],
   "source": [
    "y = df[['toxic', 'severe_toxic', 'obscene', 'threat', 'insult', 'identity_hate', 'isToxic']]"
   ]
  },
  {
   "cell_type": "markdown",
   "metadata": {},
   "source": [
    "# Split les sequences \n",
    "on divise le jeu de donnée en données d'entrainement et de validation"
   ]
  },
  {
   "cell_type": "code",
   "execution_count": 279,
   "metadata": {},
   "outputs": [],
   "source": [
    "test_portion=.15\n",
    "\n",
    "X_train, X_test, y_train, y_test = train_test_split(padded_sequences, y, test_size=test_portion)"
   ]
  },
  {
   "cell_type": "markdown",
   "metadata": {},
   "source": [
    "# Sample Weight"
   ]
  },
  {
   "cell_type": "markdown",
   "metadata": {},
   "source": [
    "le problème dans un cas de classification multilabel c'est qu'il va essayer d'equilibrer les données en fonction de toutes les combinaisons, car dans notre cas, chaque combinaison devient une classe a part entière.\n",
    "\n",
    "Nous avons donc fait le choix de donner en parametre de compute_sample_weight, la classification binaire des données (Toxique / Non toxique) et d'eventuellement donner plus de poids aux données toxiques.\n"
   ]
  },
  {
   "cell_type": "code",
   "execution_count": 280,
   "metadata": {},
   "outputs": [],
   "source": [
    "# Si y_train est en mode multiclasse, nous devons recuperer le labels en mode binaire\n",
    "y_train_isToxic = y_train['isToxic']\n",
    "y_test_isToxic = y_test['isToxic']\n",
    "\n",
    "# Enlever la colonnes contenant les labels en mode binaire\n",
    "y_train = y_train.drop(columns=['isToxic'])\n",
    "y_test = y_test.drop(columns=['isToxic'])"
   ]
  },
  {
   "cell_type": "code",
   "execution_count": 281,
   "metadata": {},
   "outputs": [],
   "source": [
    "from sklearn.utils import compute_sample_weight\n",
    "\n",
    "# recuperer les poids des classes de manière équilibrée en fonction des classes presentes dans y_train\n",
    "sample_weights = compute_sample_weight(class_weight='balanced', y=y_train_isToxic)\n",
    "\n",
    "# augmentation des poids des commentaires toxiques\n",
    "# sample_weights[y_train_isToxic == 1] *= 1.5"
   ]
  },
  {
   "cell_type": "markdown",
   "metadata": {},
   "source": [
    "# Bi-LSTM"
   ]
  },
  {
   "cell_type": "code",
   "execution_count": 282,
   "metadata": {},
   "outputs": [
    {
     "name": "stdout",
     "output_type": "stream",
     "text": [
      "Model: \"sequential_13\"\n",
      "_________________________________________________________________\n",
      " Layer (type)                Output Shape              Param #   \n",
      "=================================================================\n",
      " embedding_17 (Embedding)    (None, 50, 300)           14379900  \n",
      "                                                                 \n",
      " spatial_dropout1d_17 (Spat  (None, 50, 300)           0         \n",
      " ialDropout1D)                                                   \n",
      "                                                                 \n",
      " bidirectional_4 (Bidirecti  (None, 600)               1442400   \n",
      " onal)                                                           \n",
      "                                                                 \n",
      " dropout_27 (Dropout)        (None, 600)               0         \n",
      "                                                                 \n",
      " batch_normalization_27 (Ba  (None, 600)               2400      \n",
      " tchNormalization)                                               \n",
      "                                                                 \n",
      " dense_23 (Dense)            (None, 6)                 3606      \n",
      "                                                                 \n",
      "=================================================================\n",
      "Total params: 15828306 (60.38 MB)\n",
      "Trainable params: 1447206 (5.52 MB)\n",
      "Non-trainable params: 14381100 (54.86 MB)\n",
      "_________________________________________________________________\n"
     ]
    }
   ],
   "source": [
    "model = Sequential()\n",
    "model.add(Embedding(input_dimension, embedding_dim, weights=[embedding_matrix], input_length=max_length, trainable=False))\n",
    "model.add(SpatialDropout1D(0.3))\n",
    "\n",
    "model.add(Bidirectional(LSTM(300)))\n",
    "model.add(Dropout(0.3))\n",
    "model.add(BatchNormalization())\n",
    "\n",
    "model.add(Dense(6, activation='sigmoid')) \n",
    "\n",
    "model.summary()"
   ]
  },
  {
   "cell_type": "code",
   "execution_count": 283,
   "metadata": {},
   "outputs": [],
   "source": [
    "model.compile(loss='binary_crossentropy', optimizer='adam', metrics=['accuracy']) "
   ]
  },
  {
   "cell_type": "code",
   "execution_count": 284,
   "metadata": {},
   "outputs": [
    {
     "name": "stdout",
     "output_type": "stream",
     "text": [
      "Epoch 1/5\n"
     ]
    },
    {
     "name": "stdout",
     "output_type": "stream",
     "text": [
      "100/100 [==============================] - 18s 166ms/step - loss: 0.5277 - accuracy: 0.3103 - val_loss: 0.2524 - val_accuracy: 0.4366\n",
      "Epoch 2/5\n"
     ]
    },
    {
     "name": "stderr",
     "output_type": "stream",
     "text": [
      "/Users/antoine/miniconda3/envs/AI_CPU/lib/python3.11/site-packages/keras/src/engine/training.py:3103: UserWarning: You are saving your model as an HDF5 file via `model.save()`. This file format is considered legacy. We recommend using instead the native Keras format, e.g. `model.save('my_model.keras')`.\n",
      "  saving_api.save_model(\n"
     ]
    },
    {
     "name": "stdout",
     "output_type": "stream",
     "text": [
      "100/100 [==============================] - 16s 159ms/step - loss: 0.2521 - accuracy: 0.4998 - val_loss: 0.1057 - val_accuracy: 0.8791\n",
      "Epoch 3/5\n",
      "100/100 [==============================] - 17s 169ms/step - loss: 0.1982 - accuracy: 0.5829 - val_loss: 0.0713 - val_accuracy: 0.8106\n",
      "Epoch 4/5\n",
      "100/100 [==============================] - 16s 162ms/step - loss: 0.1800 - accuracy: 0.6271 - val_loss: 0.0772 - val_accuracy: 0.8808\n",
      "Epoch 5/5\n",
      "100/100 [==============================] - 16s 161ms/step - loss: 0.1593 - accuracy: 0.6543 - val_loss: 0.0706 - val_accuracy: 0.8208\n",
      "Training Complete\n"
     ]
    }
   ],
   "source": [
    "filename = 'Bi-LSTM-multi.h5'\n",
    "\n",
    "# Créez une instance de ModelCheckpoint\n",
    "checkpoint = ModelCheckpoint(filename,  # chemin du fichier où sauvegarder le modèle\n",
    "                             monitor='val_loss',  # quelle métrique à surveiller\n",
    "                             verbose=0, \n",
    "                             save_best_only=True,  # ne sauvegarder que le meilleur modèle\n",
    "                             mode='auto')  # 'auto' signifie que la direction est déterminée automatiquement à partir du nom de la métrique surveillée\n",
    "\n",
    "history = model.fit(\n",
    "    X_train, \n",
    "    y_train, \n",
    "    epochs=epochs, \n",
    "    validation_data=(X_test, y_test),\n",
    "    sample_weight=sample_weights,\n",
    "    batch_size=batch_size,\n",
    "    callbacks=[checkpoint]\n",
    ")\n",
    "\n",
    "print(\"Training Complete\")\n",
    "\n",
    "# poids fichier de checkpoint\n",
    "model.load_weights(filename)"
   ]
  },
  {
   "cell_type": "markdown",
   "metadata": {},
   "source": [
    "## Courbes de Training et Validation"
   ]
  },
  {
   "cell_type": "code",
   "execution_count": 285,
   "metadata": {},
   "outputs": [
    {
     "data": {
      "image/png": "[encoded data removed]",
      "text/plain": [
       "<Figure size 640x480 with 1 Axes>"
      ]
     },
     "metadata": {},
     "output_type": "display_data"
    },
    {
     "data": {
      "text/plain": [
       "<Figure size 640x480 with 0 Axes>"
      ]
     },
     "metadata": {},
     "output_type": "display_data"
    },
    {
     "data": {
      "image/png": "[encoded data removed]",
      "text/plain": [
       "<Figure size 640x480 with 1 Axes>"
      ]
     },
     "metadata": {},
     "output_type": "display_data"
    },
    {
     "data": {
      "text/plain": [
       "<Figure size 640x480 with 0 Axes>"
      ]
     },
     "metadata": {},
     "output_type": "display_data"
    }
   ],
   "source": [
    "display_training_curves(history)"
   ]
  },
  {
   "cell_type": "markdown",
   "metadata": {},
   "source": [
    "## Métriques"
   ]
  },
  {
   "cell_type": "code",
   "execution_count": 286,
   "metadata": {},
   "outputs": [],
   "source": [
    "multi_metrics_score = pd.DataFrame(columns=['model', 'roc_auc', 'precision_score', 'recall_score', 'f1_score'])"
   ]
  },
  {
   "cell_type": "markdown",
   "metadata": {},
   "source": [
    "On va prendre le roc_auc pour chaque categories et en faire la moyenne"
   ]
  },
  {
   "cell_type": "code",
   "execution_count": 287,
   "metadata": {},
   "outputs": [],
   "source": [
    "import statistics\n",
    "\n",
    "\n",
    "def roc_auc_multilabel(y_pred, y_true):\n",
    "    # Calculer l'AUC-ROC pour chaque classe\n",
    "\n",
    "    y_pred_df = pd.DataFrame(y_pred, columns=categories)\n",
    "    y_true_df = pd.DataFrame(y_true, columns=categories)\n",
    "\n",
    "    roc_auc_list = []\n",
    "\n",
    "    for i in range(len(categories)):\n",
    "        y_true_cat = y_true_df[categories[i]]\n",
    "        y_pred_cat = y_pred_df[categories[i]]\n",
    "        roc_auc_list.append(roc_auc(y_pred_cat, y_true_cat))\n",
    "\n",
    "    return statistics.mean(roc_auc_list)\n"
   ]
  },
  {
   "cell_type": "code",
   "execution_count": 288,
   "metadata": {},
   "outputs": [],
   "source": [
    "\n",
    "def display_multi_metrics(model, X_test, y_test, name):\n",
    "    # prédictions et vraies valeurs\n",
    "    y_pred = model.predict(X_test)\n",
    "    y_true = y_test\n",
    "\n",
    "    # Affichage de l'aire sous la courbe ROC\n",
    "    roc = roc_auc_multilabel(y_pred, y_true)\n",
    "    print(f\"Auc: {roc} \")\n",
    "\n",
    "    # Arrondir les prédictions\n",
    "    y_pred = y_pred.round()\n",
    "\n",
    "    # Affichage de la précision\n",
    "    precision = precision_score(y_true, y_pred, average='weighted')\n",
    "    print(f\"Précision : {precision}\")\n",
    "\n",
    "    # Affichage du rappel\n",
    "    recall = recall_score(y_true, y_pred, average='weighted')\n",
    "    print(f\"Rappel : {recall}\")\n",
    "\n",
    "    # Affichage du score F1\n",
    "    f1 = f1_score(y_true, y_pred, average='weighted')\n",
    "    print(f\"Score F1 : {f1}\")\n",
    "\n",
    "    return {\n",
    "        'model': name,\n",
    "        'roc_auc': roc,\n",
    "        'precision_score': precision,\n",
    "        'recall_score': recall,\n",
    "        'f1_score': f1\n",
    "    }\n",
    "\n",
    "\n"
   ]
  },
  {
   "cell_type": "code",
   "execution_count": 289,
   "metadata": {},
   "outputs": [
    {
     "name": "stdout",
     "output_type": "stream",
     "text": [
      "71/71 [==============================] - 3s 34ms/step\n",
      "Auc: 0.9119186389633328 \n",
      "Précision : 0.6621918457765447\n",
      "Rappel : 0.6883910386965377\n",
      "Score F1 : 0.6493709334374221\n"
     ]
    },
    {
     "name": "stderr",
     "output_type": "stream",
     "text": [
      "/Users/antoine/miniconda3/envs/AI_CPU/lib/python3.11/site-packages/sklearn/metrics/_classification.py:1469: UndefinedMetricWarning: Precision is ill-defined and being set to 0.0 in labels with no predicted samples. Use `zero_division` parameter to control this behavior.\n",
      "  _warn_prf(average, modifier, msg_start, len(result))\n",
      "/var/folders/4h/0hgx3df95ll34vbrssxhzfvm0000gn/T/ipykernel_1135/77155544.py:5: FutureWarning: The behavior of DataFrame concatenation with empty or all-NA entries is deprecated. In a future version, this will no longer exclude empty or all-NA columns when determining the result dtypes. To retain the old behavior, exclude the relevant entries before the concat operation.\n",
      "  multi_metrics_score = pd.concat([multi_metrics_score, pd.DataFrame.from_dict([metrics])], ignore_index=True)\n"
     ]
    }
   ],
   "source": [
    "# Affichage des métriques\n",
    "metrics = display_multi_metrics(model, X_test, y_test, 'Bi-LSTM')\n",
    "\n",
    "# Enregistrement des metrics dans le dataframe\n",
    "multi_metrics_score = pd.concat([multi_metrics_score, pd.DataFrame.from_dict([metrics])], ignore_index=True)"
   ]
  },
  {
   "cell_type": "markdown",
   "metadata": {},
   "source": [
    "# GRU"
   ]
  },
  {
   "cell_type": "code",
   "execution_count": 290,
   "metadata": {},
   "outputs": [
    {
     "name": "stdout",
     "output_type": "stream",
     "text": [
      "Model: \"sequential_14\"\n",
      "_________________________________________________________________\n",
      " Layer (type)                Output Shape              Param #   \n",
      "=================================================================\n",
      " embedding_18 (Embedding)    (None, 50, 300)           14379900  \n",
      "                                                                 \n",
      " spatial_dropout1d_18 (Spat  (None, 50, 300)           0         \n",
      " ialDropout1D)                                                   \n",
      "                                                                 \n",
      " gru_7 (GRU)                 (None, 300)               541800    \n",
      "                                                                 \n",
      " dropout_28 (Dropout)        (None, 300)               0         \n",
      "                                                                 \n",
      " batch_normalization_28 (Ba  (None, 300)               1200      \n",
      " tchNormalization)                                               \n",
      "                                                                 \n",
      " dense_24 (Dense)            (None, 6)                 1806      \n",
      "                                                                 \n",
      "=================================================================\n",
      "Total params: 14924706 (56.93 MB)\n",
      "Trainable params: 544206 (2.08 MB)\n",
      "Non-trainable params: 14380500 (54.86 MB)\n",
      "_________________________________________________________________\n"
     ]
    }
   ],
   "source": [
    "model = Sequential()\n",
    "model.add(Embedding(input_dimension, embedding_dim, weights=[embedding_matrix], input_length=max_length, trainable=False))\n",
    "model.add(SpatialDropout1D(0.3))\n",
    "\n",
    "model.add(GRU(300))\n",
    "model.add(Dropout(0.3))\n",
    "model.add(BatchNormalization())\n",
    "\n",
    "# model.add(Dense(32, activation='relu'))\n",
    "# model.add(Dropout(0.3))\n",
    "# model.add(BatchNormalization())\n",
    "\n",
    "model.add(Dense(6, activation='sigmoid'))\n",
    "\n",
    "model.summary()\n",
    "model.compile(loss='binary_crossentropy', optimizer='adam', metrics=['accuracy']) "
   ]
  },
  {
   "cell_type": "code",
   "execution_count": 291,
   "metadata": {},
   "outputs": [
    {
     "name": "stdout",
     "output_type": "stream",
     "text": [
      "Epoch 1/5\n",
      "100/100 [==============================] - 11s 107ms/step - loss: 0.6218 - accuracy: 0.6511 - val_loss: 0.3475 - val_accuracy: 0.7399\n",
      "Epoch 2/5\n",
      "  1/100 [..............................] - ETA: 13s - loss: 0.4830 - accuracy: 0.7578"
     ]
    },
    {
     "name": "stderr",
     "output_type": "stream",
     "text": [
      "/Users/antoine/miniconda3/envs/AI_CPU/lib/python3.11/site-packages/keras/src/engine/training.py:3103: UserWarning: You are saving your model as an HDF5 file via `model.save()`. This file format is considered legacy. We recommend using instead the native Keras format, e.g. `model.save('my_model.keras')`.\n",
      "  saving_api.save_model(\n"
     ]
    },
    {
     "name": "stdout",
     "output_type": "stream",
     "text": [
      "100/100 [==============================] - 11s 112ms/step - loss: 0.3607 - accuracy: 0.7220 - val_loss: 0.1775 - val_accuracy: 0.9858\n",
      "Epoch 3/5\n",
      "100/100 [==============================] - 11s 108ms/step - loss: 0.2548 - accuracy: 0.7654 - val_loss: 0.1089 - val_accuracy: 0.8768\n",
      "Epoch 4/5\n",
      "100/100 [==============================] - 10s 103ms/step - loss: 0.2220 - accuracy: 0.8059 - val_loss: 0.0819 - val_accuracy: 0.8688\n",
      "Epoch 5/5\n",
      "100/100 [==============================] - 11s 109ms/step - loss: 0.2062 - accuracy: 0.8102 - val_loss: 0.1807 - val_accuracy: 0.9689\n",
      "Training Complete\n"
     ]
    }
   ],
   "source": [
    "filename = 'gru-multi.h5'\n",
    "\n",
    "# Créez une instance de ModelCheckpoint\n",
    "checkpoint = ModelCheckpoint(filename,  # chemin du fichier où sauvegarder le modèle\n",
    "                             monitor='val_loss',  # quelle métrique à surveiller\n",
    "                             verbose=0, \n",
    "                             save_best_only=True,  # ne sauvegarder que le meilleur modèle\n",
    "                             mode='auto')  # 'auto' signifie que la direction est déterminée automatiquement à partir du nom de la métrique surveillée\n",
    "\n",
    "history = model.fit(\n",
    "    X_train, \n",
    "    y_train, \n",
    "    epochs=epochs, \n",
    "    validation_data=(X_test, y_test),\n",
    "    sample_weight=sample_weights,\n",
    "    batch_size=batch_size,\n",
    "    callbacks=[checkpoint]\n",
    ")\n",
    "\n",
    "print(\"Training Complete\")\n",
    "\n",
    "# poids fichier de checkpoint\n",
    "model.load_weights(filename)"
   ]
  },
  {
   "cell_type": "markdown",
   "metadata": {},
   "source": [
    "## Courbes de Training et Validation"
   ]
  },
  {
   "cell_type": "code",
   "execution_count": 292,
   "metadata": {},
   "outputs": [
    {
     "data": {
      "image/png": "[encoded data removed]",
      "text/plain": [
       "<Figure size 640x480 with 1 Axes>"
      ]
     },
     "metadata": {},
     "output_type": "display_data"
    },
    {
     "data": {
      "text/plain": [
       "<Figure size 640x480 with 0 Axes>"
      ]
     },
     "metadata": {},
     "output_type": "display_data"
    },
    {
     "data": {
      "image/png": "[encoded data removed]",
      "text/plain": [
       "<Figure size 640x480 with 1 Axes>"
      ]
     },
     "metadata": {},
     "output_type": "display_data"
    },
    {
     "data": {
      "text/plain": [
       "<Figure size 640x480 with 0 Axes>"
      ]
     },
     "metadata": {},
     "output_type": "display_data"
    }
   ],
   "source": [
    "display_training_curves(history)"
   ]
  },
  {
   "cell_type": "markdown",
   "metadata": {},
   "source": [
    "## Métriques"
   ]
  },
  {
   "cell_type": "code",
   "execution_count": 293,
   "metadata": {},
   "outputs": [
    {
     "name": "stdout",
     "output_type": "stream",
     "text": [
      "71/71 [==============================] - 2s 23ms/step\n",
      "Auc: 0.9362411505173129 \n",
      "Précision : 0.6978125823280086\n",
      "Rappel : 0.6415478615071283\n",
      "Score F1 : 0.6473598227816334\n"
     ]
    },
    {
     "name": "stderr",
     "output_type": "stream",
     "text": [
      "/Users/antoine/miniconda3/envs/AI_CPU/lib/python3.11/site-packages/sklearn/metrics/_classification.py:1469: UndefinedMetricWarning: Precision is ill-defined and being set to 0.0 in labels with no predicted samples. Use `zero_division` parameter to control this behavior.\n",
      "  _warn_prf(average, modifier, msg_start, len(result))\n"
     ]
    }
   ],
   "source": [
    "# Affichage des métriques\n",
    "metrics = display_multi_metrics(model, X_test, y_test, 'GRU')\n",
    "\n",
    "# Enregistrement des metrics dans le dataframe\n",
    "multi_metrics_score = pd.concat([multi_metrics_score, pd.DataFrame.from_dict([metrics])], ignore_index=True)"
   ]
  },
  {
   "cell_type": "markdown",
   "metadata": {},
   "source": [
    "# Attention + GRU"
   ]
  },
  {
   "cell_type": "code",
   "execution_count": 296,
   "metadata": {},
   "outputs": [
    {
     "name": "stdout",
     "output_type": "stream",
     "text": [
      "Model: \"model_4\"\n",
      "__________________________________________________________________________________________________\n",
      " Layer (type)                Output Shape                 Param #   Connected to                  \n",
      "==================================================================================================\n",
      " input_5 (InputLayer)        [(None, 50)]                 0         []                            \n",
      "                                                                                                  \n",
      " embedding_19 (Embedding)    (None, 50, 300)              1437990   ['input_5[0][0]']             \n",
      "                                                          0                                       \n",
      "                                                                                                  \n",
      " spatial_dropout1d_19 (Spat  (None, 50, 300)              0         ['embedding_19[0][0]']        \n",
      " ialDropout1D)                                                                                    \n",
      "                                                                                                  \n",
      " gru_8 (GRU)                 (None, 50, 300)              541800    ['spatial_dropout1d_19[0][0]']\n",
      "                                                                                                  \n",
      " dropout_29 (Dropout)        (None, 50, 300)              0         ['gru_8[0][0]']               \n",
      "                                                                                                  \n",
      " batch_normalization_29 (Ba  (None, 50, 300)              1200      ['dropout_29[0][0]']          \n",
      " tchNormalization)                                                                                \n",
      "                                                                                                  \n",
      " attention_4 (Attention)     (None, 50, 300)              0         ['batch_normalization_29[0][0]\n",
      "                                                                    ',                            \n",
      "                                                                     'batch_normalization_29[0][0]\n",
      "                                                                    ']                            \n",
      "                                                                                                  \n",
      " flatten_4 (Flatten)         (None, 15000)                0         ['attention_4[0][0]']         \n",
      "                                                                                                  \n",
      " dense_25 (Dense)            (None, 32)                   480032    ['flatten_4[0][0]']           \n",
      "                                                                                                  \n",
      " dropout_31 (Dropout)        (None, 32)                   0         ['dense_25[0][0]']            \n",
      "                                                                                                  \n",
      " batch_normalization_31 (Ba  (None, 32)                   128       ['dropout_31[0][0]']          \n",
      " tchNormalization)                                                                                \n",
      "                                                                                                  \n",
      " dense_26 (Dense)            (None, 16)                   528       ['batch_normalization_31[0][0]\n",
      "                                                                    ']                            \n",
      "                                                                                                  \n",
      " dropout_32 (Dropout)        (None, 16)                   0         ['dense_26[0][0]']            \n",
      "                                                                                                  \n",
      " batch_normalization_32 (Ba  (None, 16)                   64        ['dropout_32[0][0]']          \n",
      " tchNormalization)                                                                                \n",
      "                                                                                                  \n",
      " dense_27 (Dense)            (None, 6)                    102       ['batch_normalization_32[0][0]\n",
      "                                                                    ']                            \n",
      "                                                                                                  \n",
      "==================================================================================================\n",
      "Total params: 15403754 (58.76 MB)\n",
      "Trainable params: 1023158 (3.90 MB)\n",
      "Non-trainable params: 14380596 (54.86 MB)\n",
      "__________________________________________________________________________________________________\n"
     ]
    }
   ],
   "source": [
    "from tensorflow.keras.layers import SpatialDropout1D, GRU, Dropout, BatchNormalization, Dense, Embedding\n",
    "from tensorflow.keras.layers import Attention, Flatten\n",
    "from tensorflow.keras.models import Model\n",
    "from tensorflow.keras import Input\n",
    "from keras import backend as K\n",
    "import tensorflow as tf\n",
    "\n",
    "\n",
    "\n",
    "# Input Layer\n",
    "input_layer = Input(shape=(max_length,))\n",
    "\n",
    "# Embedding Layer\n",
    "embedding_layer = Embedding(input_dimension, embedding_dim, weights=[embedding_matrix], input_length=max_length, trainable=False)(input_layer)\n",
    "spatial_dropout = SpatialDropout1D(0.3)(embedding_layer)\n",
    "\n",
    "# GRU Layer\n",
    "gru_layer = GRU(300, return_sequences=True)(spatial_dropout)\n",
    "dropout_layer_2 = Dropout(0.5)(gru_layer)\n",
    "batch_norm_layer_2 = BatchNormalization()(dropout_layer_2)\n",
    "\n",
    "# Attention Layer\n",
    "attention_layer = Attention()([batch_norm_layer_2, batch_norm_layer_2])\n",
    "dropout_layer_3 = Dropout(0.5)(attention_layer)\n",
    "batch_norm_layer_3 = BatchNormalization()(dropout_layer_3)\n",
    "\n",
    "# Flatten Layer\n",
    "flatten_layer = Flatten()(attention_layer)\n",
    "\n",
    "# Dense Layers\n",
    "dense_layer_1 = Dense(32, activation='relu')(flatten_layer)\n",
    "dropout_layer_1 = Dropout(0.5)(dense_layer_1)\n",
    "batch_norm_layer_1 = BatchNormalization()(dropout_layer_1)\n",
    "\n",
    "dense_layer_2 = Dense(16, activation='relu')(batch_norm_layer_1)\n",
    "dropout_layer_4 = Dropout(0.5)(dense_layer_2)\n",
    "batch_norm_layer_4 = BatchNormalization()(dropout_layer_4)\n",
    "\n",
    "output_layer = Dense(6, activation='sigmoid')(batch_norm_layer_4)\n",
    "\n",
    "# Compile model\n",
    "model = Model(inputs=input_layer, outputs=output_layer)\n",
    "\n",
    "model.summary()\n",
    "model.compile(loss=\"binary_crossentropy\", optimizer='adam', metrics=['accuracy'])"
   ]
  },
  {
   "cell_type": "code",
   "execution_count": 297,
   "metadata": {},
   "outputs": [
    {
     "name": "stdout",
     "output_type": "stream",
     "text": [
      "Epoch 1/5\n"
     ]
    },
    {
     "name": "stderr",
     "output_type": "stream",
     "text": [
      "W0000 00:00:1710515752.843084       1 op_level_cost_estimator.cc:699] Error in PredictCost() for the op: op: \"Softmax\" attr { key: \"T\" value { type: DT_FLOAT } } inputs { dtype: DT_FLOAT shape { unknown_rank: true } } device { type: \"CPU\" model: \"0\" frequency: 2400 num_cores: 12 environment { key: \"cpu_instruction_set\" value: \"ARM NEON\" } environment { key: \"eigen\" value: \"3.4.90\" } l1_cache_size: 16384 l2_cache_size: 524288 l3_cache_size: 524288 memory_size: 268435456 } outputs { dtype: DT_FLOAT shape { unknown_rank: true } }\n"
     ]
    },
    {
     "name": "stdout",
     "output_type": "stream",
     "text": [
      "100/100 [==============================] - ETA: 0s - loss: 0.7232 - accuracy: 0.2905"
     ]
    },
    {
     "name": "stderr",
     "output_type": "stream",
     "text": [
      "W0000 00:00:1710515766.156647       1 op_level_cost_estimator.cc:699] Error in PredictCost() for the op: op: \"Softmax\" attr { key: \"T\" value { type: DT_FLOAT } } inputs { dtype: DT_FLOAT shape { unknown_rank: true } } device { type: \"CPU\" model: \"0\" frequency: 2400 num_cores: 12 environment { key: \"cpu_instruction_set\" value: \"ARM NEON\" } environment { key: \"eigen\" value: \"3.4.90\" } l1_cache_size: 16384 l2_cache_size: 524288 l3_cache_size: 524288 memory_size: 268435456 } outputs { dtype: DT_FLOAT shape { unknown_rank: true } }\n"
     ]
    },
    {
     "name": "stdout",
     "output_type": "stream",
     "text": [
      "100/100 [==============================] - 15s 141ms/step - loss: 0.7232 - accuracy: 0.2905 - val_loss: 0.6071 - val_accuracy: 0.6376\n",
      "Epoch 2/5\n"
     ]
    },
    {
     "name": "stderr",
     "output_type": "stream",
     "text": [
      "/Users/antoine/miniconda3/envs/AI_CPU/lib/python3.11/site-packages/keras/src/engine/training.py:3103: UserWarning: You are saving your model as an HDF5 file via `model.save()`. This file format is considered legacy. We recommend using instead the native Keras format, e.g. `model.save('my_model.keras')`.\n",
      "  saving_api.save_model(\n"
     ]
    },
    {
     "name": "stdout",
     "output_type": "stream",
     "text": [
      "100/100 [==============================] - 14s 144ms/step - loss: 0.5874 - accuracy: 0.5014 - val_loss: 0.5133 - val_accuracy: 0.9213\n",
      "Epoch 3/5\n",
      "100/100 [==============================] - 14s 145ms/step - loss: 0.4762 - accuracy: 0.5740 - val_loss: 0.3538 - val_accuracy: 0.6496\n",
      "Epoch 4/5\n",
      "100/100 [==============================] - 15s 147ms/step - loss: 0.3924 - accuracy: 0.6345 - val_loss: 0.2070 - val_accuracy: 0.4335\n",
      "Epoch 5/5\n",
      "100/100 [==============================] - 14s 144ms/step - loss: 0.3428 - accuracy: 0.6710 - val_loss: 0.1546 - val_accuracy: 0.6309\n",
      "Training Complete\n"
     ]
    }
   ],
   "source": [
    "filename = 'attention-multi.h5'\n",
    "\n",
    "# Créez une instance de ModelCheckpoint\n",
    "checkpoint = ModelCheckpoint(filename,  # chemin du fichier où sauvegarder le modèle\n",
    "                             monitor='val_loss',  # quelle métrique à surveiller\n",
    "                             verbose=0, \n",
    "                             save_best_only=True,  # ne sauvegarder que le meilleur modèle\n",
    "                             mode='auto')  # 'auto' signifie que la direction est déterminée automatiquement à partir du nom de la métrique surveillée\n",
    "\n",
    "history = model.fit(\n",
    "    X_train, \n",
    "    y_train, \n",
    "    epochs=epochs, \n",
    "    validation_data=(X_test, y_test),\n",
    "    sample_weight=sample_weights,\n",
    "    batch_size=batch_size,\n",
    "    callbacks=[checkpoint]\n",
    ")\n",
    "\n",
    "print(\"Training Complete\")\n",
    "\n",
    "# poids fichier de checkpoint\n",
    "model.load_weights(filename)"
   ]
  },
  {
   "cell_type": "markdown",
   "metadata": {},
   "source": [
    "## Courbes de Training et Validation"
   ]
  },
  {
   "cell_type": "code",
   "execution_count": 298,
   "metadata": {},
   "outputs": [
    {
     "data": {
      "image/png": "[encoded data removed]",
      "text/plain": [
       "<Figure size 640x480 with 1 Axes>"
      ]
     },
     "metadata": {},
     "output_type": "display_data"
    },
    {
     "data": {
      "text/plain": [
       "<Figure size 640x480 with 0 Axes>"
      ]
     },
     "metadata": {},
     "output_type": "display_data"
    },
    {
     "data": {
      "image/png": "[encoded data removed]",
      "text/plain": [
       "<Figure size 640x480 with 1 Axes>"
      ]
     },
     "metadata": {},
     "output_type": "display_data"
    },
    {
     "data": {
      "text/plain": [
       "<Figure size 640x480 with 0 Axes>"
      ]
     },
     "metadata": {},
     "output_type": "display_data"
    }
   ],
   "source": [
    "display_training_curves(history)"
   ]
  },
  {
   "cell_type": "markdown",
   "metadata": {},
   "source": [
    "## Métriques"
   ]
  },
  {
   "cell_type": "code",
   "execution_count": 301,
   "metadata": {},
   "outputs": [
    {
     "name": "stdout",
     "output_type": "stream",
     "text": [
      "71/71 [==============================] - 2s 27ms/step\n",
      "Auc: 0.738123874678648 \n",
      "Précision : 0.2502231956030466\n",
      "Rappel : 0.3564154786150713\n",
      "Score F1 : 0.2940248415134391\n"
     ]
    },
    {
     "name": "stderr",
     "output_type": "stream",
     "text": [
      "/Users/antoine/miniconda3/envs/AI_CPU/lib/python3.11/site-packages/sklearn/metrics/_classification.py:1469: UndefinedMetricWarning: Precision is ill-defined and being set to 0.0 in labels with no predicted samples. Use `zero_division` parameter to control this behavior.\n",
      "  _warn_prf(average, modifier, msg_start, len(result))\n"
     ]
    }
   ],
   "source": [
    "# Affichage des métriques\n",
    "metrics = display_multi_metrics(model, X_test, y_test, 'Attention')\n",
    "\n",
    "# Enregistrement des metrics dans le dataframe\n",
    "multi_metrics_score = pd.concat([multi_metrics_score, pd.DataFrame.from_dict([metrics])], ignore_index=True)"
   ]
  },
  {
   "cell_type": "markdown",
   "metadata": {},
   "source": [
    "# Comparaison des modèles"
   ]
  },
  {
   "cell_type": "markdown",
   "metadata": {},
   "source": [
    "On remarque que le GRU est le modele le plus performant"
   ]
  },
  {
   "cell_type": "code",
   "execution_count": 302,
   "metadata": {},
   "outputs": [
    {
     "data": {
      "text/html": [
       "<div>\n",
       "<style scoped>\n",
       "    .dataframe tbody tr th:only-of-type {\n",
       "        vertical-align: middle;\n",
       "    }\n",
       "\n",
       "    .dataframe tbody tr th {\n",
       "        vertical-align: top;\n",
       "    }\n",
       "\n",
       "    .dataframe thead th {\n",
       "        text-align: right;\n",
       "    }\n",
       "</style>\n",
       "<table border=\"1\" class=\"dataframe\">\n",
       "  <thead>\n",
       "    <tr style=\"text-align: right;\">\n",
       "      <th></th>\n",
       "      <th>model</th>\n",
       "      <th>roc_auc</th>\n",
       "      <th>precision_score</th>\n",
       "      <th>recall_score</th>\n",
       "      <th>f1_score</th>\n",
       "      <th>mean</th>\n",
       "    </tr>\n",
       "  </thead>\n",
       "  <tbody>\n",
       "    <tr>\n",
       "      <th>1</th>\n",
       "      <td>GRU</td>\n",
       "      <td>0.936241</td>\n",
       "      <td>0.697813</td>\n",
       "      <td>0.641548</td>\n",
       "      <td>0.647360</td>\n",
       "      <td>0.791800</td>\n",
       "    </tr>\n",
       "    <tr>\n",
       "      <th>0</th>\n",
       "      <td>Bi-LSTM</td>\n",
       "      <td>0.911919</td>\n",
       "      <td>0.662192</td>\n",
       "      <td>0.688391</td>\n",
       "      <td>0.649371</td>\n",
       "      <td>0.780645</td>\n",
       "    </tr>\n",
       "    <tr>\n",
       "      <th>2</th>\n",
       "      <td>GRU</td>\n",
       "      <td>0.738124</td>\n",
       "      <td>0.250223</td>\n",
       "      <td>0.356415</td>\n",
       "      <td>0.294025</td>\n",
       "      <td>0.516074</td>\n",
       "    </tr>\n",
       "    <tr>\n",
       "      <th>3</th>\n",
       "      <td>Attention</td>\n",
       "      <td>0.738124</td>\n",
       "      <td>0.250223</td>\n",
       "      <td>0.356415</td>\n",
       "      <td>0.294025</td>\n",
       "      <td>0.516074</td>\n",
       "    </tr>\n",
       "  </tbody>\n",
       "</table>\n",
       "</div>"
      ],
      "text/plain": [
       "       model   roc_auc  precision_score  recall_score  f1_score      mean\n",
       "1        GRU  0.936241         0.697813      0.641548  0.647360  0.791800\n",
       "0    Bi-LSTM  0.911919         0.662192      0.688391  0.649371  0.780645\n",
       "2        GRU  0.738124         0.250223      0.356415  0.294025  0.516074\n",
       "3  Attention  0.738124         0.250223      0.356415  0.294025  0.516074"
      ]
     },
     "execution_count": 302,
     "metadata": {},
     "output_type": "execute_result"
    }
   ],
   "source": [
    "# mean between roc_auc and f1_score\n",
    "multi_metrics_score['mean'] = multi_metrics_score[['roc_auc', 'f1_score']].mean(axis=1)\n",
    "\n",
    "# display metrics in order from best to worst by mean\n",
    "multi_metrics_score.sort_values(by=['mean'], ascending=False)\n"
   ]
  },
  {
   "cell_type": "code",
   "execution_count": 303,
   "metadata": {},
   "outputs": [
    {
     "data": {
      "text/html": [
       "<div>\n",
       "<style scoped>\n",
       "    .dataframe tbody tr th:only-of-type {\n",
       "        vertical-align: middle;\n",
       "    }\n",
       "\n",
       "    .dataframe tbody tr th {\n",
       "        vertical-align: top;\n",
       "    }\n",
       "\n",
       "    .dataframe thead th {\n",
       "        text-align: right;\n",
       "    }\n",
       "</style>\n",
       "<table border=\"1\" class=\"dataframe\">\n",
       "  <thead>\n",
       "    <tr style=\"text-align: right;\">\n",
       "      <th></th>\n",
       "      <th>model</th>\n",
       "      <th>roc_auc</th>\n",
       "      <th>confusion_matrix</th>\n",
       "      <th>precision_score</th>\n",
       "      <th>recall_score</th>\n",
       "      <th>f1_score</th>\n",
       "      <th>mean</th>\n",
       "    </tr>\n",
       "  </thead>\n",
       "  <tbody>\n",
       "    <tr>\n",
       "      <th>6</th>\n",
       "      <td>Attention</td>\n",
       "      <td>0.970180</td>\n",
       "      <td>[[1978, 51], [38, 182]]</td>\n",
       "      <td>0.781116</td>\n",
       "      <td>0.827273</td>\n",
       "      <td>0.803532</td>\n",
       "      <td>0.886856</td>\n",
       "    </tr>\n",
       "    <tr>\n",
       "      <th>5</th>\n",
       "      <td>GRU</td>\n",
       "      <td>0.973003</td>\n",
       "      <td>[[1985, 44], [46, 174]]</td>\n",
       "      <td>0.798165</td>\n",
       "      <td>0.790909</td>\n",
       "      <td>0.794521</td>\n",
       "      <td>0.883762</td>\n",
       "    </tr>\n",
       "    <tr>\n",
       "      <th>4</th>\n",
       "      <td>Bi-LSTM</td>\n",
       "      <td>0.972250</td>\n",
       "      <td>[[1977, 52], [43, 177]]</td>\n",
       "      <td>0.772926</td>\n",
       "      <td>0.804545</td>\n",
       "      <td>0.788419</td>\n",
       "      <td>0.880334</td>\n",
       "    </tr>\n",
       "    <tr>\n",
       "      <th>3</th>\n",
       "      <td>LSTM</td>\n",
       "      <td>0.966661</td>\n",
       "      <td>[[1959, 70], [36, 184]]</td>\n",
       "      <td>0.724409</td>\n",
       "      <td>0.836364</td>\n",
       "      <td>0.776371</td>\n",
       "      <td>0.871516</td>\n",
       "    </tr>\n",
       "    <tr>\n",
       "      <th>0</th>\n",
       "      <td>RandomForestClassifier</td>\n",
       "      <td>0.682489</td>\n",
       "      <td>[[1987, 15], [155, 92]]</td>\n",
       "      <td>0.859813</td>\n",
       "      <td>0.372470</td>\n",
       "      <td>0.519774</td>\n",
       "      <td>0.601131</td>\n",
       "    </tr>\n",
       "    <tr>\n",
       "      <th>2</th>\n",
       "      <td>RNN</td>\n",
       "      <td>0.772461</td>\n",
       "      <td>[[1009, 1020], [32, 188]]</td>\n",
       "      <td>0.155629</td>\n",
       "      <td>0.854545</td>\n",
       "      <td>0.263305</td>\n",
       "      <td>0.517883</td>\n",
       "    </tr>\n",
       "    <tr>\n",
       "      <th>1</th>\n",
       "      <td>RNN (No GloVe)</td>\n",
       "      <td>0.641979</td>\n",
       "      <td>[[2024, 5], [218, 2]]</td>\n",
       "      <td>0.285714</td>\n",
       "      <td>0.009091</td>\n",
       "      <td>0.017621</td>\n",
       "      <td>0.329800</td>\n",
       "    </tr>\n",
       "  </tbody>\n",
       "</table>\n",
       "</div>"
      ],
      "text/plain": [
       "                    model   roc_auc           confusion_matrix  \\\n",
       "6               Attention  0.970180    [[1978, 51], [38, 182]]   \n",
       "5                     GRU  0.973003    [[1985, 44], [46, 174]]   \n",
       "4                 Bi-LSTM  0.972250    [[1977, 52], [43, 177]]   \n",
       "3                    LSTM  0.966661    [[1959, 70], [36, 184]]   \n",
       "0  RandomForestClassifier  0.682489    [[1987, 15], [155, 92]]   \n",
       "2                     RNN  0.772461  [[1009, 1020], [32, 188]]   \n",
       "1          RNN (No GloVe)  0.641979      [[2024, 5], [218, 2]]   \n",
       "\n",
       "   precision_score  recall_score  f1_score      mean  \n",
       "6         0.781116      0.827273  0.803532  0.886856  \n",
       "5         0.798165      0.790909  0.794521  0.883762  \n",
       "4         0.772926      0.804545  0.788419  0.880334  \n",
       "3         0.724409      0.836364  0.776371  0.871516  \n",
       "0         0.859813      0.372470  0.519774  0.601131  \n",
       "2         0.155629      0.854545  0.263305  0.517883  \n",
       "1         0.285714      0.009091  0.017621  0.329800  "
      ]
     },
     "execution_count": 303,
     "metadata": {},
     "output_type": "execute_result"
    }
   ],
   "source": [
    "metrics_score.sort_values(by=['mean'], ascending=False)"
   ]
  },
  {
   "cell_type": "markdown",
   "metadata": {},
   "source": [
    "# BERT"
   ]
  }
 ],
 "metadata": {
  "kernelspec": {
   "display_name": "AI_CPU",
   "language": "python",
   "name": "python3"
  },
  "language_info": {
   "codemirror_mode": {
    "name": "ipython",
    "version": 3
   },
   "file_extension": ".py",
   "mimetype": "text/x-python",
   "name": "python",
   "nbconvert_exporter": "python",
   "pygments_lexer": "ipython3",
   "version": "3.11.5"
  }
 },
 "nbformat": 4,
 "nbformat_minor": 2
}
